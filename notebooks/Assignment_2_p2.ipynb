{
 "cells": [
  {
   "cell_type": "markdown",
   "metadata": {},
   "source": [
    "<table class=\"table table-bordered\">\n",
    "    <tr>\n",
    "        <th style=\"text-align:center; width:25%\"><img src='https://www.np.edu.sg/PublishingImages/Pages/default/odp/ICT.jpg' style=\"width: 250px; height: 125px; \"></th>\n",
    "        <th style=\"text-align:center;\"><h1>Deep Learning</h1><h2>Assignment 2 - Character Generator Model (Problem 2)</h2><h3>AY2020/21 Semester</h3></th>\n",
    "    </tr>\n",
    "</table>"
   ]
  },
  {
   "cell_type": "markdown",
   "metadata": {},
   "source": [
    "Objective: Develop a English Language Model RNN capable of generating semi-coherent English sentences"
   ]
  },
  {
   "cell_type": "code",
   "execution_count": 1,
   "metadata": {},
   "outputs": [],
   "source": [
    "DATA_DIR = \"../data\""
   ]
  },
  {
   "cell_type": "code",
   "execution_count": 2,
   "metadata": {},
   "outputs": [
    {
     "name": "stderr",
     "output_type": "stream",
     "text": [
      "Matplotlib created a temporary config/cache directory at /tmp/matplotlib-7ftg3nha because the default path (/home/jovyan/.config/matplotlib) is not a writable directory; it is highly recommended to set the MPLCONFIGDIR environment variable to a writable directory, in particular to speed up the import of Matplotlib and to better support multiprocessing.\n"
     ]
    }
   ],
   "source": [
    "# autoformat code on cell run.\n",
    "%load_ext lab_black\n",
    "# autoreload imported modules on change\n",
    "%load_ext autoreload\n",
    "%autoreload 2\n",
    "\n",
    "# Import the Required Packages\n",
    "import os\n",
    "import mlflow\n",
    "import numpy as np\n",
    "import pandas as pd\n",
    "import seaborn as sns\n",
    "import tensorflow as tf\n",
    "import matplotlib\n",
    "import matplotlib.pyplot as plt\n",
    "\n",
    "from git import Repo\n",
    "from random import randint\n",
    "from unidecode import unidecode\n",
    "from minio import Minio\n",
    "from pprint import pprint\n",
    "from zipfile import ZipFile\n",
    "from mlflow.tracking.client import MlflowClient\n",
    "from sklearn.model_selection import train_test_split\n",
    "from tensorflow.keras.utils import to_categorical, Sequence\n",
    "from tensorflow.keras.models import load_model\n",
    "from modeling import (\n",
    "    dense_classifier,\n",
    "    rnn_block,\n",
    "    compile_callbacks,\n",
    "    build_model,\n",
    "    train_eval_model,\n",
    ")\n",
    "from evaluate import extract_run_meta_metrics"
   ]
  },
  {
   "cell_type": "markdown",
   "metadata": {},
   "source": [
    "Configure access to MLFlow by setting the following environment variables:\n",
    "- `MLFLOW_TRACKING_URI` - URL to the MLFlow Tracking server.\n",
    "- `MLFLOW_S3_ENDPOINT_URL` - URL to the MLFlow S3 Backend Store\n",
    "- `MLFLOW_EXPERIMENT` - Optional. The name of the MLFlow experiment to log to.\n",
    "- `MINIO_HOST` - End to the Minio S3 Store.\n",
    "- `AWS_ACCESS_KEY_ID` - MLFlow S3 backend store Avectorsccess Key ID.\n",
    "- `AWS_SECRET_ACCESS_KEY` - MLFlow S3 backend store secret access key."
   ]
  },
  {
   "cell_type": "markdown",
   "metadata": {},
   "source": [
    "`TF_FORCE_GPU_ALLOW_GROWTH` -  Force Tensorflow to allocate GPU memory dynamically\n",
    "instead of of all at once as a workaround for this\n",
    "[cuDNN failed to initialize issue](https://github.com/tensorflow/tensorflow/issues/24828)."
   ]
  },
  {
   "cell_type": "code",
   "execution_count": 3,
   "metadata": {},
   "outputs": [
    {
     "name": "stdout",
     "output_type": "stream",
     "text": [
      "env: TF_FORCE_GPU_ALLOW_GROWTH=true\n"
     ]
    }
   ],
   "source": [
    "%env TF_FORCE_GPU_ALLOW_GROWTH=true"
   ]
  },
  {
   "cell_type": "markdown",
   "metadata": {},
   "source": [
    "Start MLFlow run with the name of the commit as fthe run name."
   ]
  },
  {
   "cell_type": "code",
   "execution_count": 4,
   "metadata": {},
   "outputs": [],
   "source": [
    "mlflow.set_experiment(os.environ.get(\"MLFLOW_EXPERIMENT\", \"staging\"))"
   ]
  },
  {
   "cell_type": "code",
   "execution_count": 5,
   "metadata": {},
   "outputs": [
    {
     "data": {
      "text/plain": [
       "<ActiveRun: >"
      ]
     },
     "execution_count": 5,
     "metadata": {},
     "output_type": "execute_result"
    }
   ],
   "source": [
    "repo = Repo(search_parent_directories=True)\n",
    "mlflow.start_run(run_name=repo.head.commit.message)"
   ]
  },
  {
   "cell_type": "markdown",
   "metadata": {},
   "source": [
    "Setup `minio` client."
   ]
  },
  {
   "cell_type": "code",
   "execution_count": 6,
   "metadata": {},
   "outputs": [],
   "source": [
    "minio = Minio(\n",
    "    endpoint=os.environ[\"MINIO_HOST\"],\n",
    "    access_key=os.environ[\"AWS_ACCESS_KEY_ID\"],\n",
    "    secret_key=os.environ[\"AWS_SECRET_ACCESS_KEY\"],\n",
    "    secure=False,\n",
    ")"
   ]
  },
  {
   "cell_type": "markdown",
   "metadata": {},
   "source": [
    "## Step 1 – Data Loading and Processing"
   ]
  },
  {
   "cell_type": "markdown",
   "metadata": {},
   "source": [
    "### 1.1 Data Loading"
   ]
  },
  {
   "cell_type": "markdown",
   "metadata": {},
   "source": [
    " Load the `THE ADVENTURES OF SHERLOCK HOLMES` text:"
   ]
  },
  {
   "cell_type": "code",
   "execution_count": 7,
   "metadata": {},
   "outputs": [],
   "source": [
    "with open(f\"{DATA_DIR}/holmes.txt\") as f:\n",
    "    holmes_text = f.read()"
   ]
  },
  {
   "cell_type": "markdown",
   "metadata": {},
   "source": [
    "### 1.2 EDA"
   ]
  },
  {
   "cell_type": "markdown",
   "metadata": {},
   "source": [
    "Take a peek at the first 5 lines:\n",
    "- a unicode character `\\ufeff` has to be replaced."
   ]
  },
  {
   "cell_type": "code",
   "execution_count": 8,
   "metadata": {},
   "outputs": [
    {
     "data": {
      "text/plain": [
       "['\\ufeffTHE ADVENTURES OF SHERLOCK HOLMES by SIR ARTHUR CONAN DOYLE',\n",
       " '',\n",
       " '   I. A Scandal in Bohemia',\n",
       " '  II. The Red-headed League',\n",
       " ' III. A Case of Identity',\n",
       " '  IV. The Boscombe Valley Mystery']"
      ]
     },
     "execution_count": 8,
     "metadata": {},
     "output_type": "execute_result"
    }
   ],
   "source": [
    "holmes_text.splitlines()[:6]"
   ]
  },
  {
   "cell_type": "markdown",
   "metadata": {},
   "source": [
    "- No. of unique characters:"
   ]
  },
  {
   "cell_type": "code",
   "execution_count": 9,
   "metadata": {},
   "outputs": [
    {
     "name": "stdout",
     "output_type": "stream",
     "text": [
      "['\\n' ' ' '!' '\"' '&' \"'\" '(' ')' ',' '-' '.' '/' '0' '1' '2' '3' '4' '5'\n",
      " '6' '7' '8' '9' ':' ';' '?' 'A' 'B' 'C' 'D' 'E' 'F' 'G' 'H' 'I' 'J' 'K'\n",
      " 'L' 'M' 'N' 'O' 'P' 'Q' 'R' 'S' 'T' 'U' 'V' 'W' 'X' 'Y' 'Z' 'a' 'b' 'c'\n",
      " 'd' 'e' 'f' 'g' 'h' 'i' 'j' 'k' 'l' 'm' 'n' 'o' 'p' 'q' 'r' 's' 't' 'u'\n",
      " 'v' 'w' 'x' 'y' 'z' 'à' 'â' 'è' 'é' '\\ufeff']\n",
      "no. of unique characters: 81\n"
     ]
    }
   ],
   "source": [
    "unique_chars = np.unique(list(holmes_text))\n",
    "print(unique_chars)\n",
    "# -1 for the `\\ufeff` character to be removed.\n",
    "n_unique_chars = len(unique_chars) - 1\n",
    "print(\"no. of unique characters:\", n_unique_chars)"
   ]
  },
  {
   "cell_type": "markdown",
   "metadata": {},
   "source": [
    "### 1.3 Data Preprocessing"
   ]
  },
  {
   "cell_type": "markdown",
   "metadata": {},
   "source": [
    "Replace unicode characters with ASCII ones:"
   ]
  },
  {
   "cell_type": "code",
   "execution_count": 10,
   "metadata": {},
   "outputs": [],
   "source": [
    "clean_holmes_text = unidecode(holmes_text)"
   ]
  },
  {
   "cell_type": "code",
   "execution_count": 11,
   "metadata": {},
   "outputs": [
    {
     "data": {
      "text/plain": [
       "['THE ADVENTURES OF SHERLOCK HOLMES by SIR ARTHUR CONAN DOYLE',\n",
       " '',\n",
       " '   I. A Scandal in Bohemia',\n",
       " '  II. The Red-headed League',\n",
       " ' III. A Case of Identity',\n",
       " '  IV. The Boscombe Valley Mystery']"
      ]
     },
     "execution_count": 11,
     "metadata": {},
     "output_type": "execute_result"
    }
   ],
   "source": [
    "clean_holmes_text.splitlines()[:6]"
   ]
  },
  {
   "cell_type": "markdown",
   "metadata": {},
   "source": [
    "Compile a mapping from between a number and a character:"
   ]
  },
  {
   "cell_type": "code",
   "execution_count": 12,
   "metadata": {},
   "outputs": [
    {
     "name": "stdout",
     "output_type": "stream",
     "text": [
      "{'\\n': 0, ' ': 1, '!': 2, '\"': 3, '&': 4, \"'\": 5} ...\n"
     ]
    }
   ],
   "source": [
    "charset = {char: i for i, char in enumerate(unique_chars)}\n",
    "del charset[\"\\ufeff\"]\n",
    "print(dict(list(charset.items())[:6]), \"...\")"
   ]
  },
  {
   "cell_type": "markdown",
   "metadata": {},
   "source": [
    "To train a character level language model that predicts the next character, text has to processed into:\n",
    "- context - List of preceding characters as the context the model base its prediction on.\n",
    "- character - The target prediction character given the preceding context that model is trying to predict."
   ]
  },
  {
   "cell_type": "code",
   "execution_count": 13,
   "metadata": {},
   "outputs": [],
   "source": [
    "process_params = {\n",
    "    \"context_len\": 250,\n",
    "    \"charset_size\": n_unique_chars,\n",
    "}\n",
    "mlflow.log_params(process_params)"
   ]
  },
  {
   "cell_type": "code",
   "execution_count": 14,
   "metadata": {},
   "outputs": [],
   "source": [
    "def generate_context_char_idx(text, process_params):\n",
    "    \"\"\"Generate index for context and char for training a character level language model\"\"\"\n",
    "    # calculate no. of examples: (context, char) pairs\n",
    "    context_char_len = process_params[\"context_len\"] + 1\n",
    "    n_examples = len(text) - context_char_len\n",
    "\n",
    "    ctx_positions = []\n",
    "    target_char_idxs = []\n",
    "    for i_example in range(n_examples):\n",
    "        # collect positions of where the context substr start and ends\n",
    "        context_start = i_example\n",
    "        context_end = context_start + process_params[\"context_len\"]\n",
    "        ctx_positions.append((context_start, context_end))\n",
    "\n",
    "        # collect index of target prediction char\n",
    "        target_char_idxs.append(context_end)\n",
    "\n",
    "    return ctx_positions, target_char_idxs"
   ]
  },
  {
   "cell_type": "code",
   "execution_count": 15,
   "metadata": {},
   "outputs": [],
   "source": [
    "ctx_positions, target_char_idxs = generate_context_char_idx(holmes_text, process_params)"
   ]
  },
  {
   "cell_type": "markdown",
   "metadata": {},
   "source": [
    "Split the generated indices into train, valid and test subsets, reserving 5000 examples for the test set, 2500 examples for the validation set:"
   ]
  },
  {
   "cell_type": "code",
   "execution_count": 16,
   "metadata": {},
   "outputs": [],
   "source": [
    "n_test = 5000\n",
    "n_validation = 2500\n",
    "\n",
    "mlflow.log_param(\"test_size\", n_test)\n",
    "(\n",
    "    train_valid_ctx_positions,\n",
    "    test_ctx_positions,\n",
    "    train_valid_char_idxs,\n",
    "    test_char_idxs,\n",
    ") = train_test_split(ctx_positions, target_char_idxs, test_size=n_test)\n",
    "(\n",
    "    train_ctx_positions,\n",
    "    valid_ctx_positions,\n",
    "    train_char_idxs,\n",
    "    valid_char_idxs,\n",
    ") = train_test_split(\n",
    "    train_valid_ctx_positions, train_valid_char_idxs, test_size=n_validation\n",
    ")"
   ]
  },
  {
   "cell_type": "markdown",
   "metadata": {},
   "source": [
    "Use a Keras `Sequence` process at model runtime:\n",
    "- Extract the context and the target char  is computationally inexpensive, so the performance overhead should be minimal.\n",
    "- Since there is a significant amount of overlap between context characters, preprocessing the data now will result significant redundant RAM  usage."
   ]
  },
  {
   "cell_type": "code",
   "execution_count": 17,
   "metadata": {},
   "outputs": [],
   "source": [
    "class TextContext(Sequence):\n",
    "    def __init__(\n",
    "        self, ctx_positions, char_idxs, text, batch_size, charset, process_params\n",
    "    ):\n",
    "        \"\"\"\n",
    "        Create a text context data sequence useful for character level language models.\n",
    "\n",
    "        Args:\n",
    "            ctx_positions: List of positions of context in the text.\n",
    "            char_idxs: List of index of target predictio characters in the text.\n",
    "            text: Text to generate from.\n",
    "            batch_size: Size of the batchs of data to generate.\n",
    "            charset: Dictionary mapping character to int used to encode words as ints.\n",
    "            process_params: Additional Data processing parameters.\n",
    "        \"\"\"\n",
    "        self.ctx_positions = ctx_positions\n",
    "        self.char_idxs = char_idxs\n",
    "        assert len(ctx_positions) == len(char_idxs)\n",
    "\n",
    "        self.text = text\n",
    "        self.batch_size = batch_size\n",
    "        self.charset = charset\n",
    "        self.params = process_params\n",
    "\n",
    "    @property\n",
    "    def context_shape(self):\n",
    "        \"\"\"Return the shape of the processed context vector\"\"\"\n",
    "        return (self.params[\"context_len\"], self.params[\"charset_size\"])\n",
    "\n",
    "    def __len__(self):\n",
    "        # no. of examples: (context, char) pairs\n",
    "        return len(self.ctx_positions) // self.batch_size\n",
    "\n",
    "    def __getitem__(self, batch_idx):\n",
    "        \"\"\"Process text context data for the given batch at index batch_idx\"\"\"\n",
    "        contexts = []\n",
    "        target_chars = []\n",
    "\n",
    "        ctx_positions_batch = self.ctx_positions[\n",
    "            batch_idx * self.batch_size : (batch_idx + 1) * self.batch_size\n",
    "        ]\n",
    "        char_idxs_batch = self.char_idxs[\n",
    "            batch_idx * self.batch_size : (batch_idx + 1) * self.batch_size\n",
    "        ]\n",
    "\n",
    "        for context_pos, target_char_idx in zip(ctx_positions_batch, char_idxs_batch):\n",
    "\n",
    "            context_start, context_end = context_pos\n",
    "            # extract context vector\n",
    "            context = self.text[context_start:context_end]\n",
    "            context_int = [self.charset[c] for c in context]\n",
    "            contexts.append(context_int)\n",
    "\n",
    "            # extract target char\n",
    "            target_char = self.text[target_char_idx]\n",
    "            target_chars.append(self.charset[target_char])\n",
    "\n",
    "        n_classes = self.params[\"charset_size\"]\n",
    "        return (\n",
    "            to_categorical(contexts, num_classes=n_classes),\n",
    "            to_categorical(target_chars, num_classes=n_classes),\n",
    "        )"
   ]
  },
  {
   "cell_type": "code",
   "execution_count": 18,
   "metadata": {},
   "outputs": [],
   "source": [
    "train_holmes_ctx = TextContext(\n",
    "    ctx_positions=train_ctx_positions,\n",
    "    char_idxs=train_char_idxs,\n",
    "    batch_size=512,\n",
    "    text=clean_holmes_text,\n",
    "    charset=charset,\n",
    "    process_params=process_params,\n",
    ")"
   ]
  },
  {
   "cell_type": "code",
   "execution_count": 19,
   "metadata": {},
   "outputs": [
    {
     "name": "stdout",
     "output_type": "stream",
     "text": [
      "25.7 ms ± 515 µs per loop (mean ± std. dev. of 7 runs, 10 loops each)\n"
     ]
    }
   ],
   "source": [
    "%%timeit\n",
    "train_holmes_ctx.__getitem__(0)"
   ]
  },
  {
   "cell_type": "code",
   "execution_count": 20,
   "metadata": {},
   "outputs": [
    {
     "data": {
      "text/plain": [
       "(512, 250, 81)"
      ]
     },
     "execution_count": 20,
     "metadata": {},
     "output_type": "execute_result"
    }
   ],
   "source": [
    "train_holmes_ctx.__getitem__(0)[0].shape"
   ]
  },
  {
   "cell_type": "markdown",
   "metadata": {},
   "source": [
    "## Step 2 – Develop Character Generator Model"
   ]
  },
  {
   "cell_type": "markdown",
   "metadata": {},
   "source": [
    "### Building the Model"
   ]
  },
  {
   "cell_type": "code",
   "execution_count": 21,
   "metadata": {},
   "outputs": [
    {
     "name": "stdout",
     "output_type": "stream",
     "text": [
      "Model: \"model\"\n",
      "_________________________________________________________________\n",
      "Layer (type)                 Output Shape              Param #   \n",
      "=================================================================\n",
      "input_1 (InputLayer)         [(None, 250, 81)]         0         \n",
      "_________________________________________________________________\n",
      "bidirectional (Bidirectional (None, 250, 128)          74752     \n",
      "_________________________________________________________________\n",
      "layer_normalization (LayerNo (None, 250, 128)          256       \n",
      "_________________________________________________________________\n",
      "bidirectional_1 (Bidirection (None, 250, 128)          98816     \n",
      "_________________________________________________________________\n",
      "layer_normalization_1 (Layer (None, 250, 128)          256       \n",
      "_________________________________________________________________\n",
      "bidirectional_2 (Bidirection (None, 128)               98816     \n",
      "_________________________________________________________________\n",
      "layer_normalization_2 (Layer (None, 128)               256       \n",
      "_________________________________________________________________\n",
      "dense (Dense)                (None, 81)                10449     \n",
      "=================================================================\n",
      "Total params: 283,601\n",
      "Trainable params: 283,601\n",
      "Non-trainable params: 0\n",
      "_________________________________________________________________\n"
     ]
    }
   ],
   "source": [
    "build_model(\n",
    "    input_shape=train_holmes_ctx.context_shape,\n",
    "    n_classes=process_params[\"charset_size\"],\n",
    "    rnn_bidirectional=True,\n",
    ").summary()"
   ]
  },
  {
   "cell_type": "markdown",
   "metadata": {},
   "source": [
    "### Train the Model"
   ]
  },
  {
   "cell_type": "code",
   "execution_count": 22,
   "metadata": {},
   "outputs": [],
   "source": [
    "batch_size = 512\n",
    "\n",
    "train_holmes_ctx = TextContext(\n",
    "    ctx_positions=train_ctx_positions,\n",
    "    char_idxs=train_char_idxs,\n",
    "    batch_size=batch_size,\n",
    "    text=clean_holmes_text,\n",
    "    charset=charset,\n",
    "    process_params=process_params,\n",
    ")\n",
    "\n",
    "valid_holmes_ctx = TextContext(\n",
    "    ctx_positions=valid_ctx_positions,\n",
    "    char_idxs=valid_char_idxs,\n",
    "    batch_size=batch_size,\n",
    "    text=clean_holmes_text,\n",
    "    charset=charset,\n",
    "    process_params=process_params,\n",
    ")\n",
    "\n",
    "test_holmes_ctx = TextContext(\n",
    "    ctx_positions=test_ctx_positions,\n",
    "    char_idxs=test_char_idxs,\n",
    "    batch_size=batch_size,\n",
    "    text=clean_holmes_text,\n",
    "    charset=charset,\n",
    "    process_params=process_params,\n",
    ")"
   ]
  },
  {
   "cell_type": "code",
   "execution_count": 23,
   "metadata": {},
   "outputs": [
    {
     "name": "stdout",
     "output_type": "stream",
     "text": [
      "INFO:tensorflow:Using MirroredStrategy with devices ('/job:localhost/replica:0/task:0/device:GPU:0', '/job:localhost/replica:0/task:0/device:GPU:1')\n",
      "INFO:tensorflow:Reduce to /job:localhost/replica:0/task:0/device:CPU:0 then broadcast to ('/job:localhost/replica:0/task:0/device:CPU:0',).\n",
      "INFO:tensorflow:Reduce to /job:localhost/replica:0/task:0/device:CPU:0 then broadcast to ('/job:localhost/replica:0/task:0/device:CPU:0',).\n",
      "WARNING:tensorflow:sample_weight modes were coerced from\n",
      "  ...\n",
      "    to  \n",
      "  ['...']\n",
      "WARNING:tensorflow:sample_weight modes were coerced from\n",
      "  ...\n",
      "    to  \n",
      "  ['...']\n",
      "Train for 1083 steps, validate for 4 steps\n",
      "Epoch 1/30\n",
      "INFO:tensorflow:batch_all_reduce: 12 all-reduces with algorithm = hierarchical_copy, num_packs = 1, agg_small_grads_max_bytes = 0 and agg_small_grads_max_group = 10\n",
      "INFO:tensorflow:Reduce to /job:localhost/replica:0/task:0/device:CPU:0 then broadcast to ('/job:localhost/replica:0/task:0/device:CPU:0',).\n",
      "INFO:tensorflow:Reduce to /job:localhost/replica:0/task:0/device:CPU:0 then broadcast to ('/job:localhost/replica:0/task:0/device:CPU:0',).\n",
      "INFO:tensorflow:Reduce to /job:localhost/replica:0/task:0/device:CPU:0 then broadcast to ('/job:localhost/replica:0/task:0/device:CPU:0',).\n",
      "INFO:tensorflow:Reduce to /job:localhost/replica:0/task:0/device:CPU:0 then broadcast to ('/job:localhost/replica:0/task:0/device:CPU:0',).\n",
      "INFO:tensorflow:batch_all_reduce: 12 all-reduces with algorithm = hierarchical_copy, num_packs = 1, agg_small_grads_max_bytes = 0 and agg_small_grads_max_group = 10\n",
      "INFO:tensorflow:Reduce to /job:localhost/replica:0/task:0/device:CPU:0 then broadcast to ('/job:localhost/replica:0/task:0/device:CPU:0',).\n",
      "INFO:tensorflow:Reduce to /job:localhost/replica:0/task:0/device:CPU:0 then broadcast to ('/job:localhost/replica:0/task:0/device:CPU:0',).\n",
      "INFO:tensorflow:Reduce to /job:localhost/replica:0/task:0/device:CPU:0 then broadcast to ('/job:localhost/replica:0/task:0/device:CPU:0',).\n",
      "INFO:tensorflow:Reduce to /job:localhost/replica:0/task:0/device:CPU:0 then broadcast to ('/job:localhost/replica:0/task:0/device:CPU:0',).\n",
      "1083/1083 [==============================] - 756s 698ms/step - loss: 2.5132 - accuracy: 0.3260 - val_loss: 2.1452 - val_accuracy: 0.3862\n",
      "Epoch 2/30\n",
      "1083/1083 [==============================] - 746s 689ms/step - loss: 2.0434 - accuracy: 0.4147 - val_loss: 1.9631 - val_accuracy: 0.4282\n",
      "Epoch 3/30\n",
      "1083/1083 [==============================] - 747s 689ms/step - loss: 1.9054 - accuracy: 0.4454 - val_loss: 1.8724 - val_accuracy: 0.4424\n",
      "Epoch 4/30\n",
      "1083/1083 [==============================] - 746s 689ms/step - loss: 1.8230 - accuracy: 0.4653 - val_loss: 1.8066 - val_accuracy: 0.4624\n",
      "Epoch 5/30\n",
      "1083/1083 [==============================] - 750s 693ms/step - loss: 1.7644 - accuracy: 0.4797 - val_loss: 1.7658 - val_accuracy: 0.4634\n",
      "Epoch 6/30\n",
      "1083/1083 [==============================] - 750s 693ms/step - loss: 1.7186 - accuracy: 0.4920 - val_loss: 1.7241 - val_accuracy: 0.4731\n",
      "Epoch 7/30\n",
      "1083/1083 [==============================] - 748s 691ms/step - loss: 1.6804 - accuracy: 0.5019 - val_loss: 1.7009 - val_accuracy: 0.4761\n",
      "Epoch 8/30\n",
      "1083/1083 [==============================] - 752s 695ms/step - loss: 1.6487 - accuracy: 0.5097 - val_loss: 1.6657 - val_accuracy: 0.4854\n",
      "Epoch 9/30\n",
      "1083/1083 [==============================] - 747s 689ms/step - loss: 1.6214 - accuracy: 0.5170 - val_loss: 1.6446 - val_accuracy: 0.5029\n",
      "Epoch 10/30\n",
      "1083/1083 [==============================] - 749s 691ms/step - loss: 1.5975 - accuracy: 0.5239 - val_loss: 1.6216 - val_accuracy: 0.5063\n",
      "Epoch 11/30\n",
      "1083/1083 [==============================] - 750s 693ms/step - loss: 1.5768 - accuracy: 0.5294 - val_loss: 1.6055 - val_accuracy: 0.5088\n",
      "Epoch 12/30\n",
      "1083/1083 [==============================] - 749s 692ms/step - loss: 1.5578 - accuracy: 0.5348 - val_loss: 1.5976 - val_accuracy: 0.5146\n",
      "Epoch 13/30\n",
      "1083/1083 [==============================] - 747s 690ms/step - loss: 1.5412 - accuracy: 0.5387 - val_loss: 1.5754 - val_accuracy: 0.5205\n",
      "Epoch 14/30\n",
      "1083/1083 [==============================] - 747s 690ms/step - loss: 1.5257 - accuracy: 0.5431 - val_loss: 1.5652 - val_accuracy: 0.5239\n",
      "Epoch 15/30\n",
      "1083/1083 [==============================] - 747s 690ms/step - loss: 1.5118 - accuracy: 0.5471 - val_loss: 1.5575 - val_accuracy: 0.5298\n",
      "Epoch 16/30\n",
      "1083/1083 [==============================] - 748s 691ms/step - loss: 1.4984 - accuracy: 0.5505 - val_loss: 1.5465 - val_accuracy: 0.5312\n",
      "Epoch 17/30\n",
      "1083/1083 [==============================] - 754s 696ms/step - loss: 1.4864 - accuracy: 0.5539 - val_loss: 1.5375 - val_accuracy: 0.5347\n",
      "Epoch 18/30\n",
      "1083/1083 [==============================] - 749s 691ms/step - loss: 1.4751 - accuracy: 0.5567 - val_loss: 1.5278 - val_accuracy: 0.5356\n",
      "Epoch 19/30\n",
      "1083/1083 [==============================] - 749s 692ms/step - loss: 1.4644 - accuracy: 0.5597 - val_loss: 1.5144 - val_accuracy: 0.5420\n",
      "Epoch 20/30\n",
      "1083/1083 [==============================] - 752s 695ms/step - loss: 1.4543 - accuracy: 0.5623 - val_loss: 1.5131 - val_accuracy: 0.5410\n",
      "Epoch 21/30\n",
      "1083/1083 [==============================] - 747s 689ms/step - loss: 1.4450 - accuracy: 0.5653 - val_loss: 1.5063 - val_accuracy: 0.5430\n",
      "Epoch 22/30\n",
      "1083/1083 [==============================] - 748s 691ms/step - loss: 1.4361 - accuracy: 0.5673 - val_loss: 1.4971 - val_accuracy: 0.5474\n",
      "Epoch 23/30\n",
      "1083/1083 [==============================] - 752s 695ms/step - loss: 1.4275 - accuracy: 0.5696 - val_loss: 1.4962 - val_accuracy: 0.5513\n",
      "Epoch 24/30\n",
      "1083/1083 [==============================] - 752s 694ms/step - loss: 1.4194 - accuracy: 0.5718 - val_loss: 1.4848 - val_accuracy: 0.5527\n",
      "Epoch 25/30\n",
      "1083/1083 [==============================] - 747s 690ms/step - loss: 1.4117 - accuracy: 0.5739 - val_loss: 1.4800 - val_accuracy: 0.5552\n",
      "Epoch 26/30\n",
      "1083/1083 [==============================] - 750s 693ms/step - loss: 1.4041 - accuracy: 0.5758 - val_loss: 1.4762 - val_accuracy: 0.5522\n",
      "Epoch 27/30\n",
      "1083/1083 [==============================] - 750s 693ms/step - loss: 1.3968 - accuracy: 0.5776 - val_loss: 1.4692 - val_accuracy: 0.5571\n",
      "Epoch 28/30\n",
      "1083/1083 [==============================] - 743s 686ms/step - loss: 1.3888 - accuracy: 0.5790 - val_loss: 1.4654 - val_accuracy: 0.5542\n",
      "Epoch 29/30\n",
      "1083/1083 [==============================] - 743s 686ms/step - loss: 1.3803 - accuracy: 0.5808 - val_loss: 1.4611 - val_accuracy: 0.5547\n",
      "Epoch 30/30\n",
      "1083/1083 [==============================] - 744s 687ms/step - loss: 1.3725 - accuracy: 0.5824 - val_loss: 1.4555 - val_accuracy: 0.5635\n",
      "WARNING:tensorflow:sample_weight modes were coerced from\n",
      "  ...\n",
      "    to  \n",
      "  ['...']\n",
      "9/9 - 2s - loss: 1.3802 - accuracy: 0.5803\n"
     ]
    }
   ],
   "source": [
    "# train on multiple GPUs\n",
    "multi_gpu =  tf.distribute.MirroredStrategy(\n",
    "    cross_device_ops=tf.distribute.HierarchicalCopyAllReduce()\n",
    ")\n",
    "\n",
    "with multi_gpu.scope():\n",
    "    model = train_eval_model(\n",
    "        train_data=[train_holmes_ctx],\n",
    "        validation_data=valid_holmes_ctx,\n",
    "        test_data=[test_holmes_ctx],\n",
    "        build_model_fn=build_model,\n",
    "        n_classes=n_unique_chars,\n",
    "        tags={\n",
    "            \"project\": \"dl-assign-2\",\n",
    "            \"part\": \"1\",\n",
    "            \"model\": \"sentiment\",\n",
    "        },\n",
    "        input_shape=train_holmes_ctx.context_shape,\n",
    "        git_repo=Repo(search_parent_directories=True),\n",
    "        run_name=None,\n",
    "        epochs=30,\n",
    "        lr=1e-4,\n",
    "        optimizer=\"adam\",\n",
    "        sgd_momentum=0.9,\n",
    "        loss=\"categorical_crossentropy\",\n",
    "        metrics=[\n",
    "            \"accuracy\",\n",
    "        ],\n",
    "        reduce_lr_stuck=False,\n",
    "        reduce_lr_patience=5,\n",
    "        reduce_lr_factor=0.5,\n",
    "        batch_size=batch_size,\n",
    "        dropout_prob=0,\n",
    "        l2_reg=None,\n",
    "        rnn_cell=\"gru\",\n",
    "        n_rnn_units=128,\n",
    "        n_rnn_layers=2,\n",
    "        rnn_bidirectional=False,\n",
    "        rnn_activation=\"tanh\",\n",
    "        use_layer_norm=True,\n",
    "        n_dense_units=0,\n",
    "        use_batch_norm=True,\n",
    "        dense_activation=\"relu\",\n",
    "    )\n",
    "mlflow.end_run()"
   ]
  },
  {
   "cell_type": "markdown",
   "metadata": {},
   "source": [
    "### Recommend the Best Model"
   ]
  },
  {
   "cell_type": "markdown",
   "metadata": {},
   "source": [
    "`train_eval_model()` both trains model and evaluates the model on the test set:\n",
    "```python\n",
    "    # excerpt from train_eval_model() source.\n",
    "    # evaluate model\n",
    "    test_metrics = model.evaluate(*test_data, verbose=2)\n",
    "```\n",
    "The source code for `train_eval_model()` can be found [hosted here](https://github.com/mrzzy/np-dl-assign-2/blob/master/notebooks/modeling.py#L187)"
   ]
  },
  {
   "cell_type": "code",
   "execution_count": 24,
   "metadata": {},
   "outputs": [],
   "source": [
    "float_cols = [\n",
    "    \"loss\",\n",
    "    \"dropout_prob\",\n",
    "    \"n_classes\",\n",
    "    \"n_rnn_units\",\n",
    "    \"n_dense_units\",\n",
    "    \"learning_rate\",\n",
    "    \"fit_epochs\",\n",
    "    \"batch_size\",\n",
    "    \"accuracy\",\n",
    "    \"val_accuracy\",\n",
    "    \"val_loss\",\n",
    "    \"test_loss\",\n",
    "    \"test_accuracy\",\n",
    "]\n",
    "run_df, metrics_df = extract_run_meta_metrics(\n",
    "    experiment=\"np-dl-2-p2-textgen\",\n",
    "    float_cols=float_cols,\n",
    ")"
   ]
  },
  {
   "cell_type": "code",
   "execution_count": 25,
   "metadata": {},
   "outputs": [
    {
     "data": {
      "text/html": [
       "<div>\n",
       "<style scoped>\n",
       "    .dataframe tbody tr th:only-of-type {\n",
       "        vertical-align: middle;\n",
       "    }\n",
       "\n",
       "    .dataframe tbody tr th {\n",
       "        vertical-align: top;\n",
       "    }\n",
       "\n",
       "    .dataframe thead th {\n",
       "        text-align: right;\n",
       "    }\n",
       "</style>\n",
       "<table border=\"1\" class=\"dataframe\">\n",
       "  <thead>\n",
       "    <tr style=\"text-align: right;\">\n",
       "      <th></th>\n",
       "      <th>artifact_uri</th>\n",
       "      <th>time_ms</th>\n",
       "      <th>status</th>\n",
       "      <th>test_size</th>\n",
       "      <th>optimizer</th>\n",
       "      <th>loss</th>\n",
       "      <th>metrics</th>\n",
       "      <th>learning_rate</th>\n",
       "      <th>fit_epochs</th>\n",
       "      <th>batch_size</th>\n",
       "      <th>...</th>\n",
       "      <th>mlflow.log-model.history</th>\n",
       "      <th>accuracy</th>\n",
       "      <th>val_loss</th>\n",
       "      <th>val_accuracy</th>\n",
       "      <th>test_loss</th>\n",
       "      <th>test_accuracy</th>\n",
       "      <th>reduce_lr_factor</th>\n",
       "      <th>reduce_lr_patience</th>\n",
       "      <th>lr</th>\n",
       "      <th>validation_split</th>\n",
       "    </tr>\n",
       "    <tr>\n",
       "      <th>run_id</th>\n",
       "      <th></th>\n",
       "      <th></th>\n",
       "      <th></th>\n",
       "      <th></th>\n",
       "      <th></th>\n",
       "      <th></th>\n",
       "      <th></th>\n",
       "      <th></th>\n",
       "      <th></th>\n",
       "      <th></th>\n",
       "      <th></th>\n",
       "      <th></th>\n",
       "      <th></th>\n",
       "      <th></th>\n",
       "      <th></th>\n",
       "      <th></th>\n",
       "      <th></th>\n",
       "      <th></th>\n",
       "      <th></th>\n",
       "      <th></th>\n",
       "      <th></th>\n",
       "    </tr>\n",
       "  </thead>\n",
       "  <tbody>\n",
       "    <tr>\n",
       "      <th>3e62b173ab724b47907cb4ca2b3709d6</th>\n",
       "      <td>s3://mlflow/12/3e62b173ab724b47907cb4ca2b3709d...</td>\n",
       "      <td>22470752</td>\n",
       "      <td>FINISHED</td>\n",
       "      <td>5000</td>\n",
       "      <td>adam</td>\n",
       "      <td>1.372485</td>\n",
       "      <td>['accuracy']</td>\n",
       "      <td>0.0001</td>\n",
       "      <td>30.0</td>\n",
       "      <td>512.0</td>\n",
       "      <td>...</td>\n",
       "      <td>[{\"run_id\": \"3e62b173ab724b47907cb4ca2b3709d6\"...</td>\n",
       "      <td>0.582399</td>\n",
       "      <td>1.455476</td>\n",
       "      <td>0.563477</td>\n",
       "      <td>1.380190</td>\n",
       "      <td>0.580295</td>\n",
       "      <td>NaN</td>\n",
       "      <td>NaN</td>\n",
       "      <td>NaN</td>\n",
       "      <td>NaN</td>\n",
       "    </tr>\n",
       "    <tr>\n",
       "      <th>b020c8caca5344adb035a25933a50ef1</th>\n",
       "      <td>s3://mlflow/12/b020c8caca5344adb035a25933a50ef...</td>\n",
       "      <td>22126226</td>\n",
       "      <td>FINISHED</td>\n",
       "      <td>5000</td>\n",
       "      <td>adam</td>\n",
       "      <td>1.368350</td>\n",
       "      <td>['accuracy']</td>\n",
       "      <td>0.0001</td>\n",
       "      <td>30.0</td>\n",
       "      <td>512.0</td>\n",
       "      <td>...</td>\n",
       "      <td>[{\"run_id\": \"b020c8caca5344adb035a25933a50ef1\"...</td>\n",
       "      <td>0.581451</td>\n",
       "      <td>1.446868</td>\n",
       "      <td>0.555176</td>\n",
       "      <td>1.413082</td>\n",
       "      <td>0.569444</td>\n",
       "      <td>NaN</td>\n",
       "      <td>NaN</td>\n",
       "      <td>NaN</td>\n",
       "      <td>NaN</td>\n",
       "    </tr>\n",
       "    <tr>\n",
       "      <th>5fe47315757a4c7b88e08fd78bf229aa</th>\n",
       "      <td>s3://mlflow/12/5fe47315757a4c7b88e08fd78bf229a...</td>\n",
       "      <td>22174391</td>\n",
       "      <td>FINISHED</td>\n",
       "      <td>5000</td>\n",
       "      <td>adam</td>\n",
       "      <td>1.357955</td>\n",
       "      <td>['accuracy']</td>\n",
       "      <td>0.0001</td>\n",
       "      <td>30.0</td>\n",
       "      <td>512.0</td>\n",
       "      <td>...</td>\n",
       "      <td>[{\"run_id\": \"5fe47315757a4c7b88e08fd78bf229aa\"...</td>\n",
       "      <td>0.585250</td>\n",
       "      <td>1.385006</td>\n",
       "      <td>0.579590</td>\n",
       "      <td>1.404070</td>\n",
       "      <td>0.582031</td>\n",
       "      <td>NaN</td>\n",
       "      <td>NaN</td>\n",
       "      <td>NaN</td>\n",
       "      <td>NaN</td>\n",
       "    </tr>\n",
       "    <tr>\n",
       "      <th>1f1bed614ed4407bb98891e214790152</th>\n",
       "      <td>s3://mlflow/12/1f1bed614ed4407bb98891e21479015...</td>\n",
       "      <td>9147817</td>\n",
       "      <td>FINISHED</td>\n",
       "      <td>5000</td>\n",
       "      <td>adam</td>\n",
       "      <td>1.374751</td>\n",
       "      <td>['accuracy']</td>\n",
       "      <td>0.0001</td>\n",
       "      <td>30.0</td>\n",
       "      <td>512.0</td>\n",
       "      <td>...</td>\n",
       "      <td>[{\"run_id\": \"1f1bed614ed4407bb98891e214790152\"...</td>\n",
       "      <td>0.581339</td>\n",
       "      <td>1.414153</td>\n",
       "      <td>0.571289</td>\n",
       "      <td>1.436113</td>\n",
       "      <td>0.573785</td>\n",
       "      <td>NaN</td>\n",
       "      <td>NaN</td>\n",
       "      <td>NaN</td>\n",
       "      <td>NaN</td>\n",
       "    </tr>\n",
       "    <tr>\n",
       "      <th>70fdd49818674378b90383fe69daca5e</th>\n",
       "      <td>s3://mlflow/12/70fdd49818674378b90383fe69daca5...</td>\n",
       "      <td>9236808</td>\n",
       "      <td>FINISHED</td>\n",
       "      <td>5000</td>\n",
       "      <td>adam</td>\n",
       "      <td>3.103019</td>\n",
       "      <td>['accuracy']</td>\n",
       "      <td>0.0300</td>\n",
       "      <td>30.0</td>\n",
       "      <td>512.0</td>\n",
       "      <td>...</td>\n",
       "      <td>[{\"run_id\": \"70fdd49818674378b90383fe69daca5e\"...</td>\n",
       "      <td>0.168456</td>\n",
       "      <td>3.106232</td>\n",
       "      <td>0.163086</td>\n",
       "      <td>3.106003</td>\n",
       "      <td>0.165148</td>\n",
       "      <td>0.5</td>\n",
       "      <td>5</td>\n",
       "      <td>0.001875</td>\n",
       "      <td>NaN</td>\n",
       "    </tr>\n",
       "  </tbody>\n",
       "</table>\n",
       "<p>5 rows × 45 columns</p>\n",
       "</div>"
      ],
      "text/plain": [
       "                                                                       artifact_uri  \\\n",
       "run_id                                                                                \n",
       "3e62b173ab724b47907cb4ca2b3709d6  s3://mlflow/12/3e62b173ab724b47907cb4ca2b3709d...   \n",
       "b020c8caca5344adb035a25933a50ef1  s3://mlflow/12/b020c8caca5344adb035a25933a50ef...   \n",
       "5fe47315757a4c7b88e08fd78bf229aa  s3://mlflow/12/5fe47315757a4c7b88e08fd78bf229a...   \n",
       "1f1bed614ed4407bb98891e214790152  s3://mlflow/12/1f1bed614ed4407bb98891e21479015...   \n",
       "70fdd49818674378b90383fe69daca5e  s3://mlflow/12/70fdd49818674378b90383fe69daca5...   \n",
       "\n",
       "                                   time_ms    status test_size optimizer  \\\n",
       "run_id                                                                     \n",
       "3e62b173ab724b47907cb4ca2b3709d6  22470752  FINISHED      5000      adam   \n",
       "b020c8caca5344adb035a25933a50ef1  22126226  FINISHED      5000      adam   \n",
       "5fe47315757a4c7b88e08fd78bf229aa  22174391  FINISHED      5000      adam   \n",
       "1f1bed614ed4407bb98891e214790152   9147817  FINISHED      5000      adam   \n",
       "70fdd49818674378b90383fe69daca5e   9236808  FINISHED      5000      adam   \n",
       "\n",
       "                                      loss       metrics  learning_rate  \\\n",
       "run_id                                                                    \n",
       "3e62b173ab724b47907cb4ca2b3709d6  1.372485  ['accuracy']         0.0001   \n",
       "b020c8caca5344adb035a25933a50ef1  1.368350  ['accuracy']         0.0001   \n",
       "5fe47315757a4c7b88e08fd78bf229aa  1.357955  ['accuracy']         0.0001   \n",
       "1f1bed614ed4407bb98891e214790152  1.374751  ['accuracy']         0.0001   \n",
       "70fdd49818674378b90383fe69daca5e  3.103019  ['accuracy']         0.0300   \n",
       "\n",
       "                                  fit_epochs  batch_size  ...  \\\n",
       "run_id                                                    ...   \n",
       "3e62b173ab724b47907cb4ca2b3709d6        30.0       512.0  ...   \n",
       "b020c8caca5344adb035a25933a50ef1        30.0       512.0  ...   \n",
       "5fe47315757a4c7b88e08fd78bf229aa        30.0       512.0  ...   \n",
       "1f1bed614ed4407bb98891e214790152        30.0       512.0  ...   \n",
       "70fdd49818674378b90383fe69daca5e        30.0       512.0  ...   \n",
       "\n",
       "                                                           mlflow.log-model.history  \\\n",
       "run_id                                                                                \n",
       "3e62b173ab724b47907cb4ca2b3709d6  [{\"run_id\": \"3e62b173ab724b47907cb4ca2b3709d6\"...   \n",
       "b020c8caca5344adb035a25933a50ef1  [{\"run_id\": \"b020c8caca5344adb035a25933a50ef1\"...   \n",
       "5fe47315757a4c7b88e08fd78bf229aa  [{\"run_id\": \"5fe47315757a4c7b88e08fd78bf229aa\"...   \n",
       "1f1bed614ed4407bb98891e214790152  [{\"run_id\": \"1f1bed614ed4407bb98891e214790152\"...   \n",
       "70fdd49818674378b90383fe69daca5e  [{\"run_id\": \"70fdd49818674378b90383fe69daca5e\"...   \n",
       "\n",
       "                                  accuracy  val_loss  val_accuracy test_loss  \\\n",
       "run_id                                                                         \n",
       "3e62b173ab724b47907cb4ca2b3709d6  0.582399  1.455476      0.563477  1.380190   \n",
       "b020c8caca5344adb035a25933a50ef1  0.581451  1.446868      0.555176  1.413082   \n",
       "5fe47315757a4c7b88e08fd78bf229aa  0.585250  1.385006      0.579590  1.404070   \n",
       "1f1bed614ed4407bb98891e214790152  0.581339  1.414153      0.571289  1.436113   \n",
       "70fdd49818674378b90383fe69daca5e  0.168456  3.106232      0.163086  3.106003   \n",
       "\n",
       "                                  test_accuracy reduce_lr_factor  \\\n",
       "run_id                                                             \n",
       "3e62b173ab724b47907cb4ca2b3709d6       0.580295              NaN   \n",
       "b020c8caca5344adb035a25933a50ef1       0.569444              NaN   \n",
       "5fe47315757a4c7b88e08fd78bf229aa       0.582031              NaN   \n",
       "1f1bed614ed4407bb98891e214790152       0.573785              NaN   \n",
       "70fdd49818674378b90383fe69daca5e       0.165148              0.5   \n",
       "\n",
       "                                 reduce_lr_patience        lr validation_split  \n",
       "run_id                                                                          \n",
       "3e62b173ab724b47907cb4ca2b3709d6                NaN       NaN              NaN  \n",
       "b020c8caca5344adb035a25933a50ef1                NaN       NaN              NaN  \n",
       "5fe47315757a4c7b88e08fd78bf229aa                NaN       NaN              NaN  \n",
       "1f1bed614ed4407bb98891e214790152                NaN       NaN              NaN  \n",
       "70fdd49818674378b90383fe69daca5e                  5  0.001875              NaN  \n",
       "\n",
       "[5 rows x 45 columns]"
      ]
     },
     "execution_count": 25,
     "metadata": {},
     "output_type": "execute_result"
    }
   ],
   "source": [
    "run_df.head()"
   ]
  },
  {
   "cell_type": "markdown",
   "metadata": {},
   "source": [
    "Evaluate the LSTM model trained with the best set of Hyperparameters with the higest validation accuracy:"
   ]
  },
  {
   "cell_type": "code",
   "execution_count": 26,
   "metadata": {},
   "outputs": [
    {
     "name": "stdout",
     "output_type": "stream",
     "text": [
      "Top LSTM Test Loss: 1.3418815003501\n",
      "Top LSTM Test Accuracy: 0.608289957046509\n"
     ]
    }
   ],
   "source": [
    "lstm_run_df = run_df[run_df[\"rnn_cell\"] == \"lstm\"]\n",
    "lstm_top_model_id = lstm_run_df[\"val_accuracy\"].idxmax()\n",
    "lstm_top_model_metrics_df = metrics_df[metrics_df[\"run_id\"] == lstm_top_model_id]\n",
    "print(f\"Top LSTM Test Loss: {lstm_run_df.loc[lstm_top_model_id]['test_loss']}\")\n",
    "print(f\"Top LSTM Test Accuracy: {lstm_run_df.loc[lstm_top_model_id]['test_accuracy']}\")"
   ]
  },
  {
   "cell_type": "code",
   "execution_count": 27,
   "metadata": {},
   "outputs": [
    {
     "data": {
      "text/plain": [
       "<AxesSubplot:title={'center':'Loss'}, xlabel='step', ylabel='value'>"
      ]
     },
     "execution_count": 27,
     "metadata": {},
     "output_type": "execute_result"
    },
    {
     "data": {
      "image/png": "[encoded data removed]",
      "text/plain": [
       "<Figure size 432x288 with 1 Axes>"
      ]
     },
     "metadata": {
      "needs_background": "light"
     },
     "output_type": "display_data"
    }
   ],
   "source": [
    "plt.title(\"Loss\")\n",
    "sns.lineplot(\n",
    "    data=lstm_top_model_metrics_df[\n",
    "        lstm_top_model_metrics_df[\"metric\"].isin(\n",
    "            [\n",
    "                \"val_loss\",\n",
    "                \"loss\",\n",
    "            ]\n",
    "        )\n",
    "    ],\n",
    "    x=\"step\",\n",
    "    y=\"value\",\n",
    "    hue=\"metric\",\n",
    ")"
   ]
  },
  {
   "cell_type": "code",
   "execution_count": 28,
   "metadata": {},
   "outputs": [
    {
     "data": {
      "text/plain": [
       "<AxesSubplot:title={'center':'Accuracy'}, xlabel='step', ylabel='value'>"
      ]
     },
     "execution_count": 28,
     "metadata": {},
     "output_type": "execute_result"
    },
    {
     "data": {
      "image/png": "[encoded data removed]",
      "text/plain": [
       "<Figure size 432x288 with 1 Axes>"
      ]
     },
     "metadata": {
      "needs_background": "light"
     },
     "output_type": "display_data"
    }
   ],
   "source": [
    "plt.title(\"Accuracy\")\n",
    "sns.lineplot(\n",
    "    data=lstm_top_model_metrics_df[\n",
    "        lstm_top_model_metrics_df[\"metric\"].isin(\n",
    "            [\n",
    "                \"val_accuracy\",\n",
    "                \"accuracy\",\n",
    "            ]\n",
    "        )\n",
    "    ],\n",
    "    x=\"step\",\n",
    "    y=\"value\",\n",
    "    hue=\"metric\",\n",
    ")"
   ]
  },
  {
   "cell_type": "markdown",
   "metadata": {},
   "source": [
    "---\n",
    "Evaluate the GRU model trained with the best set of Hyperparameters with the highest validation accuracy: "
   ]
  },
  {
   "cell_type": "code",
   "execution_count": 29,
   "metadata": {},
   "outputs": [
    {
     "name": "stdout",
     "output_type": "stream",
     "text": [
      "Top GRU Test Loss: 1.40406976805793\n",
      "Top GRU Test Accuracy: 0.58203125\n"
     ]
    }
   ],
   "source": [
    "gru_run_df = run_df[run_df[\"rnn_cell\"] == \"gru\"]\n",
    "gru_top_model_id = gru_run_df[\"val_accuracy\"].idxmax()\n",
    "gru_top_model_metrics_df = metrics_df[metrics_df[\"run_id\"] == gru_top_model_id]\n",
    "print(f\"Top GRU Test Loss: {gru_run_df.loc[gru_top_model_id]['test_loss']}\")\n",
    "print(f\"Top GRU Test Accuracy: {gru_run_df.loc[gru_top_model_id]['test_accuracy']}\")"
   ]
  },
  {
   "cell_type": "code",
   "execution_count": 30,
   "metadata": {},
   "outputs": [
    {
     "data": {
      "text/plain": [
       "<AxesSubplot:title={'center':'Loss'}, xlabel='step', ylabel='value'>"
      ]
     },
     "execution_count": 30,
     "metadata": {},
     "output_type": "execute_result"
    },
    {
     "data": {
      "image/png": "[encoded data removed]",
      "text/plain": [
       "<Figure size 432x288 with 1 Axes>"
      ]
     },
     "metadata": {
      "needs_background": "light"
     },
     "output_type": "display_data"
    }
   ],
   "source": [
    "plt.title(\"Loss\")\n",
    "sns.lineplot(\n",
    "    data=gru_top_model_metrics_df[\n",
    "        gru_top_model_metrics_df[\"metric\"].isin(\n",
    "            [\n",
    "                \"val_loss\",\n",
    "                \"loss\",\n",
    "            ]\n",
    "        )\n",
    "    ],\n",
    "    x=\"step\",\n",
    "    y=\"value\",\n",
    "    hue=\"metric\",\n",
    ")"
   ]
  },
  {
   "cell_type": "code",
   "execution_count": 31,
   "metadata": {},
   "outputs": [
    {
     "data": {
      "text/plain": [
       "<AxesSubplot:title={'center':'Accuracy'}, xlabel='step', ylabel='value'>"
      ]
     },
     "execution_count": 31,
     "metadata": {},
     "output_type": "execute_result"
    },
    {
     "data": {
      "image/png": "[encoded data removed]",
      "text/plain": [
       "<Figure size 432x288 with 1 Axes>"
      ]
     },
     "metadata": {
      "needs_background": "light"
     },
     "output_type": "display_data"
    }
   ],
   "source": [
    "plt.title(\"Accuracy\")\n",
    "sns.lineplot(\n",
    "    data=gru_top_model_metrics_df[\n",
    "        gru_top_model_metrics_df[\"metric\"].isin(\n",
    "            [\n",
    "                \"val_accuracy\",\n",
    "                \"accuracy\",\n",
    "            ]\n",
    "        )\n",
    "    ],\n",
    "    x=\"step\",\n",
    "    y=\"value\",\n",
    "    hue=\"metric\",\n",
    ")"
   ]
  },
  {
   "cell_type": "markdown",
   "metadata": {},
   "source": [
    "# Step 3 – Use the Best Model to generate the characters / sentences"
   ]
  },
  {
   "cell_type": "markdown",
   "metadata": {},
   "source": [
    "Compare performance of LSTM vs GRU model using Test Accuracy to do Top Model Selection:\n",
    "- Using Test Accuracy, LSTM is determined to be best performing model:"
   ]
  },
  {
   "cell_type": "code",
   "execution_count": 32,
   "metadata": {},
   "outputs": [
    {
     "name": "stdout",
     "output_type": "stream",
     "text": [
      "Top LSTM Test Accuracy: 0.608289957046509\n",
      "Top GRU Test Accuracy: 0.58203125\n"
     ]
    }
   ],
   "source": [
    "print(f\"Top LSTM Test Accuracy: {lstm_run_df.loc[lstm_top_model_id]['test_accuracy']}\")\n",
    "print(f\"Top GRU Test Accuracy: {gru_run_df.loc[gru_top_model_id]['test_accuracy']}\")"
   ]
  },
  {
   "cell_type": "markdown",
   "metadata": {},
   "source": [
    "Retrieve model weights of top model:"
   ]
  },
  {
   "cell_type": "code",
   "execution_count": 33,
   "metadata": {},
   "outputs": [],
   "source": [
    "mlflow_cli = MlflowClient()\n",
    "MODELS_DIR = os.path.join(os.getcwd(), \"../models\")\n",
    "os.makedirs(MODELS_DIR, exist_ok=True)"
   ]
  },
  {
   "cell_type": "code",
   "execution_count": 34,
   "metadata": {},
   "outputs": [
    {
     "name": "stdout",
     "output_type": "stream",
     "text": [
      "CPU times: user 541 ms, sys: 8.34 ms, total: 549 ms\n",
      "Wall time: 566 ms\n"
     ]
    }
   ],
   "source": [
    "%%time\n",
    "top_model_id = lstm_top_model_id\n",
    "model_path = mlflow_cli.download_artifacts(\n",
    "    run_id=top_model_id, path=\"models/data/model.h5\"\n",
    ")\n",
    "top_model = load_model(model_path)"
   ]
  },
  {
   "cell_type": "code",
   "execution_count": 35,
   "metadata": {},
   "outputs": [],
   "source": [
    "def sample(preds, temperature=1.0):\n",
    "    \"\"\"\n",
    "    Use to draw a temperature  weighted character from the given model probablities\n",
    "    Low tempretures stick to the model's prediction while higher tempra\n",
    "    \"\"\"\n",
    "    preds = np.asarray(preds).astype(\"float64\")\n",
    "    preds = (\n",
    "        np.log(preds) / temperature\n",
    "    )  # take a log function and then divided by temperature\n",
    "    exp_preds = np.exp(preds)  # take a exp function\n",
    "    preds = exp_preds / np.sum(exp_preds)  # normalize to 1\n",
    "    probas = np.random.multinomial(\n",
    "        1, preds, 1\n",
    "    )  # roll a dice based on the probability distribution in preds\n",
    "    return np.argmax(probas)  # return to the selected \"next character\""
   ]
  },
  {
   "cell_type": "markdown",
   "metadata": {},
   "source": [
    "Generate  text using top mode at various temperatures:"
   ]
  },
  {
   "cell_type": "code",
   "execution_count": 36,
   "metadata": {},
   "outputs": [],
   "source": [
    "def generate_text(\n",
    "    model, text_len=400, temperature=1.0, process_params=process_params, charset=charset\n",
    "):\n",
    "    n_classes = len(charset)\n",
    "    reverse_charset = {int_c: char for char, int_c in charset.items()}\n",
    "    # use random seed context from text\n",
    "    seed_start = randint(0, len(holmes_text) - process_params[\"context_len\"] - 1)\n",
    "    context = holmes_text[seed_start : seed_start + process_params[\"context_len\"]]\n",
    "    gentext = f\"{context}\"\n",
    "\n",
    "    for i in range(text_len):\n",
    "        context_one_hot = np.expand_dims(\n",
    "            to_categorical([charset[c] for c in context], num_classes=n_classes),\n",
    "            axis=0,\n",
    "        )\n",
    "        preds = model.predict([context_one_hot])[0]\n",
    "        pred_idx = sample(preds, temperature=temperature)\n",
    "        pred_char = reverse_charset[pred_idx]\n",
    "        # add predicted chart to context and generated text\n",
    "        gentext += pred_char\n",
    "        context += pred_char\n",
    "        # remove first char in context to kept it at context_len\n",
    "        context = context[1:]\n",
    "\n",
    "    return gentext"
   ]
  },
  {
   "cell_type": "code",
   "execution_count": 37,
   "metadata": {},
   "outputs": [
    {
     "name": "stdout",
     "output_type": "stream",
     "text": [
      "e is nothing very instructive in\n",
      "all this. I think that I must turn to you Watson, for something\n",
      "more solid.\"\n",
      "\n",
      "\"I have very little difficulty in finding what I want,\" said I,\n",
      "\"for the facts are quite recent, and the matter struck me as\n",
      "remarkable. I have no doubt that it is a singular consultive.\"\n",
      "\n",
      "\"I have seen the security entirely and the case and the corner of\n",
      "the room and the wind and the lamp of a sharp and took at the\n",
      "roof of a hearty barred barristed and shook his head to the room and\n",
      "a strange of the colonel and a strong and of the room which he\n",
      "had been the roof and an excellent of the bed with his face and\n",
      "through the room and to th\n",
      "CPU times: user 25.5 s, sys: 156 ms, total: 25.7 s\n",
      "Wall time: 26.5 s\n"
     ]
    }
   ],
   "source": [
    "%%time\n",
    "print(generate_text(top_model, temperature=0.2, text_len=400))"
   ]
  },
  {
   "cell_type": "code",
   "execution_count": 38,
   "metadata": {},
   "outputs": [
    {
     "name": "stdout",
     "output_type": "stream",
     "text": [
      "can to serve you.\"\n",
      "\n",
      "I could see that Holmes was favourably impressed by the manner\n",
      "and speech of his new client. He looked her over in his searching\n",
      "fashion, and then composed himself, with his lids drooping and\n",
      "his finger-tips together, to listen to the road to the table.\n",
      "\n",
      "\"'There is a probable in the charm.\"\n",
      "\n",
      "\"No, no, there is not the same the sensation that the other was a\n",
      "black to the children window, with a man of a danger raise which\n",
      "he had been a small study which led to his hand and a stormad and\n",
      "helped a face of some clang of the room, and then he had no\n",
      "chorunt have almost in this chase. I was depose that there was a\n",
      "case to the oth\n",
      "CPU times: user 25.5 s, sys: 105 ms, total: 25.7 s\n",
      "Wall time: 26.2 s\n"
     ]
    }
   ],
   "source": [
    "%%time\n",
    "print(generate_text(top_model, temperature=0.5, text_len=400))"
   ]
  },
  {
   "cell_type": "code",
   "execution_count": 39,
   "metadata": {},
   "outputs": [
    {
     "name": "stdout",
     "output_type": "stream",
     "text": [
      "sideboard, and there are\n",
      "cigars in the box.\"\n",
      "\n",
      "The official detective was attired in a pea-jacket and cravat,\n",
      "which gave him a decidedly nautical appearance, and he carried a\n",
      "black canvas bag in his hand. With a short greeting he seated\n",
      "himself and linged upstire a hat to me to an end in those\n",
      "place's only attention, which surrounding secretain to many his\n",
      "ear and eyes to part a cry of crime which let me with a prompty, with\n",
      "you considerable servant yet, if you shake of my side nerves all\n",
      "also for you, then?\"\n",
      "\n",
      "\"Yes, sir,\" said Holmes, taking out at the road had been twent\n",
      "before he was servated to a rat. Afrainhir, as I won't a care in the\n",
      "sto\n",
      "CPU times: user 25.5 s, sys: 101 ms, total: 25.6 s\n",
      "Wall time: 26.2 s\n"
     ]
    }
   ],
   "source": [
    "%%time\n",
    "print(generate_text(top_model, temperature=0.8, text_len=400))"
   ]
  },
  {
   "cell_type": "code",
   "execution_count": 40,
   "metadata": {},
   "outputs": [
    {
     "name": "stdout",
     "output_type": "stream",
     "text": [
      "\"\n",
      "\n",
      "Having left Lestrade at his rooms, we drove to our hotel, where\n",
      "we found lunch upon the table. Holmes was silent and buried in\n",
      "thought with a pained expression upon his face, as one who finds\n",
      "himself in a perplexing position.\n",
      "\n",
      "\"Look here, Watson,\" he cried, \"for they were not unfortunately\n",
      "in a low defaid.\"\n",
      "\n",
      "As I was sucching as second face which have heavy and a weeks.\n",
      "Then that we should not imagine up to deduce that the case the\n",
      "next result, in a low when the also that the rest is a gentleman\n",
      "hand down little pipal to my commence by them, however, it is, Watson\n",
      "in the park. It is something than you.\"\n",
      "\n",
      "\"And which I used to learn to do. A\n",
      "CPU times: user 25.7 s, sys: 153 ms, total: 25.9 s\n",
      "Wall time: 26.5 s\n"
     ]
    }
   ],
   "source": [
    "%%time\n",
    "print(generate_text(top_model, temperature=1.0, text_len=400))"
   ]
  },
  {
   "cell_type": "code",
   "execution_count": 41,
   "metadata": {},
   "outputs": [
    {
     "name": "stdout",
     "output_type": "stream",
     "text": [
      " shuddered to\n",
      "think of that dreadful snap. Easier the other way, perhaps; and\n",
      "yet, had I the nerve to lie and look up at that deadly black\n",
      "shadow wavering down upon me? Already I was unable to stand\n",
      "erect, when my eye caught something which brought an emove the\n",
      "cheetass which I never heard me, however, that the letter St.\n",
      "He slowk uich matcuritl also. But it so, on eauration\n",
      "was this an exclany which towler in black busing\n",
      "him soon. Don't he might pushing in money. My lam bird, I\n",
      "onlyodour when I upresed. A prettion moting.\n",
      "\n",
      "Watson, we shall see her joy which makes up there. When the\n",
      "doctors?\"\n",
      "\n",
      "\"In that, Mr. Wilson?'\n",
      "\n",
      "\"'Und having neither sit\n",
      "CPU times: user 25.5 s, sys: 153 ms, total: 25.6 s\n",
      "Wall time: 26.5 s\n"
     ]
    }
   ],
   "source": [
    "%%time\n",
    "print(generate_text(top_model, temperature=1.2, text_len=400))"
   ]
  },
  {
   "cell_type": "code",
   "execution_count": 42,
   "metadata": {},
   "outputs": [
    {
     "name": "stdout",
     "output_type": "stream",
     "text": [
      " this estate, which chanced to be in\n",
      "the market, and I set myself to do a little good with my money,\n",
      "to make up for the way in which I had earned it. I married, too,\n",
      "and though my wife died young she left me my dear little Alice.\n",
      "Even when she was just as Incen't; quite more tills, I swould\n",
      "present,--works for us to Kil!\" of course to be teasoned.\"\n",
      "\n",
      "\"It's are to you,\" said Holmes; \"I thought that any co. If thew was\n",
      "intensimy?\"\n",
      "\n",
      "\"1X. Ver that you that his fresultial!' I cried; \"parts it is\n",
      "not wirring. Ha! Hum!\" said found; it did not our huse up my\n",
      "vatur. He spuked hiseoly deper.\"\n",
      "\n",
      "Whiz--we drove with the question.'\"\n",
      "\n",
      "\"I was inquiried McCart\n",
      "CPU times: user 25.5 s, sys: 86 ms, total: 25.5 s\n",
      "Wall time: 26 s\n"
     ]
    }
   ],
   "source": [
    "%%time\n",
    "print(generate_text(top_model, temperature=1.5, text_len=400))"
   ]
  }
 ],
 "metadata": {
  "kernelspec": {
   "display_name": "Python 3",
   "language": "python",
   "name": "python3"
  },
  "language_info": {
   "codemirror_mode": {
    "name": "ipython",
    "version": 3
   },
   "file_extension": ".py",
   "mimetype": "text/x-python",
   "name": "python",
   "nbconvert_exporter": "python",
   "pygments_lexer": "ipython3",
   "version": "3.6.9"
  }
 },
 "nbformat": 4,
 "nbformat_minor": 4
}
