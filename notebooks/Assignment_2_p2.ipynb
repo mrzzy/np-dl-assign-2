{
 "cells": [
  {
   "cell_type": "markdown",
   "metadata": {},
   "source": [
    "<table class=\"table table-bordered\">\n",
    "    <tr>\n",
    "        <th style=\"text-align:center; width:25%\"><img src='https://www.np.edu.sg/PublishingImages/Pages/default/odp/ICT.jpg' style=\"width: 250px; height: 125px; \"></th>\n",
    "        <th style=\"text-align:center;\"><h1>Deep Learning</h1><h2>Assignment 2 - Character Generator Model (Problem 2)</h2><h3>AY2020/21 Semester</h3></th>\n",
    "    </tr>\n",
    "</table>"
   ]
  },
  {
   "cell_type": "markdown",
   "metadata": {},
   "source": [
    "Objective: Develop a English Language Model RNN capable of generating semi-coherent English sentences"
   ]
  },
  {
   "cell_type": "code",
   "execution_count": 1,
   "metadata": {},
   "outputs": [],
   "source": [
    "DATA_DIR = \"../data\""
   ]
  },
  {
   "cell_type": "code",
   "execution_count": 2,
   "metadata": {},
   "outputs": [
    {
     "name": "stderr",
     "output_type": "stream",
     "text": [
      "Matplotlib created a temporary config/cache directory at /tmp/matplotlib-c0qih4in because the default path (/home/jovyan/.config/matplotlib) is not a writable directory; it is highly recommended to set the MPLCONFIGDIR environment variable to a writable directory, in particular to speed up the import of Matplotlib and to better support multiprocessing.\n"
     ]
    }
   ],
   "source": [
    "# autoformat code on cell run.\n",
    "%load_ext lab_black\n",
    "# autoreload imported modules on change\n",
    "%load_ext autoreload\n",
    "%autoreload 2\n",
    "\n",
    "# Import the Required Packages\n",
    "import os\n",
    "import mlflow\n",
    "import numpy as np\n",
    "import pandas as pd\n",
    "import seaborn as sns\n",
    "import tensorflow as tf\n",
    "import matplotlib\n",
    "import matplotlib.pyplot as plt\n",
    "\n",
    "from git import Repo\n",
    "from random import randint\n",
    "from unidecode import unidecode\n",
    "from minio import Minio\n",
    "from pprint import pprint\n",
    "from zipfile import ZipFile\n",
    "from mlflow.tracking.client import MlflowClient\n",
    "from sklearn.model_selection import train_test_split\n",
    "from tensorflow.keras.utils import to_categorical, Sequence\n",
    "from tensorflow.keras.models import load_model\n",
    "from modeling import (\n",
    "    dense_classifier,\n",
    "    rnn_block,\n",
    "    compile_callbacks,\n",
    "    build_model,\n",
    "    train_eval_model,\n",
    ")\n",
    "from evaluate import extract_run_meta_metrics"
   ]
  },
  {
   "cell_type": "markdown",
   "metadata": {},
   "source": [
    "Configure access to MLFlow by setting the following environment variables:\n",
    "- `MLFLOW_TRACKING_URI` - URL to the MLFlow Tracking server.\n",
    "- `MLFLOW_S3_ENDPOINT_URL` - URL to the MLFlow S3 Backend Store\n",
    "- `MLFLOW_EXPERIMENT` - Optional. The name of the MLFlow experiment to log to.\n",
    "- `MINIO_HOST` - End to the Minio S3 Store.\n",
    "- `AWS_ACCESS_KEY_ID` - MLFlow S3 backend store Avectorsccess Key ID.\n",
    "- `AWS_SECRET_ACCESS_KEY` - MLFlow S3 backend store secret access key."
   ]
  },
  {
   "cell_type": "markdown",
   "metadata": {},
   "source": [
    "`TF_FORCE_GPU_ALLOW_GROWTH` -  Force Tensorflow to allocate GPU memory dynamically\n",
    "instead of of all at once as a workaround for this\n",
    "[cuDNN failed to initialize issue](https://github.com/tensorflow/tensorflow/issues/24828)."
   ]
  },
  {
   "cell_type": "code",
   "execution_count": 3,
   "metadata": {},
   "outputs": [
    {
     "name": "stdout",
     "output_type": "stream",
     "text": [
      "env: TF_FORCE_GPU_ALLOW_GROWTH=true\n"
     ]
    }
   ],
   "source": [
    "%env TF_FORCE_GPU_ALLOW_GROWTH=true"
   ]
  },
  {
   "cell_type": "markdown",
   "metadata": {},
   "source": [
    "Start MLFlow run with the name of the commit as fthe run name."
   ]
  },
  {
   "cell_type": "code",
   "execution_count": 4,
   "metadata": {},
   "outputs": [],
   "source": [
    "mlflow.set_experiment(os.environ.get(\"MLFLOW_EXPERIMENT\", \"staging\"))"
   ]
  },
  {
   "cell_type": "code",
   "execution_count": 5,
   "metadata": {},
   "outputs": [
    {
     "data": {
      "text/plain": [
       "<ActiveRun: >"
      ]
     },
     "execution_count": 5,
     "metadata": {},
     "output_type": "execute_result"
    }
   ],
   "source": [
    "repo = Repo(search_parent_directories=True)\n",
    "mlflow.start_run(run_name=repo.head.commit.message)"
   ]
  },
  {
   "cell_type": "markdown",
   "metadata": {},
   "source": [
    "Setup `minio` client."
   ]
  },
  {
   "cell_type": "code",
   "execution_count": 6,
   "metadata": {},
   "outputs": [],
   "source": [
    "minio = Minio(\n",
    "    endpoint=os.environ[\"MINIO_HOST\"],\n",
    "    access_key=os.environ[\"AWS_ACCESS_KEY_ID\"],\n",
    "    secret_key=os.environ[\"AWS_SECRET_ACCESS_KEY\"],\n",
    "    secure=False,\n",
    ")"
   ]
  },
  {
   "cell_type": "markdown",
   "metadata": {},
   "source": [
    "## Step 1 – Data Loading and Processing"
   ]
  },
  {
   "cell_type": "markdown",
   "metadata": {},
   "source": [
    "### 1.1 Data Loading"
   ]
  },
  {
   "cell_type": "markdown",
   "metadata": {},
   "source": [
    " Load the `THE ADVENTURES OF SHERLOCK HOLMES` text:"
   ]
  },
  {
   "cell_type": "code",
   "execution_count": 7,
   "metadata": {},
   "outputs": [],
   "source": [
    "with open(f\"{DATA_DIR}/holmes.txt\") as f:\n",
    "    holmes_text = f.read()"
   ]
  },
  {
   "cell_type": "markdown",
   "metadata": {},
   "source": [
    "### 1.2 EDA"
   ]
  },
  {
   "cell_type": "markdown",
   "metadata": {},
   "source": [
    "Take a peek at the first 5 lines:\n",
    "- a unicode character `\\ufeff` has to be replaced."
   ]
  },
  {
   "cell_type": "code",
   "execution_count": 8,
   "metadata": {},
   "outputs": [
    {
     "data": {
      "text/plain": [
       "['\\ufeffTHE ADVENTURES OF SHERLOCK HOLMES by SIR ARTHUR CONAN DOYLE',\n",
       " '',\n",
       " '   I. A Scandal in Bohemia',\n",
       " '  II. The Red-headed League',\n",
       " ' III. A Case of Identity',\n",
       " '  IV. The Boscombe Valley Mystery']"
      ]
     },
     "execution_count": 8,
     "metadata": {},
     "output_type": "execute_result"
    }
   ],
   "source": [
    "holmes_text.splitlines()[:6]"
   ]
  },
  {
   "cell_type": "markdown",
   "metadata": {},
   "source": [
    "- No. of unique characters:"
   ]
  },
  {
   "cell_type": "code",
   "execution_count": 9,
   "metadata": {},
   "outputs": [
    {
     "name": "stdout",
     "output_type": "stream",
     "text": [
      "['\\n' ' ' '!' '\"' '&' \"'\" '(' ')' ',' '-' '.' '/' '0' '1' '2' '3' '4' '5'\n",
      " '6' '7' '8' '9' ':' ';' '?' 'A' 'B' 'C' 'D' 'E' 'F' 'G' 'H' 'I' 'J' 'K'\n",
      " 'L' 'M' 'N' 'O' 'P' 'Q' 'R' 'S' 'T' 'U' 'V' 'W' 'X' 'Y' 'Z' 'a' 'b' 'c'\n",
      " 'd' 'e' 'f' 'g' 'h' 'i' 'j' 'k' 'l' 'm' 'n' 'o' 'p' 'q' 'r' 's' 't' 'u'\n",
      " 'v' 'w' 'x' 'y' 'z' 'à' 'â' 'è' 'é' '\\ufeff']\n",
      "no. of unique characters: 81\n"
     ]
    }
   ],
   "source": [
    "unique_chars = np.unique(list(holmes_text))\n",
    "print(unique_chars)\n",
    "# -1 for the `\\ufeff` character to be removed.\n",
    "n_unique_chars = len(unique_chars) - 1\n",
    "print(\"no. of unique characters:\", n_unique_chars)"
   ]
  },
  {
   "cell_type": "markdown",
   "metadata": {},
   "source": [
    "### 1.3 Data Preprocessing"
   ]
  },
  {
   "cell_type": "markdown",
   "metadata": {},
   "source": [
    "Replace unicode characters with ASCII ones:"
   ]
  },
  {
   "cell_type": "code",
   "execution_count": 10,
   "metadata": {},
   "outputs": [],
   "source": [
    "clean_holmes_text = unidecode(holmes_text)"
   ]
  },
  {
   "cell_type": "code",
   "execution_count": 11,
   "metadata": {},
   "outputs": [
    {
     "data": {
      "text/plain": [
       "['THE ADVENTURES OF SHERLOCK HOLMES by SIR ARTHUR CONAN DOYLE',\n",
       " '',\n",
       " '   I. A Scandal in Bohemia',\n",
       " '  II. The Red-headed League',\n",
       " ' III. A Case of Identity',\n",
       " '  IV. The Boscombe Valley Mystery']"
      ]
     },
     "execution_count": 11,
     "metadata": {},
     "output_type": "execute_result"
    }
   ],
   "source": [
    "clean_holmes_text.splitlines()[:6]"
   ]
  },
  {
   "cell_type": "markdown",
   "metadata": {},
   "source": [
    "Compile a mapping from between a number and a character:"
   ]
  },
  {
   "cell_type": "code",
   "execution_count": 12,
   "metadata": {},
   "outputs": [
    {
     "name": "stdout",
     "output_type": "stream",
     "text": [
      "{'\\n': 0, ' ': 1, '!': 2, '\"': 3, '&': 4, \"'\": 5} ...\n"
     ]
    }
   ],
   "source": [
    "charset = {char: i for i, char in enumerate(unique_chars)}\n",
    "del charset[\"\\ufeff\"]\n",
    "print(dict(list(charset.items())[:6]), \"...\")"
   ]
  },
  {
   "cell_type": "markdown",
   "metadata": {},
   "source": [
    "To train a character level language model that predicts the next character, text has to processed into:\n",
    "- context - List of preceding characters as the context the model base its prediction on.\n",
    "- character - The target prediction character given the preceding context that model is trying to predict."
   ]
  },
  {
   "cell_type": "code",
   "execution_count": 13,
   "metadata": {},
   "outputs": [],
   "source": [
    "process_params = {\n",
    "    \"context_len\": 250,\n",
    "    \"charset_size\": n_unique_chars,\n",
    "}\n",
    "mlflow.log_params(process_params)"
   ]
  },
  {
   "cell_type": "code",
   "execution_count": 14,
   "metadata": {},
   "outputs": [],
   "source": [
    "def generate_context_char_idx(text, process_params):\n",
    "    \"\"\"Generate index for context and char for training a character level language model\"\"\"\n",
    "    # calculate no. of examples: (context, char) pairs\n",
    "    context_char_len = process_params[\"context_len\"] + 1\n",
    "    n_examples = len(text) - context_char_len\n",
    "\n",
    "    ctx_positions = []\n",
    "    target_char_idxs = []\n",
    "    for i_example in range(n_examples):\n",
    "        # collect positions of where the context substr start and ends\n",
    "        context_start = i_example\n",
    "        context_end = context_start + process_params[\"context_len\"]\n",
    "        ctx_positions.append((context_start, context_end))\n",
    "\n",
    "        # collect index of target prediction char\n",
    "        target_char_idxs.append(context_end)\n",
    "\n",
    "    return ctx_positions, target_char_idxs"
   ]
  },
  {
   "cell_type": "code",
   "execution_count": 15,
   "metadata": {},
   "outputs": [],
   "source": [
    "ctx_positions, target_char_idxs = generate_context_char_idx(holmes_text, process_params)"
   ]
  },
  {
   "cell_type": "markdown",
   "metadata": {},
   "source": [
    "Split the generated indices into train, valid and test subsets, reserving 5000 examples for the test set, 2500 examples for the validation set:"
   ]
  },
  {
   "cell_type": "code",
   "execution_count": 16,
   "metadata": {},
   "outputs": [],
   "source": [
    "n_test = 5000\n",
    "n_validation = 2500\n",
    "\n",
    "mlflow.log_param(\"test_size\", n_test)\n",
    "(\n",
    "    train_valid_ctx_positions,\n",
    "    test_ctx_positions,\n",
    "    train_valid_char_idxs,\n",
    "    test_char_idxs,\n",
    ") = train_test_split(ctx_positions, target_char_idxs, test_size=n_test)\n",
    "(\n",
    "    train_ctx_positions,\n",
    "    valid_ctx_positions,\n",
    "    train_char_idxs,\n",
    "    valid_char_idxs,\n",
    ") = train_test_split(\n",
    "    train_valid_ctx_positions, train_valid_char_idxs, test_size=n_validation\n",
    ")"
   ]
  },
  {
   "cell_type": "markdown",
   "metadata": {},
   "source": [
    "Use a Keras `Sequence` process at model runtime:\n",
    "- Extract the context and the target char  is computationally inexpensive, so the performance overhead should be minimal.\n",
    "- Since there is a significant amount of overlap between context characters, preprocessing the data now will result significant redundant RAM  usage."
   ]
  },
  {
   "cell_type": "code",
   "execution_count": 17,
   "metadata": {},
   "outputs": [],
   "source": [
    "class TextContext(Sequence):\n",
    "    def __init__(\n",
    "        self, ctx_positions, char_idxs, text, batch_size, charset, process_params\n",
    "    ):\n",
    "        \"\"\"\n",
    "        Create a text context data sequence useful for character level language models.\n",
    "\n",
    "        Args:\n",
    "            ctx_positions: List of positions of context in the text.\n",
    "            char_idxs: List of index of target predictio characters in the text.\n",
    "            text: Text to generate from.\n",
    "            batch_size: Size of the batchs of data to generate.\n",
    "            charset: Dictionary mapping character to int used to encode words as ints.\n",
    "            process_params: Additional Data processing parameters.\n",
    "        \"\"\"\n",
    "        self.ctx_positions = ctx_positions\n",
    "        self.char_idxs = char_idxs\n",
    "        assert len(ctx_positions) == len(char_idxs)\n",
    "\n",
    "        self.text = text\n",
    "        self.batch_size = batch_size\n",
    "        self.charset = charset\n",
    "        self.params = process_params\n",
    "\n",
    "    @property\n",
    "    def context_shape(self):\n",
    "        \"\"\"Return the shape of the processed context vector\"\"\"\n",
    "        return (self.params[\"context_len\"], self.params[\"charset_size\"])\n",
    "\n",
    "    def __len__(self):\n",
    "        # no. of examples: (context, char) pairs\n",
    "        return len(self.ctx_positions) // self.batch_size\n",
    "\n",
    "    def __getitem__(self, batch_idx):\n",
    "        \"\"\"Process text context data for the given batch at index batch_idx\"\"\"\n",
    "        contexts = []\n",
    "        target_chars = []\n",
    "\n",
    "        ctx_positions_batch = self.ctx_positions[\n",
    "            batch_idx * self.batch_size : (batch_idx + 1) * self.batch_size\n",
    "        ]\n",
    "        char_idxs_batch = self.char_idxs[\n",
    "            batch_idx * self.batch_size : (batch_idx + 1) * self.batch_size\n",
    "        ]\n",
    "\n",
    "        for context_pos, target_char_idx in zip(ctx_positions_batch, char_idxs_batch):\n",
    "\n",
    "            context_start, context_end = context_pos\n",
    "            # extract context vector\n",
    "            context = self.text[context_start:context_end]\n",
    "            context_int = [self.charset[c] for c in context]\n",
    "            contexts.append(context_int)\n",
    "\n",
    "            # extract target char\n",
    "            target_char = self.text[target_char_idx]\n",
    "            target_chars.append(self.charset[target_char])\n",
    "\n",
    "        n_classes = self.params[\"charset_size\"]\n",
    "        return (\n",
    "            to_categorical(contexts, num_classes=n_classes),\n",
    "            to_categorical(target_chars, num_classes=n_classes),\n",
    "        )"
   ]
  },
  {
   "cell_type": "code",
   "execution_count": 18,
   "metadata": {},
   "outputs": [],
   "source": [
    "train_holmes_ctx = TextContext(\n",
    "    ctx_positions=train_ctx_positions,\n",
    "    char_idxs=train_char_idxs,\n",
    "    batch_size=512,\n",
    "    text=clean_holmes_text,\n",
    "    charset=charset,\n",
    "    process_params=process_params,\n",
    ")"
   ]
  },
  {
   "cell_type": "code",
   "execution_count": 19,
   "metadata": {},
   "outputs": [
    {
     "name": "stdout",
     "output_type": "stream",
     "text": [
      "26.2 ms ± 1.16 ms per loop (mean ± std. dev. of 7 runs, 10 loops each)\n"
     ]
    }
   ],
   "source": [
    "%%timeit\n",
    "train_holmes_ctx.__getitem__(0)"
   ]
  },
  {
   "cell_type": "code",
   "execution_count": 20,
   "metadata": {},
   "outputs": [
    {
     "data": {
      "text/plain": [
       "(512, 250, 81)"
      ]
     },
     "execution_count": 20,
     "metadata": {},
     "output_type": "execute_result"
    }
   ],
   "source": [
    "train_holmes_ctx.__getitem__(0)[0].shape"
   ]
  },
  {
   "cell_type": "markdown",
   "metadata": {},
   "source": [
    "## Step 2 – Develop Character Generator Model"
   ]
  },
  {
   "cell_type": "markdown",
   "metadata": {},
   "source": [
    "### Building the Model"
   ]
  },
  {
   "cell_type": "code",
   "execution_count": 21,
   "metadata": {},
   "outputs": [
    {
     "name": "stdout",
     "output_type": "stream",
     "text": [
      "Model: \"model\"\n",
      "_________________________________________________________________\n",
      "Layer (type)                 Output Shape              Param #   \n",
      "=================================================================\n",
      "input_1 (InputLayer)         [(None, 250, 81)]         0         \n",
      "_________________________________________________________________\n",
      "bidirectional (Bidirectional (None, 250, 128)          74752     \n",
      "_________________________________________________________________\n",
      "layer_normalization (LayerNo (None, 250, 128)          256       \n",
      "_________________________________________________________________\n",
      "bidirectional_1 (Bidirection (None, 250, 128)          98816     \n",
      "_________________________________________________________________\n",
      "layer_normalization_1 (Layer (None, 250, 128)          256       \n",
      "_________________________________________________________________\n",
      "bidirectional_2 (Bidirection (None, 128)               98816     \n",
      "_________________________________________________________________\n",
      "layer_normalization_2 (Layer (None, 128)               256       \n",
      "_________________________________________________________________\n",
      "dense (Dense)                (None, 81)                10449     \n",
      "=================================================================\n",
      "Total params: 283,601\n",
      "Trainable params: 283,601\n",
      "Non-trainable params: 0\n",
      "_________________________________________________________________\n"
     ]
    }
   ],
   "source": [
    "build_model(\n",
    "    input_shape=train_holmes_ctx.context_shape,\n",
    "    n_classes=process_params[\"charset_size\"],\n",
    "    rnn_bidirectional=True,\n",
    ").summary()"
   ]
  },
  {
   "cell_type": "markdown",
   "metadata": {},
   "source": [
    "### Train the Model"
   ]
  },
  {
   "cell_type": "code",
   "execution_count": 22,
   "metadata": {},
   "outputs": [],
   "source": [
    "batch_size = 512\n",
    "\n",
    "train_holmes_ctx = TextContext(\n",
    "    ctx_positions=train_ctx_positions,\n",
    "    char_idxs=train_char_idxs,\n",
    "    batch_size=batch_size,\n",
    "    text=clean_holmes_text,\n",
    "    charset=charset,\n",
    "    process_params=process_params,\n",
    ")\n",
    "\n",
    "valid_holmes_ctx = TextContext(\n",
    "    ctx_positions=valid_ctx_positions,\n",
    "    char_idxs=valid_char_idxs,\n",
    "    batch_size=batch_size,\n",
    "    text=clean_holmes_text,\n",
    "    charset=charset,\n",
    "    process_params=process_params,\n",
    ")\n",
    "\n",
    "test_holmes_ctx = TextContext(\n",
    "    ctx_positions=test_ctx_positions,\n",
    "    char_idxs=test_char_idxs,\n",
    "    batch_size=batch_size,\n",
    "    text=clean_holmes_text,\n",
    "    charset=charset,\n",
    "    process_params=process_params,\n",
    ")"
   ]
  },
  {
   "cell_type": "code",
   "execution_count": 23,
   "metadata": {},
   "outputs": [
    {
     "name": "stdout",
     "output_type": "stream",
     "text": [
      "INFO:tensorflow:Using MirroredStrategy with devices ('/job:localhost/replica:0/task:0/device:GPU:0', '/job:localhost/replica:0/task:0/device:GPU:1')\n",
      "INFO:tensorflow:Reduce to /job:localhost/replica:0/task:0/device:CPU:0 then broadcast to ('/job:localhost/replica:0/task:0/device:CPU:0',).\n",
      "INFO:tensorflow:Reduce to /job:localhost/replica:0/task:0/device:CPU:0 then broadcast to ('/job:localhost/replica:0/task:0/device:CPU:0',).\n",
      "WARNING:tensorflow:sample_weight modes were coerced from\n",
      "  ...\n",
      "    to  \n",
      "  ['...']\n",
      "WARNING:tensorflow:sample_weight modes were coerced from\n",
      "  ...\n",
      "    to  \n",
      "  ['...']\n",
      "Train for 1083 steps, validate for 4 steps\n",
      "Epoch 1/30\n",
      "INFO:tensorflow:batch_all_reduce: 12 all-reduces with algorithm = hierarchical_copy, num_packs = 1, agg_small_grads_max_bytes = 0 and agg_small_grads_max_group = 10\n",
      "INFO:tensorflow:Reduce to /job:localhost/replica:0/task:0/device:CPU:0 then broadcast to ('/job:localhost/replica:0/task:0/device:CPU:0',).\n",
      "INFO:tensorflow:Reduce to /job:localhost/replica:0/task:0/device:CPU:0 then broadcast to ('/job:localhost/replica:0/task:0/device:CPU:0',).\n",
      "INFO:tensorflow:Reduce to /job:localhost/replica:0/task:0/device:CPU:0 then broadcast to ('/job:localhost/replica:0/task:0/device:CPU:0',).\n",
      "INFO:tensorflow:Reduce to /job:localhost/replica:0/task:0/device:CPU:0 then broadcast to ('/job:localhost/replica:0/task:0/device:CPU:0',).\n",
      "INFO:tensorflow:batch_all_reduce: 12 all-reduces with algorithm = hierarchical_copy, num_packs = 1, agg_small_grads_max_bytes = 0 and agg_small_grads_max_group = 10\n",
      "INFO:tensorflow:Reduce to /job:localhost/replica:0/task:0/device:CPU:0 then broadcast to ('/job:localhost/replica:0/task:0/device:CPU:0',).\n",
      "INFO:tensorflow:Reduce to /job:localhost/replica:0/task:0/device:CPU:0 then broadcast to ('/job:localhost/replica:0/task:0/device:CPU:0',).\n",
      "INFO:tensorflow:Reduce to /job:localhost/replica:0/task:0/device:CPU:0 then broadcast to ('/job:localhost/replica:0/task:0/device:CPU:0',).\n",
      "INFO:tensorflow:Reduce to /job:localhost/replica:0/task:0/device:CPU:0 then broadcast to ('/job:localhost/replica:0/task:0/device:CPU:0',).\n",
      "1083/1083 [==============================] - 313s 289ms/step - loss: 2.6483 - accuracy: 0.2824 - val_loss: 2.3217 - val_accuracy: 0.3374\n",
      "Epoch 2/30\n",
      "1083/1083 [==============================] - 303s 280ms/step - loss: 2.1759 - accuracy: 0.3798 - val_loss: 2.0957 - val_accuracy: 0.3979\n",
      "Epoch 3/30\n",
      "1083/1083 [==============================] - 304s 281ms/step - loss: 2.0053 - accuracy: 0.4214 - val_loss: 1.9618 - val_accuracy: 0.4248\n",
      "Epoch 4/30\n",
      "1083/1083 [==============================] - 304s 281ms/step - loss: 1.9038 - accuracy: 0.4459 - val_loss: 1.8814 - val_accuracy: 0.4546\n",
      "Epoch 5/30\n",
      "1083/1083 [==============================] - 304s 280ms/step - loss: 1.8317 - accuracy: 0.4619 - val_loss: 1.8150 - val_accuracy: 0.4683\n",
      "Epoch 6/30\n",
      "1083/1083 [==============================] - 304s 280ms/step - loss: 1.7777 - accuracy: 0.4754 - val_loss: 1.7769 - val_accuracy: 0.4771\n",
      "Epoch 7/30\n",
      "1083/1083 [==============================] - 304s 281ms/step - loss: 1.7336 - accuracy: 0.4860 - val_loss: 1.7327 - val_accuracy: 0.4932\n",
      "Epoch 8/30\n",
      "1083/1083 [==============================] - 304s 280ms/step - loss: 1.6968 - accuracy: 0.4947 - val_loss: 1.7082 - val_accuracy: 0.4941\n",
      "Epoch 9/30\n",
      "1083/1083 [==============================] - 305s 281ms/step - loss: 1.6647 - accuracy: 0.5026 - val_loss: 1.6750 - val_accuracy: 0.4990\n",
      "Epoch 10/30\n",
      "1083/1083 [==============================] - 304s 281ms/step - loss: 1.6363 - accuracy: 0.5101 - val_loss: 1.6533 - val_accuracy: 0.5039\n",
      "Epoch 11/30\n",
      "1083/1083 [==============================] - 304s 281ms/step - loss: 1.6103 - accuracy: 0.5165 - val_loss: 1.6200 - val_accuracy: 0.5073\n",
      "Epoch 12/30\n",
      "1083/1083 [==============================] - 304s 281ms/step - loss: 1.5875 - accuracy: 0.5225 - val_loss: 1.6106 - val_accuracy: 0.5142\n",
      "Epoch 13/30\n",
      "1083/1083 [==============================] - 305s 281ms/step - loss: 1.7657 - accuracy: 0.4852 - val_loss: 2.7739 - val_accuracy: 0.2505\n",
      "Epoch 14/30\n",
      "1083/1083 [==============================] - 304s 280ms/step - loss: 1.6830 - accuracy: 0.5009 - val_loss: 1.5774 - val_accuracy: 0.5239\n",
      "Epoch 15/30\n",
      "1083/1083 [==============================] - 305s 281ms/step - loss: 1.5011 - accuracy: 0.5452 - val_loss: 1.5260 - val_accuracy: 0.5396\n",
      "Epoch 19/30\n",
      "1083/1083 [==============================] - 305s 281ms/step - loss: 1.4367 - accuracy: 0.5638 - val_loss: 1.4583 - val_accuracy: 0.5654\n",
      "Epoch 24/30\n",
      "1083/1083 [==============================] - 305s 282ms/step - loss: 1.3904 - accuracy: 0.5769 - val_loss: 1.4244 - val_accuracy: 0.5737\n",
      "Epoch 29/30\n",
      "1083/1083 [==============================] - 305s 281ms/step - loss: 1.3817 - accuracy: 0.5796 - val_loss: 1.4190 - val_accuracy: 0.5693\n",
      "Epoch 30/30\n",
      " 567/1083 [==============>...............] - ETA: 2:25 - loss: 1.3744 - accuracy: 0.5818"
     ]
    }
   ],
   "source": [
    "# train on multiple GPUs\n",
    "multi_gpu =  tf.distribute.MirroredStrategy(\n",
    "    cross_device_ops=tf.distribute.HierarchicalCopyAllReduce()\n",
    ")\n",
    "\n",
    "with multi_gpu.scope():\n",
    "    model = train_eval_model(\n",
    "        train_data=[train_holmes_ctx],\n",
    "        validation_data=valid_holmes_ctx,\n",
    "        test_data=[test_holmes_ctx],\n",
    "        build_model_fn=build_model,\n",
    "        n_classes=n_unique_chars,\n",
    "        tags={\n",
    "            \"project\": \"dl-assign-2\",\n",
    "            \"part\": \"1\",\n",
    "            \"model\": \"sentiment\",\n",
    "        },\n",
    "        input_shape=train_holmes_ctx.context_shape,\n",
    "        git_repo=Repo(search_parent_directories=True),\n",
    "        run_name=None,\n",
    "        epochs=30,\n",
    "        lr=1e-4,\n",
    "        optimizer=\"adam\",\n",
    "        sgd_momentum=0.9,\n",
    "        loss=\"categorical_crossentropy\",\n",
    "        metrics=[\n",
    "            \"accuracy\",\n",
    "        ],\n",
    "        reduce_lr_stuck=False,\n",
    "        reduce_lr_patience=5,\n",
    "        reduce_lr_factor=0.5,\n",
    "        batch_size=batch_size,\n",
    "        dropout_prob=0,\n",
    "        l2_reg=None,\n",
    "        rnn_cell=\"gru\",\n",
    "        n_rnn_units=128,\n",
    "        n_rnn_layers=2,\n",
    "        rnn_bidirectional=False,\n",
    "        rnn_activation=\"tanh\",\n",
    "        use_layer_norm=True,\n",
    "        n_dense_units=0,\n",
    "        use_batch_norm=True,\n",
    "        dense_activation=\"relu\",\n",
    "    )\n",
    "mlflow.end_run()"
   ]
  },
  {
   "cell_type": "markdown",
   "metadata": {},
   "source": [
    "### Recommend the Best Model"
   ]
  },
  {
   "cell_type": "markdown",
   "metadata": {},
   "source": [
    "`train_eval_model()` both trains model and evaluates the model on the test set:\n",
    "```python\n",
    "    # excerpt from train_eval_model() source.\n",
    "    # evaluate model\n",
    "    test_metrics = model.evaluate(*test_data, verbose=2)\n",
    "```\n",
    "The source code for `train_eval_model()` can be found [hosted here](https://github.com/mrzzy/np-dl-assign-2/blob/master/notebooks/modeling.py#L187)"
   ]
  },
  {
   "cell_type": "code",
   "execution_count": 24,
   "metadata": {},
   "outputs": [],
   "source": [
    "float_cols = [\n",
    "    \"loss\",\n",
    "    \"dropout_prob\",\n",
    "    \"n_classes\",\n",
    "    \"n_rnn_units\",\n",
    "    \"n_dense_units\",\n",
    "    \"learning_rate\",\n",
    "    \"fit_epochs\",\n",
    "    \"batch_size\",\n",
    "    \"accuracy\",\n",
    "    \"val_accuracy\",\n",
    "    \"val_loss\",\n",
    "    \"test_loss\",\n",
    "    \"test_accuracy\",\n",
    "]\n",
    "run_df, metrics_df = extract_run_meta_metrics(\n",
    "    experiment=\"np-dl-2-p2-textgen\",\n",
    "    float_cols=float_cols,\n",
    ")"
   ]
  },
  {
   "cell_type": "code",
   "execution_count": 25,
   "metadata": {},
   "outputs": [
    {
     "data": {
      "text/html": [
       "<div>\n",
       "<style scoped>\n",
       "    .dataframe tbody tr th:only-of-type {\n",
       "        vertical-align: middle;\n",
       "    }\n",
       "\n",
       "    .dataframe tbody tr th {\n",
       "        vertical-align: top;\n",
       "    }\n",
       "\n",
       "    .dataframe thead th {\n",
       "        text-align: right;\n",
       "    }\n",
       "</style>\n",
       "<table border=\"1\" class=\"dataframe\">\n",
       "  <thead>\n",
       "    <tr style=\"text-align: right;\">\n",
       "      <th></th>\n",
       "      <th>artifact_uri</th>\n",
       "      <th>time_ms</th>\n",
       "      <th>status</th>\n",
       "      <th>context_len</th>\n",
       "      <th>charset_size</th>\n",
       "      <th>test_size</th>\n",
       "      <th>n_classes</th>\n",
       "      <th>input_shape</th>\n",
       "      <th>dropout_prob</th>\n",
       "      <th>l2_reg</th>\n",
       "      <th>...</th>\n",
       "      <th>mlflow.log-model.history</th>\n",
       "      <th>val_loss</th>\n",
       "      <th>val_accuracy</th>\n",
       "      <th>accuracy</th>\n",
       "      <th>test_loss</th>\n",
       "      <th>test_accuracy</th>\n",
       "      <th>reduce_lr_factor</th>\n",
       "      <th>reduce_lr_patience</th>\n",
       "      <th>lr</th>\n",
       "      <th>validation_split</th>\n",
       "    </tr>\n",
       "    <tr>\n",
       "      <th>run_id</th>\n",
       "      <th></th>\n",
       "      <th></th>\n",
       "      <th></th>\n",
       "      <th></th>\n",
       "      <th></th>\n",
       "      <th></th>\n",
       "      <th></th>\n",
       "      <th></th>\n",
       "      <th></th>\n",
       "      <th></th>\n",
       "      <th></th>\n",
       "      <th></th>\n",
       "      <th></th>\n",
       "      <th></th>\n",
       "      <th></th>\n",
       "      <th></th>\n",
       "      <th></th>\n",
       "      <th></th>\n",
       "      <th></th>\n",
       "      <th></th>\n",
       "      <th></th>\n",
       "    </tr>\n",
       "  </thead>\n",
       "  <tbody>\n",
       "    <tr>\n",
       "      <th>1f1bed614ed4407bb98891e214790152</th>\n",
       "      <td>s3://mlflow/12/1f1bed614ed4407bb98891e21479015...</td>\n",
       "      <td>9147817</td>\n",
       "      <td>FINISHED</td>\n",
       "      <td>250</td>\n",
       "      <td>81</td>\n",
       "      <td>5000</td>\n",
       "      <td>81.0</td>\n",
       "      <td>(250, 81)</td>\n",
       "      <td>0.0</td>\n",
       "      <td>None</td>\n",
       "      <td>...</td>\n",
       "      <td>[{\"run_id\": \"1f1bed614ed4407bb98891e214790152\"...</td>\n",
       "      <td>1.414153</td>\n",
       "      <td>0.571289</td>\n",
       "      <td>0.581339</td>\n",
       "      <td>1.436113</td>\n",
       "      <td>0.573785</td>\n",
       "      <td>NaN</td>\n",
       "      <td>NaN</td>\n",
       "      <td>NaN</td>\n",
       "      <td>NaN</td>\n",
       "    </tr>\n",
       "    <tr>\n",
       "      <th>70fdd49818674378b90383fe69daca5e</th>\n",
       "      <td>s3://mlflow/12/70fdd49818674378b90383fe69daca5...</td>\n",
       "      <td>9236808</td>\n",
       "      <td>FINISHED</td>\n",
       "      <td>250</td>\n",
       "      <td>81</td>\n",
       "      <td>5000</td>\n",
       "      <td>81.0</td>\n",
       "      <td>(250, 81)</td>\n",
       "      <td>0.0</td>\n",
       "      <td>None</td>\n",
       "      <td>...</td>\n",
       "      <td>[{\"run_id\": \"70fdd49818674378b90383fe69daca5e\"...</td>\n",
       "      <td>3.106232</td>\n",
       "      <td>0.163086</td>\n",
       "      <td>0.168456</td>\n",
       "      <td>3.106003</td>\n",
       "      <td>0.165148</td>\n",
       "      <td>0.5</td>\n",
       "      <td>5</td>\n",
       "      <td>0.001875</td>\n",
       "      <td>NaN</td>\n",
       "    </tr>\n",
       "    <tr>\n",
       "      <th>e78c1ad56f9f4c3b9d8b7c68c19cece5</th>\n",
       "      <td>s3://mlflow/12/e78c1ad56f9f4c3b9d8b7c68c19cece...</td>\n",
       "      <td>3092719</td>\n",
       "      <td>FINISHED</td>\n",
       "      <td>500</td>\n",
       "      <td>81</td>\n",
       "      <td>5000</td>\n",
       "      <td>81.0</td>\n",
       "      <td>(500, 81)</td>\n",
       "      <td>0.0</td>\n",
       "      <td>None</td>\n",
       "      <td>...</td>\n",
       "      <td>[{\"run_id\": \"e78c1ad56f9f4c3b9d8b7c68c19cece5\"...</td>\n",
       "      <td>1.334299</td>\n",
       "      <td>0.591797</td>\n",
       "      <td>0.601671</td>\n",
       "      <td>1.350640</td>\n",
       "      <td>0.584717</td>\n",
       "      <td>0.5</td>\n",
       "      <td>5</td>\n",
       "      <td>0.030000</td>\n",
       "      <td>NaN</td>\n",
       "    </tr>\n",
       "    <tr>\n",
       "      <th>4b0d5b09db5e40f7866c010b81236e55</th>\n",
       "      <td>s3://mlflow/12/4b0d5b09db5e40f7866c010b81236e5...</td>\n",
       "      <td>8475121</td>\n",
       "      <td>FINISHED</td>\n",
       "      <td>250</td>\n",
       "      <td>81</td>\n",
       "      <td>5000</td>\n",
       "      <td>81.0</td>\n",
       "      <td>(250, 81)</td>\n",
       "      <td>0.0</td>\n",
       "      <td>None</td>\n",
       "      <td>...</td>\n",
       "      <td>[{\"run_id\": \"4b0d5b09db5e40f7866c010b81236e55\"...</td>\n",
       "      <td>1.362107</td>\n",
       "      <td>0.597656</td>\n",
       "      <td>0.677451</td>\n",
       "      <td>1.341882</td>\n",
       "      <td>0.608290</td>\n",
       "      <td>NaN</td>\n",
       "      <td>NaN</td>\n",
       "      <td>NaN</td>\n",
       "      <td>NaN</td>\n",
       "    </tr>\n",
       "    <tr>\n",
       "      <th>4a856a18f1a6490dbb10997882e2965b</th>\n",
       "      <td>s3://mlflow/12/4a856a18f1a6490dbb10997882e2965...</td>\n",
       "      <td>5938014</td>\n",
       "      <td>FINISHED</td>\n",
       "      <td>100</td>\n",
       "      <td>81</td>\n",
       "      <td>5000</td>\n",
       "      <td>81.0</td>\n",
       "      <td>(100, 81)</td>\n",
       "      <td>0.0</td>\n",
       "      <td>None</td>\n",
       "      <td>...</td>\n",
       "      <td>[{\"run_id\": \"4a856a18f1a6490dbb10997882e2965b\"...</td>\n",
       "      <td>1.434361</td>\n",
       "      <td>0.572266</td>\n",
       "      <td>0.594424</td>\n",
       "      <td>1.433213</td>\n",
       "      <td>0.560764</td>\n",
       "      <td>0.5</td>\n",
       "      <td>10</td>\n",
       "      <td>0.010000</td>\n",
       "      <td>NaN</td>\n",
       "    </tr>\n",
       "  </tbody>\n",
       "</table>\n",
       "<p>5 rows × 45 columns</p>\n",
       "</div>"
      ],
      "text/plain": [
       "                                                                       artifact_uri  \\\n",
       "run_id                                                                                \n",
       "1f1bed614ed4407bb98891e214790152  s3://mlflow/12/1f1bed614ed4407bb98891e21479015...   \n",
       "70fdd49818674378b90383fe69daca5e  s3://mlflow/12/70fdd49818674378b90383fe69daca5...   \n",
       "e78c1ad56f9f4c3b9d8b7c68c19cece5  s3://mlflow/12/e78c1ad56f9f4c3b9d8b7c68c19cece...   \n",
       "4b0d5b09db5e40f7866c010b81236e55  s3://mlflow/12/4b0d5b09db5e40f7866c010b81236e5...   \n",
       "4a856a18f1a6490dbb10997882e2965b  s3://mlflow/12/4a856a18f1a6490dbb10997882e2965...   \n",
       "\n",
       "                                  time_ms    status context_len charset_size  \\\n",
       "run_id                                                                         \n",
       "1f1bed614ed4407bb98891e214790152  9147817  FINISHED         250           81   \n",
       "70fdd49818674378b90383fe69daca5e  9236808  FINISHED         250           81   \n",
       "e78c1ad56f9f4c3b9d8b7c68c19cece5  3092719  FINISHED         500           81   \n",
       "4b0d5b09db5e40f7866c010b81236e55  8475121  FINISHED         250           81   \n",
       "4a856a18f1a6490dbb10997882e2965b  5938014  FINISHED         100           81   \n",
       "\n",
       "                                 test_size  n_classes input_shape  \\\n",
       "run_id                                                              \n",
       "1f1bed614ed4407bb98891e214790152      5000       81.0   (250, 81)   \n",
       "70fdd49818674378b90383fe69daca5e      5000       81.0   (250, 81)   \n",
       "e78c1ad56f9f4c3b9d8b7c68c19cece5      5000       81.0   (500, 81)   \n",
       "4b0d5b09db5e40f7866c010b81236e55      5000       81.0   (250, 81)   \n",
       "4a856a18f1a6490dbb10997882e2965b      5000       81.0   (100, 81)   \n",
       "\n",
       "                                  dropout_prob l2_reg  ...  \\\n",
       "run_id                                                 ...   \n",
       "1f1bed614ed4407bb98891e214790152           0.0   None  ...   \n",
       "70fdd49818674378b90383fe69daca5e           0.0   None  ...   \n",
       "e78c1ad56f9f4c3b9d8b7c68c19cece5           0.0   None  ...   \n",
       "4b0d5b09db5e40f7866c010b81236e55           0.0   None  ...   \n",
       "4a856a18f1a6490dbb10997882e2965b           0.0   None  ...   \n",
       "\n",
       "                                                           mlflow.log-model.history  \\\n",
       "run_id                                                                                \n",
       "1f1bed614ed4407bb98891e214790152  [{\"run_id\": \"1f1bed614ed4407bb98891e214790152\"...   \n",
       "70fdd49818674378b90383fe69daca5e  [{\"run_id\": \"70fdd49818674378b90383fe69daca5e\"...   \n",
       "e78c1ad56f9f4c3b9d8b7c68c19cece5  [{\"run_id\": \"e78c1ad56f9f4c3b9d8b7c68c19cece5\"...   \n",
       "4b0d5b09db5e40f7866c010b81236e55  [{\"run_id\": \"4b0d5b09db5e40f7866c010b81236e55\"...   \n",
       "4a856a18f1a6490dbb10997882e2965b  [{\"run_id\": \"4a856a18f1a6490dbb10997882e2965b\"...   \n",
       "\n",
       "                                  val_loss val_accuracy  accuracy test_loss  \\\n",
       "run_id                                                                        \n",
       "1f1bed614ed4407bb98891e214790152  1.414153     0.571289  0.581339  1.436113   \n",
       "70fdd49818674378b90383fe69daca5e  3.106232     0.163086  0.168456  3.106003   \n",
       "e78c1ad56f9f4c3b9d8b7c68c19cece5  1.334299     0.591797  0.601671  1.350640   \n",
       "4b0d5b09db5e40f7866c010b81236e55  1.362107     0.597656  0.677451  1.341882   \n",
       "4a856a18f1a6490dbb10997882e2965b  1.434361     0.572266  0.594424  1.433213   \n",
       "\n",
       "                                 test_accuracy  reduce_lr_factor  \\\n",
       "run_id                                                             \n",
       "1f1bed614ed4407bb98891e214790152      0.573785               NaN   \n",
       "70fdd49818674378b90383fe69daca5e      0.165148               0.5   \n",
       "e78c1ad56f9f4c3b9d8b7c68c19cece5      0.584717               0.5   \n",
       "4b0d5b09db5e40f7866c010b81236e55      0.608290               NaN   \n",
       "4a856a18f1a6490dbb10997882e2965b      0.560764               0.5   \n",
       "\n",
       "                                 reduce_lr_patience        lr validation_split  \n",
       "run_id                                                                          \n",
       "1f1bed614ed4407bb98891e214790152                NaN       NaN              NaN  \n",
       "70fdd49818674378b90383fe69daca5e                  5  0.001875              NaN  \n",
       "e78c1ad56f9f4c3b9d8b7c68c19cece5                  5  0.030000              NaN  \n",
       "4b0d5b09db5e40f7866c010b81236e55                NaN       NaN              NaN  \n",
       "4a856a18f1a6490dbb10997882e2965b                 10  0.010000              NaN  \n",
       "\n",
       "[5 rows x 45 columns]"
      ]
     },
     "execution_count": 25,
     "metadata": {},
     "output_type": "execute_result"
    }
   ],
   "source": [
    "run_df.head()"
   ]
  },
  {
   "cell_type": "markdown",
   "metadata": {},
   "source": [
    "Evaluate the top model by lowest test loss:"
   ]
  },
  {
   "cell_type": "code",
   "execution_count": 26,
   "metadata": {},
   "outputs": [
    {
     "name": "stdout",
     "output_type": "stream",
     "text": [
      "Top Validation Loss: 1.3418815003501\n",
      "Top Validation Accuracy: 0.608289957046509\n"
     ]
    }
   ],
   "source": [
    "top_model_id = run_df[\"test_loss\"].idxmin()\n",
    "top_model_metrics_df = metrics_df[metrics_df[\"run_id\"] == top_model_id]\n",
    "print(f\"Top Validation Loss: {run_df.loc[top_model_id]['test_loss']}\")\n",
    "print(f\"Top Validation Accuracy: {run_df.loc[top_model_id]['test_accuracy']}\")"
   ]
  },
  {
   "cell_type": "code",
   "execution_count": 27,
   "metadata": {},
   "outputs": [
    {
     "data": {
      "text/plain": [
       "<AxesSubplot:title={'center':'Loss'}, xlabel='step', ylabel='value'>"
      ]
     },
     "execution_count": 27,
     "metadata": {},
     "output_type": "execute_result"
    },
    {
     "data": {
      "image/png": "[encoded data removed]",
      "text/plain": [
       "<Figure size 432x288 with 1 Axes>"
      ]
     },
     "metadata": {
      "needs_background": "light"
     },
     "output_type": "display_data"
    }
   ],
   "source": [
    "plt.title(\"Loss\")\n",
    "sns.lineplot(\n",
    "    data=top_model_metrics_df[\n",
    "        top_model_metrics_df[\"metric\"].isin(\n",
    "            [\n",
    "                \"val_loss\",\n",
    "                \"loss\",\n",
    "            ]\n",
    "        )\n",
    "    ],\n",
    "    x=\"step\",\n",
    "    y=\"value\",\n",
    "    hue=\"metric\",\n",
    ")"
   ]
  },
  {
   "cell_type": "code",
   "execution_count": 28,
   "metadata": {},
   "outputs": [
    {
     "data": {
      "text/plain": [
       "<AxesSubplot:title={'center':'Accuracy'}, xlabel='step', ylabel='value'>"
      ]
     },
     "execution_count": 28,
     "metadata": {},
     "output_type": "execute_result"
    },
    {
     "data": {
      "image/png": "[encoded data removed]",
      "text/plain": [
       "<Figure size 432x288 with 1 Axes>"
      ]
     },
     "metadata": {
      "needs_background": "light"
     },
     "output_type": "display_data"
    }
   ],
   "source": [
    "plt.title(\"Accuracy\")\n",
    "sns.lineplot(\n",
    "    data=top_model_metrics_df[\n",
    "        top_model_metrics_df[\"metric\"].isin(\n",
    "            [\n",
    "                \"val_accuracy\",\n",
    "                \"accuracy\",\n",
    "            ]\n",
    "        )\n",
    "    ],\n",
    "    x=\"step\",\n",
    "    y=\"value\",\n",
    "    hue=\"metric\",\n",
    ")"
   ]
  },
  {
   "cell_type": "markdown",
   "metadata": {},
   "source": [
    "Retrieve model weights of top model:"
   ]
  },
  {
   "cell_type": "code",
   "execution_count": 29,
   "metadata": {},
   "outputs": [],
   "source": [
    "mlflow_cli = MlflowClient()\n",
    "MODELS_DIR = os.path.join(os.getcwd(), \"../models\")\n",
    "os.makedirs(MODELS_DIR, exist_ok=True)"
   ]
  },
  {
   "cell_type": "code",
   "execution_count": 30,
   "metadata": {},
   "outputs": [
    {
     "name": "stdout",
     "output_type": "stream",
     "text": [
      "CPU times: user 533 ms, sys: 15.6 ms, total: 549 ms\n",
      "Wall time: 558 ms\n"
     ]
    }
   ],
   "source": [
    "%%time\n",
    "model_path = mlflow_cli.download_artifacts(\n",
    "    run_id=top_model_id, path=\"models/data/model.h5\"\n",
    ")\n",
    "top_model = load_model(model_path)"
   ]
  },
  {
   "cell_type": "markdown",
   "metadata": {},
   "source": [
    "# Step 3 – Use the Best Model to generate the characters / sentences"
   ]
  },
  {
   "cell_type": "code",
   "execution_count": 31,
   "metadata": {},
   "outputs": [],
   "source": [
    "def sample(preds, temperature=1.0):\n",
    "    \"\"\"\n",
    "    Use to draw a temperature  weighted character from the given model probablities\n",
    "    Low tempretures stick to the model's prediction while higher tempra\n",
    "    \"\"\"\n",
    "    preds = np.asarray(preds).astype(\"float64\")\n",
    "    preds = (\n",
    "        np.log(preds) / temperature\n",
    "    )  # take a log function and then divided by temperature\n",
    "    exp_preds = np.exp(preds)  # take a exp function\n",
    "    preds = exp_preds / np.sum(exp_preds)  # normalize to 1\n",
    "    probas = np.random.multinomial(\n",
    "        1, preds, 1\n",
    "    )  # roll a dice based on the probability distribution in preds\n",
    "    return np.argmax(probas)  # return to the selected \"next character\""
   ]
  },
  {
   "cell_type": "markdown",
   "metadata": {},
   "source": [
    "Generate  text using top mode at various temperatures:"
   ]
  },
  {
   "cell_type": "code",
   "execution_count": 32,
   "metadata": {},
   "outputs": [],
   "source": [
    "def generate_text(\n",
    "    model, text_len=400, temperature=1.0, process_params=process_params, charset=charset\n",
    "):\n",
    "    n_classes = len(charset)\n",
    "    reverse_charset = {int_c: char for char, int_c in charset.items()}\n",
    "    # use random seed context from text\n",
    "    seed_start = randint(0, len(holmes_text) - process_params[\"context_len\"] - 1)\n",
    "    context = holmes_text[seed_start : seed_start + process_params[\"context_len\"]]\n",
    "    gentext = f\"{context}\"\n",
    "\n",
    "    for i in range(text_len):\n",
    "        context_one_hot = np.expand_dims(\n",
    "            to_categorical([charset[c] for c in context], num_classes=n_classes),\n",
    "            axis=0,\n",
    "        )\n",
    "        preds = model.predict([context_one_hot])[0]\n",
    "        pred_idx = sample(preds, temperature=temperature)\n",
    "        pred_char = reverse_charset[pred_idx]\n",
    "        # add predicted chart to context and generated text\n",
    "        gentext += pred_char\n",
    "        context += pred_char\n",
    "        # remove first char in context to kept it at context_len\n",
    "        context = context[1:]\n",
    "\n",
    "    return gentext"
   ]
  },
  {
   "cell_type": "code",
   "execution_count": 33,
   "metadata": {},
   "outputs": [
    {
     "name": "stdout",
     "output_type": "stream",
     "text": [
      "ling, 'it was you, then. I thought that it\n",
      "must be when I saw the door open.'\n",
      "\n",
      "\"'Oh, I am so frightened!' I panted.\n",
      "\n",
      "\"'My dear young lady! my dear young lady!'--you cannot think how\n",
      "caressing and soothing his manner was--'and what has frightened\n",
      "you, and that it was a singular consulting. I think that I was\n",
      "all that it was a man of the reason which was a singular and to\n",
      "see her bearing the stairs that the strange and think of the\n",
      "contents was to be a single of the window of the strange and was\n",
      "all in the corner of the room and the contents of the corner of\n",
      "the corner of the window, and the room was a considerable stable\n",
      "sent and the corner of\n",
      "CPU times: user 25.3 s, sys: 0 ns, total: 25.3 s\n",
      "Wall time: 25.9 s\n"
     ]
    }
   ],
   "source": [
    "%%time\n",
    "print(generate_text(top_model, temperature=0.2, text_len=400))"
   ]
  },
  {
   "cell_type": "code",
   "execution_count": 34,
   "metadata": {},
   "outputs": [
    {
     "name": "stdout",
     "output_type": "stream",
     "text": [
      "\n",
      "\n",
      "\"Not I.\"\n",
      "\n",
      "\"It is half-past ten now.\"\n",
      "\n",
      "\"Yes, and I have no doubt that is her ring.\"\n",
      "\n",
      "\"It may turn out to be of more interest than you think. You\n",
      "remember that the affair of the blue carbuncle, which appeared to\n",
      "be a mere whim at first, developed into the clast and walked all\n",
      "for some of the world to the reat for him that it was a cold since\n",
      "and so considerably in the same position of a pale and but he was\n",
      "extraordinates, would in the stairs and the rest of a case of\n",
      "the corner of the whole time in the room which I was a cab of\n",
      "a particulate man, and that it was the bed back and a fact of\n",
      "the window, and which it is correct in the windows. He\n",
      "CPU times: user 25.2 s, sys: 0 ns, total: 25.2 s\n",
      "Wall time: 26.1 s\n"
     ]
    }
   ],
   "source": [
    "%%time\n",
    "print(generate_text(top_model, temperature=0.5, text_len=400))"
   ]
  },
  {
   "cell_type": "code",
   "execution_count": 35,
   "metadata": {},
   "outputs": [
    {
     "name": "stdout",
     "output_type": "stream",
     "text": [
      "I\n",
      "could gather together that I was able to avert another public\n",
      "exposure. He had no friends at all save the wandering gipsies,\n",
      "and he would give these vagabonds leave to encamp upon the few\n",
      "acres of bramble-covered land which represent the family estity\n",
      "luggers glade. \"Fine was made upon the selecting. Then he started\n",
      "of its small steps--I atracted to retir?'\n",
      "\n",
      "\"'D'1le's back to me, Jones should not income. From none was no\n",
      "offermatial,' perhaps, but I could explain his chin, dire!\n",
      "\n",
      "\"'What,\" said Holmes, still explaining up and offered, which I hardly\n",
      "need the entames of colient, at all peors of this notices, which a\n",
      "black hurried up, and no g\n",
      "CPU times: user 25.4 s, sys: 0 ns, total: 25.4 s\n",
      "Wall time: 26.1 s\n"
     ]
    }
   ],
   "source": [
    "%%time\n",
    "print(generate_text(top_model, temperature=1.0, text_len=400))"
   ]
  },
  {
   "cell_type": "code",
   "execution_count": 36,
   "metadata": {},
   "outputs": [
    {
     "name": "stdout",
     "output_type": "stream",
     "text": [
      "h you.'\n",
      "\n",
      "\"Well, I did what she said, Mr. Holmes, and I carried the bird\n",
      "all the way to Kilburn. I told my pal what I had done, for he was\n",
      "a man that it was easy to tell a thing like that to. He laughed\n",
      "until he choked, and we got a knife and opened the sunking.\"\n",
      "\n",
      "It kept up an all through all. My gaues was prograng, but one of\n",
      "the Jognes waiting from Cith's rise. She side not the deedlicy of\n",
      "pars of observing Arms among the othorushs of Moran, and into the\n",
      "edge; and why is clear to the address induction to scuting-robber,\n",
      "errevel-to her.'\" ope, my curritult is Miss Hatty Archer; for you\n",
      "a look of that's an read me emplore. 'I come, as I've we\n",
      "CPU times: user 25.1 s, sys: 0 ns, total: 25.1 s\n",
      "Wall time: 25.7 s\n"
     ]
    }
   ],
   "source": [
    "%%time\n",
    "print(generate_text(top_model, temperature=1.2, text_len=400))"
   ]
  },
  {
   "cell_type": "code",
   "execution_count": 37,
   "metadata": {},
   "outputs": [
    {
     "name": "stdout",
     "output_type": "stream",
     "text": [
      "ad, I believe, been\n",
      "intensified by his long residence in the tropics. A series of\n",
      "disgraceful brawls took place, two of which ended in the\n",
      "police-court, until at last he became the terror of the village,\n",
      "and the folks would fly at his approach, for his end. To themeris\n",
      "quary 1000 pound.\"\n",
      "\n",
      "Mr. Bechessal masstietie catched to him no confedher\n",
      "moth; jerki's kity. Any universten,' says not joking back\n",
      "through moidscy after Swandam in Endylons Hear, plave. I gurd,\n",
      "this sums of power, and ! twit\n",
      "me a circle. My orgorn's keyhored of SConly.'\n",
      "\n",
      "\"'Pray hen, so McCast up BaS PerFgulton 7sl equoredm quarters behind,\n",
      "to-rushes with you. Pray as shirt upon\n",
      "CPU times: user 25.1 s, sys: 0 ns, total: 25.1 s\n",
      "Wall time: 26.1 s\n"
     ]
    }
   ],
   "source": [
    "%%time\n",
    "print(generate_text(top_model, temperature=1.5, text_len=400))"
   ]
  }
 ],
 "metadata": {
  "kernelspec": {
   "display_name": "Python 3",
   "language": "python",
   "name": "python3"
  },
  "language_info": {
   "codemirror_mode": {
    "name": "ipython",
    "version": 3
   },
   "file_extension": ".py",
   "mimetype": "text/x-python",
   "name": "python",
   "nbconvert_exporter": "python",
   "pygments_lexer": "ipython3",
   "version": "3.6.9"
  }
 },
 "nbformat": 4,
 "nbformat_minor": 4
}
