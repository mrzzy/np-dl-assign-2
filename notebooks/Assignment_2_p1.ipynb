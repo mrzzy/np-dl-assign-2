{
 "cells": [
  {
   "cell_type": "markdown",
   "metadata": {},
   "source": [
    "<table class=\"table table-bordered\">\n",
    "    <tr>\n",
    "        <th style=\"text-align:center; width:25%\"><img src='https://www.np.edu.sg/PublishingImages/Pages/default/odp/ICT.jpg' style=\"width: 250px; height: 125px; \"></th>\n",
    "        <th style=\"text-align:center;\"><h1>Deep Learning</h1><h2>Assignment 2 - Sentiment Analysis Model (Problem 1)</h2><h3>AY2020/21 Semester</h3></th>\n",
    "    </tr>\n",
    "</table>"
   ]
  },
  {
   "cell_type": "markdown",
   "metadata": {},
   "source": [
    "Objective: Build a sentiment analysis model to predict the emoticon for each text input. \n"
   ]
  },
  {
   "cell_type": "code",
   "execution_count": 1,
   "metadata": {},
   "outputs": [],
   "source": [
    "DATA_DIR = \"../data\""
   ]
  },
  {
   "cell_type": "code",
   "execution_count": 2,
   "metadata": {},
   "outputs": [
    {
     "name": "stderr",
     "output_type": "stream",
     "text": [
      "Matplotlib created a temporary config/cache directory at /tmp/matplotlib-dtrbn866 because the default path (/home/jovyan/.config/matplotlib) is not a writable directory; it is highly recommended to set the MPLCONFIGDIR environment variable to a writable directory, in particular to speed up the import of Matplotlib and to better support multiprocessing.\n"
     ]
    }
   ],
   "source": [
    "# autoformat code on cell run.\n",
    "%load_ext lab_black\n",
    "# autoreload imported modules on change\n",
    "%load_ext autoreload\n",
    "%autoreload 2\n",
    "\n",
    "# Import the Required Packages\n",
    "import os\n",
    "import gc\n",
    "import mlflow\n",
    "import requests\n",
    "import numpy as np\n",
    "import pandas as pd\n",
    "import seaborn as sns\n",
    "import tensorflow as tf\n",
    "import matplotlib\n",
    "import matplotlib.pyplot as plt\n",
    "\n",
    "from git import Repo\n",
    "from minio import Minio\n",
    "from zipfile import ZipFile\n",
    "from textblob import TextBlob\n",
    "from unidecode import unidecode\n",
    "from emot import emoji, emoticons\n",
    "from mlflow.tracking.client import MlflowClient\n",
    "from sklearn.model_selection import train_test_split\n",
    "from sklearn.decomposition import TruncatedSVD\n",
    "from sklearn.feature_extraction.text import TfidfVectorizer, CountVectorizer\n",
    "from imblearn.under_sampling import RandomUnderSampler\n",
    "from imblearn.over_sampling import RandomOverSampler, SMOTE\n",
    "from gensim.models.fasttext import load_facebook_model, load_facebook_vectors\n",
    "from gensim.models.wrappers import FastText\n",
    "from gensim.parsing.preprocessing import remove_stopwords, strip_punctuation, stem_text\n",
    "from tensorflow.keras.utils import to_categorical\n",
    "from tensorflow.keras.models import load_model\n",
    "from modeling import (\n",
    "    dense_classifier,\n",
    "    rnn_block,\n",
    "    compile_callbacks,\n",
    "    build_model,\n",
    "    train_eval_model,\n",
    ")\n",
    "from evaluate import extract_run_meta_metrics"
   ]
  },
  {
   "cell_type": "markdown",
   "metadata": {},
   "source": [
    "Configure access to MLFlow by setting the following environment variables:\n",
    "- `MLFLOW_TRACKING_URI` - URL to the MLFlow Tracking server.\n",
    "- `MLFLOW_S3_ENDPOINT_URL` - URL to the MLFlow S3 Backend Store\n",
    "- `MLFLOW_EXPERIMENT` - Optional. The name of the MLFlow experiment to log to.\n",
    "- `MINIO_HOST` - End to the Minio S3 Store.\n",
    "- `AWS_ACCESS_KEY_ID` - MLFlow S3 backend store Avectorsccess Key ID.\n",
    "- `AWS_SECRET_ACCESS_KEY` - MLFlow S3 backend store secret access key."
   ]
  },
  {
   "cell_type": "markdown",
   "metadata": {},
   "source": [
    "`TF_FORCE_GPU_ALLOW_GROWTH` -  Force Tensorflow to allocate GPU memory dynamically\n",
    "instead of of all at once as a workaround for this\n",
    "[cuDNN failed to initialize issue](https://github.com/tensorflow/tensorflow/issues/24828)."
   ]
  },
  {
   "cell_type": "code",
   "execution_count": 3,
   "metadata": {},
   "outputs": [
    {
     "name": "stdout",
     "output_type": "stream",
     "text": [
      "env: TF_FORCE_GPU_ALLOW_GROWTH=true\n"
     ]
    }
   ],
   "source": [
    "%env TF_FORCE_GPU_ALLOW_GROWTH=true"
   ]
  },
  {
   "cell_type": "markdown",
   "metadata": {},
   "source": [
    "Start MLFlow run with the name of the commit as fthe run name."
   ]
  },
  {
   "cell_type": "code",
   "execution_count": 4,
   "metadata": {},
   "outputs": [],
   "source": [
    "mlflow.set_experiment(os.environ.get(\"MLFLOW_EXPERIMENT\", \"staging\"))"
   ]
  },
  {
   "cell_type": "code",
   "execution_count": 5,
   "metadata": {},
   "outputs": [
    {
     "data": {
      "text/plain": [
       "<ActiveRun: >"
      ]
     },
     "execution_count": 5,
     "metadata": {},
     "output_type": "execute_result"
    }
   ],
   "source": [
    "repo = Repo(search_parent_directories=True)\n",
    "mlflow.start_run(run_name=repo.head.commit.message)"
   ]
  },
  {
   "cell_type": "markdown",
   "metadata": {},
   "source": [
    "Setup `minio` client."
   ]
  },
  {
   "cell_type": "code",
   "execution_count": 6,
   "metadata": {},
   "outputs": [],
   "source": [
    "minio = Minio(\n",
    "    endpoint=os.environ[\"MINIO_HOST\"],\n",
    "    access_key=os.environ[\"AWS_ACCESS_KEY_ID\"],\n",
    "    secret_key=os.environ[\"AWS_SECRET_ACCESS_KEY\"],\n",
    "    secure=False,\n",
    ")"
   ]
  },
  {
   "cell_type": "markdown",
   "metadata": {},
   "source": [
    "# Step 1 – Data Loading and Processing"
   ]
  },
  {
   "cell_type": "markdown",
   "metadata": {},
   "source": [
    "### 1.1 Data Loading"
   ]
  },
  {
   "cell_type": "code",
   "execution_count": 7,
   "metadata": {},
   "outputs": [
    {
     "name": "stdout",
     "output_type": "stream",
     "text": [
      "{0: '😍', 1: '😂', 2: '📷', 3: '🔥', 4: '❤'}\n",
      "A total of:  5 Emoji Icons\n"
     ]
    }
   ],
   "source": [
    "# Load the emoji_dictionary\n",
    "df = pd.read_csv(f\"{DATA_DIR}/mapping.csv\", delimiter=\",\")\n",
    "emoji_dictionary = df.loc[:, \"emoticons\"].to_dict()\n",
    "print(emoji_dictionary)\n",
    "print(\"A total of: \", len(emoji_dictionary), \"Emoji Icons\")"
   ]
  },
  {
   "cell_type": "markdown",
   "metadata": {},
   "source": [
    "Since the emojis can't be rendered in some situations such as graph plotting, create a mapping for the labels to emoji nameategorical types for the grouping variables to control the order of plot elements."
   ]
  },
  {
   "cell_type": "code",
   "execution_count": 8,
   "metadata": {},
   "outputs": [],
   "source": [
    "emoji_names = {\n",
    "    0: \"heart-eyes\",\n",
    "    1: \"crying-laughing\",\n",
    "    2: \"camera\",\n",
    "    3: \"fire\",\n",
    "    4: \"heart\",\n",
    "}"
   ]
  },
  {
   "cell_type": "code",
   "execution_count": 9,
   "metadata": {},
   "outputs": [],
   "source": [
    "# load the dataset\n",
    "df = pd.read_csv(f\"{DATA_DIR}/dataset.csv\", delimiter=\",\")\n",
    "texts = df.loc[:, \"TEXT\"].values\n",
    "labels = df.loc[:, \"Label\"].values"
   ]
  },
  {
   "cell_type": "code",
   "execution_count": 10,
   "metadata": {},
   "outputs": [
    {
     "name": "stdout",
     "output_type": "stream",
     "text": [
      "the maximum length of the text inputs is  34\n"
     ]
    }
   ],
   "source": [
    "# Check the maximum length of texts\n",
    "max_len = -1\n",
    "for example in texts:\n",
    "    if len(example.split()) > max_len:\n",
    "        max_len = len(example.split())\n",
    "\n",
    "print(\"the maximum length of the text inputs is \", max_len)"
   ]
  },
  {
   "cell_type": "markdown",
   "metadata": {},
   "source": [
    "### 1.2 EDA"
   ]
  },
  {
   "cell_type": "markdown",
   "metadata": {},
   "source": [
    "View the first 5 rows of data:"
   ]
  },
  {
   "cell_type": "code",
   "execution_count": 11,
   "metadata": {},
   "outputs": [
    {
     "data": {
      "text/html": [
       "<div>\n",
       "<style scoped>\n",
       "    .dataframe tbody tr th:only-of-type {\n",
       "        vertical-align: middle;\n",
       "    }\n",
       "\n",
       "    .dataframe tbody tr th {\n",
       "        vertical-align: top;\n",
       "    }\n",
       "\n",
       "    .dataframe thead th {\n",
       "        text-align: right;\n",
       "    }\n",
       "</style>\n",
       "<table border=\"1\" class=\"dataframe\">\n",
       "  <thead>\n",
       "    <tr style=\"text-align: right;\">\n",
       "      <th></th>\n",
       "      <th>TEXT</th>\n",
       "      <th>Label</th>\n",
       "    </tr>\n",
       "  </thead>\n",
       "  <tbody>\n",
       "    <tr>\n",
       "      <th>0</th>\n",
       "      <td>Been friends since 7th grade. Look at us now w...</td>\n",
       "      <td>0</td>\n",
       "    </tr>\n",
       "    <tr>\n",
       "      <th>1</th>\n",
       "      <td>This is what it looks like when someone loves ...</td>\n",
       "      <td>1</td>\n",
       "    </tr>\n",
       "    <tr>\n",
       "      <th>2</th>\n",
       "      <td>RT @user this white family was invited to a Bl...</td>\n",
       "      <td>1</td>\n",
       "    </tr>\n",
       "    <tr>\n",
       "      <th>3</th>\n",
       "      <td>Westenders @user #LAZzNation @ Weston, Toronto\\n</td>\n",
       "      <td>2</td>\n",
       "    </tr>\n",
       "    <tr>\n",
       "      <th>4</th>\n",
       "      <td>Maxwell heads home @ Summa Akron City Hospital\\n</td>\n",
       "      <td>0</td>\n",
       "    </tr>\n",
       "  </tbody>\n",
       "</table>\n",
       "</div>"
      ],
      "text/plain": [
       "                                                TEXT  Label\n",
       "0  Been friends since 7th grade. Look at us now w...      0\n",
       "1  This is what it looks like when someone loves ...      1\n",
       "2  RT @user this white family was invited to a Bl...      1\n",
       "3   Westenders @user #LAZzNation @ Weston, Toronto\\n      2\n",
       "4   Maxwell heads home @ Summa Akron City Hospital\\n      0"
      ]
     },
     "execution_count": 11,
     "metadata": {},
     "output_type": "execute_result"
    }
   ],
   "source": [
    "df.head()"
   ]
  },
  {
   "cell_type": "markdown",
   "metadata": {},
   "source": [
    "Splice in actual emojis and names to make the data easier to grasp than raw number labels:"
   ]
  },
  {
   "cell_type": "code",
   "execution_count": 12,
   "metadata": {},
   "outputs": [
    {
     "data": {
      "text/html": [
       "<div>\n",
       "<style scoped>\n",
       "    .dataframe tbody tr th:only-of-type {\n",
       "        vertical-align: middle;\n",
       "    }\n",
       "\n",
       "    .dataframe tbody tr th {\n",
       "        vertical-align: top;\n",
       "    }\n",
       "\n",
       "    .dataframe thead th {\n",
       "        text-align: right;\n",
       "    }\n",
       "</style>\n",
       "<table border=\"1\" class=\"dataframe\">\n",
       "  <thead>\n",
       "    <tr style=\"text-align: right;\">\n",
       "      <th></th>\n",
       "      <th>TEXT</th>\n",
       "      <th>Label</th>\n",
       "      <th>Emoji</th>\n",
       "      <th>EmojiName</th>\n",
       "    </tr>\n",
       "  </thead>\n",
       "  <tbody>\n",
       "    <tr>\n",
       "      <th>0</th>\n",
       "      <td>Been friends since 7th grade. Look at us now w...</td>\n",
       "      <td>0</td>\n",
       "      <td>😍</td>\n",
       "      <td>heart-eyes</td>\n",
       "    </tr>\n",
       "    <tr>\n",
       "      <th>1</th>\n",
       "      <td>This is what it looks like when someone loves ...</td>\n",
       "      <td>1</td>\n",
       "      <td>😂</td>\n",
       "      <td>crying-laughing</td>\n",
       "    </tr>\n",
       "    <tr>\n",
       "      <th>2</th>\n",
       "      <td>RT @user this white family was invited to a Bl...</td>\n",
       "      <td>1</td>\n",
       "      <td>😂</td>\n",
       "      <td>crying-laughing</td>\n",
       "    </tr>\n",
       "    <tr>\n",
       "      <th>3</th>\n",
       "      <td>Westenders @user #LAZzNation @ Weston, Toronto\\n</td>\n",
       "      <td>2</td>\n",
       "      <td>📷</td>\n",
       "      <td>camera</td>\n",
       "    </tr>\n",
       "    <tr>\n",
       "      <th>4</th>\n",
       "      <td>Maxwell heads home @ Summa Akron City Hospital\\n</td>\n",
       "      <td>0</td>\n",
       "      <td>😍</td>\n",
       "      <td>heart-eyes</td>\n",
       "    </tr>\n",
       "  </tbody>\n",
       "</table>\n",
       "</div>"
      ],
      "text/plain": [
       "                                                TEXT  Label Emoji  \\\n",
       "0  Been friends since 7th grade. Look at us now w...      0     😍   \n",
       "1  This is what it looks like when someone loves ...      1     😂   \n",
       "2  RT @user this white family was invited to a Bl...      1     😂   \n",
       "3   Westenders @user #LAZzNation @ Weston, Toronto\\n      2     📷   \n",
       "4   Maxwell heads home @ Summa Akron City Hospital\\n      0     😍   \n",
       "\n",
       "         EmojiName  \n",
       "0       heart-eyes  \n",
       "1  crying-laughing  \n",
       "2  crying-laughing  \n",
       "3           camera  \n",
       "4       heart-eyes  "
      ]
     },
     "execution_count": 12,
     "metadata": {},
     "output_type": "execute_result"
    }
   ],
   "source": [
    "df[\"Emoji\"] = df[\"Label\"].map(emoji_dictionary)\n",
    "df[\"EmojiName\"] = df[\"Label\"].map(emoji_names)\n",
    "df.head()"
   ]
  },
  {
   "cell_type": "markdown",
   "metadata": {},
   "source": [
    "Visualise the distribution of the data examples for each Emoji to check for class imbalance:\n"
   ]
  },
  {
   "cell_type": "code",
   "execution_count": 13,
   "metadata": {},
   "outputs": [
    {
     "data": {
      "text/plain": [
       "<seaborn.axisgrid.FacetGrid at 0x7ff364c1bcc0>"
      ]
     },
     "execution_count": 13,
     "metadata": {},
     "output_type": "execute_result"
    },
    {
     "data": {
      "image/png": "[encoded data removed]",
      "text/plain": [
       "<Figure size 640x360 with 1 Axes>"
      ]
     },
     "metadata": {
      "needs_background": "light"
     },
     "output_type": "display_data"
    }
   ],
   "source": [
    "sns.catplot(kind=\"count\", data=df, y=\"EmojiName\", aspect=16 / 9)"
   ]
  },
  {
   "cell_type": "code",
   "execution_count": 14,
   "metadata": {},
   "outputs": [
    {
     "data": {
      "text/plain": [
       "❤    18043\n",
       "😍     8537\n",
       "😂     8247\n",
       "🔥     5223\n",
       "📷     2496\n",
       "Name: Emoji, dtype: int64"
      ]
     },
     "execution_count": 14,
     "metadata": {},
     "output_type": "execute_result"
    }
   ],
   "source": [
    "df[\"Emoji\"].value_counts()"
   ]
  },
  {
   "cell_type": "markdown",
   "metadata": {},
   "source": [
    "Observations:\n",
    "- The disparty between the number of examples between the different Emojis show a significant class imbalance.\n",
    "- Metrics such as accuracy will not produce accurate results until the class imbalance issue is resolved. [[1]](https://machinelearningmastery.com/failure-of-accuracy-for-imbalanced-class-distributions/)"
   ]
  },
  {
   "cell_type": "markdown",
   "metadata": {},
   "source": [
    "Glancing through the data examples, one can make the following observations about the data:\n",
    "- Although there are no Emojis used in the data, emoticons such as `:)` or `:(` are present in the text data.\n",
    "- Common contractions ie `w/` to represent `with` are present in the text data.\n",
    "- Stylised words such as `O B E S S E D` will need to be converted its normal `obsessed` equavilent\n",
    "- Location words seem highly indicative that the class should be a 📷\n",
    "- The dataset mentions many locations in the US, as such state contractions such as NY for New York, LA for Los Angles can be safely expanded."
   ]
  },
  {
   "cell_type": "markdown",
   "metadata": {},
   "source": [
    "### 1.3 Data Processing\n"
   ]
  },
  {
   "cell_type": "markdown",
   "metadata": {},
   "source": [
    "Split the data to train/test subsets reserve 1000 examples for the test set:"
   ]
  },
  {
   "cell_type": "code",
   "execution_count": 15,
   "metadata": {},
   "outputs": [],
   "source": [
    "n_test = 5000\n",
    "mlflow.log_param(\"test_size\", n_test)\n",
    "# Split the X & y into train and test set\n",
    "train_texts, test_texts, train_labels, test_labels = train_test_split(\n",
    "    df[\"TEXT\"], df[\"Label\"], test_size=n_test\n",
    ")"
   ]
  },
  {
   "cell_type": "markdown",
   "metadata": {},
   "source": [
    "**Cleaning text data**: [[2]](https://www.kaggle.com/sudalairajkumar/getting-started-with-text-preprocessing) [[4]](https://www.sciencedirect.com/science/article/abs/pii/S0957417418303683)\n",
    "- `lower_case` - Convert all text tokens to lower case so that `Happy` and `happy` will appear the same to the model.\n",
    "- `replace_emot` - Replace emoticons such `:)` with their textual equvilent `happy`.\n",
    "- `remove_punc` - Remove punctuations such that `yes!` and `yes` would appear the same to model. Also removes trailing newlines.\n",
    "- `replace_unicode` - Replace unicode symbols such as `α` with `a`.\n",
    "- `replace_abbv` - Replace common abbreviations and contractions by by look up their full forms. Uses [slang.txt](https://raw.githubusercontent.com/Deffro/text-preprocessing-techniques/master/slang.txt)\n",
    "- `stopwords` - Removal of stopwords: meaningless words such as `the`, `a`, that are likely irrelevant to prediction.\n",
    "- `stemming` - Remove inflections from words (ie jump**ing**, jump**ed**, jump**s**,) by steming them. Mutually exclusive with `lemmatization`. Implies `lower_case`.\n",
    "- `lemmatization` - Remove inflections from words by looking up the word's lemma. Mutually exclusive with `stemming`."
   ]
  },
  {
   "cell_type": "code",
   "execution_count": 16,
   "metadata": {},
   "outputs": [],
   "source": [
    "def replace(text, mapping):\n",
    "    \"\"\"Replace words in the text that match the key in the mapping dict with its value\"\"\"\n",
    "    for word in TextBlob(text).words:\n",
    "        word = str(word)\n",
    "        if word in mapping:\n",
    "            text = text.replace(word, mapping[word])\n",
    "    return text"
   ]
  },
  {
   "cell_type": "markdown",
   "metadata": {},
   "source": [
    "Download corpora for replacing abbreviations"
   ]
  },
  {
   "cell_type": "code",
   "execution_count": 17,
   "metadata": {},
   "outputs": [
    {
     "name": "stdout",
     "output_type": "stream",
     "text": [
      "--2021-02-04 16:14:50--  https://raw.githubusercontent.com/Deffro/text-preprocessing-techniques/master/slang.txt\r\n",
      "Resolving raw.githubusercontent.com (raw.githubusercontent.com)... 151.101.8.133\r\n",
      "Connecting to raw.githubusercontent.com (raw.githubusercontent.com)|151.101.8.133|:443... connected.\r\n",
      "HTTP request sent, awaiting response... 200 OK\r\n",
      "Length: 5181 (5.1K) [text/plain]\r\n",
      "Saving to: ‘slang.txt’\r\n",
      "\r\n",
      "slang.txt           100%[===================>]   5.06K  --.-KB/s    in 0.001s  \r\n",
      "\r\n",
      "2021-02-04 16:14:50 (4.57 MB/s) - ‘slang.txt’ saved [5181/5181]\r\n",
      "\r\n"
     ]
    }
   ],
   "source": [
    "!wget https://raw.githubusercontent.com/Deffro/text-preprocessing-techniques/master/slang.txt -O slang.txt"
   ]
  },
  {
   "cell_type": "code",
   "execution_count": 18,
   "metadata": {},
   "outputs": [
    {
     "name": "stdout",
     "output_type": "stream",
     "text": [
      "--2021-02-04 16:14:50--  https://gist.githubusercontent.com/rugbyprof/76575b470b6772ce8fa0c49e23931d97/raw/eb731ce40f9c7c032f4db42e96889a3adbe54f8e/states.py\r\n",
      "Resolving gist.githubusercontent.com (gist.githubusercontent.com)... 151.101.8.133\r\n",
      "Connecting to gist.githubusercontent.com (gist.githubusercontent.com)|151.101.8.133|:443... connected.\r\n",
      "HTTP request sent, awaiting response... 200 OK\r\n",
      "Length: 1091 (1.1K) [text/plain]\r\n",
      "Saving to: ‘states.py’\r\n",
      "\r\n",
      "states.py           100%[===================>]   1.07K  --.-KB/s    in 0.003s  \r\n",
      "\r\n",
      "2021-02-04 16:14:53 (384 KB/s) - ‘states.py’ saved [1091/1091]\r\n",
      "\r\n"
     ]
    }
   ],
   "source": [
    "!wget https://gist.githubusercontent.com/rugbyprof/76575b470b6772ce8fa0c49e23931d97/raw/eb731ce40f9c7c032f4db42e96889a3adbe54f8e/states.py -O states.py"
   ]
  },
  {
   "cell_type": "markdown",
   "metadata": {},
   "source": [
    "Due to system memory constraints the final test text use to make the final prediction will be  prepared together with the rest of the data."
   ]
  },
  {
   "cell_type": "code",
   "execution_count": 19,
   "metadata": {},
   "outputs": [],
   "source": [
    "final_test_texts = [\"I missed him more than anything ️ @ Washington State University\\n\"]"
   ]
  },
  {
   "cell_type": "code",
   "execution_count": 20,
   "metadata": {},
   "outputs": [],
   "source": [
    "clean_params = {\n",
    "    \"lower_case\": True,\n",
    "    \"replace_emot\": True,\n",
    "    \"remove_punc\": True,\n",
    "    \"replace_unicode\": True,\n",
    "    \"replace_abbv\": True,\n",
    "    \"stopwords\": True,\n",
    "    \"stemming\": False,\n",
    "    \"lemmatization\": True,\n",
    "}\n",
    "mlflow.log_params(clean_params)"
   ]
  },
  {
   "cell_type": "code",
   "execution_count": 21,
   "metadata": {},
   "outputs": [],
   "source": [
    "from states import states as states_map\n",
    "\n",
    "\n",
    "def clean_texts(texts, clean_params):\n",
    "    \"\"\"Cleans the given texts applying clean techniques specified in clean_params\n",
    "    Returns:\n",
    "        The given texts with clean techniques applied\n",
    "    \"\"\"\n",
    "    # check mutually exclusive parameters\n",
    "    assert not (clean_params[\"stemming\"] and clean_params[\"lemmatization\"])\n",
    "\n",
    "    # remove trailing newlines\n",
    "    texts = np.asarray([t.rstrip() for t in texts])\n",
    "\n",
    "    # apply cleaning techniques on copy of dataframe\n",
    "    if clean_params[\"lower_case\"]:\n",
    "        texts = np.asarray([t.lower() for t in texts])\n",
    "\n",
    "    if clean_params[\"replace_emot\"]:\n",
    "\n",
    "        def replace_emot(text):\n",
    "            # replace emoticons with meaning if present\n",
    "            results = emoticons(text)\n",
    "            if results[\"flag\"]:\n",
    "                for location, meaning in zip(results[\"location\"], results[\"mean\"]):\n",
    "                    start, end = location\n",
    "                    # fix \"andry\" spelling mistake\n",
    "                    # https://github.com/NeelShah18/emot/pull/19/files\n",
    "                    meaning = meaning.replace(\"andry\", \"angry\")\n",
    "                    text = f\"{text[:start]} {meaning} {text[end+1:]}\"\n",
    "            return text\n",
    "\n",
    "        texts = np.asarray([replace_emot(t) for t in texts])\n",
    "\n",
    "    if clean_params[\"remove_punc\"]:\n",
    "        # … not recognized as puncuation, so remove it manually\n",
    "        texts = np.asarray([strip_punctuation(t.replace(\"…\", \"\")) for t in texts])\n",
    "\n",
    "    if clean_params[\"replace_unicode\"]:\n",
    "        texts = np.asarray([unidecode(t) for t in texts])\n",
    "\n",
    "    if clean_params[\"replace_abbv\"]:\n",
    "        # use utf-sig to fix escape characters\n",
    "        with open(\"slang.txt\", \"r\", encoding=\"utf-8-sig\") as f:\n",
    "            lines = f.readlines()\n",
    "        abbv_pairs = [tuple(line.split(maxsplit=1)) for line in lines]\n",
    "        # remove trailing newlines\n",
    "        abbv_map = {\n",
    "            # \\xa0 - for some reason latin spaces are present, replace with normal spaces.\n",
    "            abbv: full.rstrip().replace(\"\\xa0\", \"\")\n",
    "            for abbv, full in abbv_pairs\n",
    "        }\n",
    "        # additional abbreviation entries\n",
    "        abbv_map.update(\n",
    "            {\n",
    "                \"em\": \"them\",\n",
    "                \"v\": \"very\",\n",
    "            }\n",
    "        )\n",
    "        # expand  US state abbreviations\n",
    "        abbv_map.update(\n",
    "            {code.lower(): name.lower() for code, name in states_map.items()}\n",
    "        )\n",
    "        texts = np.asarray([replace(t, abbv_map) for t in texts])\n",
    "\n",
    "    if clean_params[\"stopwords\"]:\n",
    "        texts = np.asarray([remove_stopwords(t) for t in texts])\n",
    "    if clean_params[\"stemming\"]:\n",
    "        texts = np.asarray([stem_text(t) for t in texts])\n",
    "    if clean_params[\"lemmatization\"]:\n",
    "\n",
    "        def lemmatize(text):\n",
    "            lemma_map = {str(w): w.lemmatize() for w in TextBlob(text).words}\n",
    "            return replace(text, lemma_map)\n",
    "\n",
    "        texts = np.asarray([lemmatize(t) for t in texts])\n",
    "\n",
    "    return texts"
   ]
  },
  {
   "cell_type": "code",
   "execution_count": 22,
   "metadata": {},
   "outputs": [
    {
     "name": "stdout",
     "output_type": "stream",
     "text": [
      "CPU times: user 23.7 s, sys: 131 ms, total: 23.8 s\n",
      "Wall time: 23.9 s\n"
     ]
    }
   ],
   "source": [
    "%%time\n",
    "clean_train_texts = clean_texts(train_texts, clean_params)\n",
    "clean_test_texts = clean_texts(test_texts, clean_params)\n",
    "clean_final_test_texts = clean_texts(final_test_texts, clean_params)"
   ]
  },
  {
   "cell_type": "code",
   "execution_count": 23,
   "metadata": {},
   "outputs": [],
   "source": [
    "!rm slang.txt states.py"
   ]
  },
  {
   "cell_type": "markdown",
   "metadata": {},
   "source": [
    "**Converting text into vectors**:\n",
    "- `count` - Use the word count to vectorize text. Uses SVD to condense sparse vectors generated. [[5]](https://stackoverflow.com/a/34726420)\n",
    "- `tfidf` - Use tf-idf to vectorize text. Uses SVD to condense sparse vectors generated. [[5]](https://stackoverflow.com/a/34726420)\n",
    "- `fasttext` - Use pretrained english fasttext model to vectorize text. [[6]](https://github.com/facebookresearch/fastText/blob/master/docs/pretrained-vectors.md)\n",
    "\n",
    "> Out of an interest for time, `word2vec` is not included as`word2vec` vectors are significantly worst as compared to `fasttext` [[3]](https://github.com/RaRe-Technologies/gensim/blob/ba1ce894a5192fc493a865c535202695bb3c0424/docs/notebooks/Word2Vec_FastText_Comparison.ipynb)"
   ]
  },
  {
   "cell_type": "markdown",
   "metadata": {},
   "source": [
    "Download and load pretrained fastext vectors pretrained on common crawl dataset"
   ]
  },
  {
   "cell_type": "code",
   "execution_count": 24,
   "metadata": {},
   "outputs": [
    {
     "name": "stdout",
     "output_type": "stream",
     "text": [
      "CPU times: user 764 ms, sys: 3 s, total: 3.77 s\n",
      "Wall time: 5.5 s\n"
     ]
    },
    {
     "data": {
      "text/plain": [
       "<minio.datatypes.Object at 0x7ff286dc0358>"
      ]
     },
     "execution_count": 24,
     "metadata": {},
     "output_type": "execute_result"
    }
   ],
   "source": [
    "%%time\n",
    "# pull pretrained vectors from MINIO cache\n",
    "minio.fget_object(\n",
    "    bucket_name=\"cache\",\n",
    "    object_name=\"pretrained/fasttext/cc.en.bin\",\n",
    "    file_path=\"cc.en.bin\",\n",
    ")"
   ]
  },
  {
   "cell_type": "code",
   "execution_count": 25,
   "metadata": {},
   "outputs": [
    {
     "name": "stdout",
     "output_type": "stream",
     "text": [
      "CPU times: user 54.5 s, sys: 14.2 s, total: 1min 8s\n",
      "Wall time: 1min 9s\n"
     ]
    }
   ],
   "source": [
    "%%time \n",
    "fasttext_vecs = load_facebook_vectors(\"cc.en.bin\")"
   ]
  },
  {
   "cell_type": "code",
   "execution_count": 26,
   "metadata": {},
   "outputs": [],
   "source": [
    "# compute max no. of words per data example\n",
    "max_n_words = max(\n",
    "    [len(t.split()) for t in np.concatenate((clean_train_texts, clean_test_texts))]\n",
    ")\n",
    "vectorize_params = {\n",
    "    \"vectorize_method\": \"fasttext\",\n",
    "    \"vector_shape\": (max_n_words, 300),\n",
    "}\n",
    "mlflow.log_params(vectorize_params)"
   ]
  },
  {
   "cell_type": "code",
   "execution_count": 27,
   "metadata": {},
   "outputs": [],
   "source": [
    "def vectorize_texts(texts, corpus_texts, method, vector_shape):\n",
    "    \"\"\"\n",
    "    Vectorize the given texts into 2D feature matrix using the given method.\n",
    "    Args:\n",
    "        texts: Iterable collection of texts to vectorize.\n",
    "        corpus_texts: Vectorization methods are allowed to fit on this corpus.\n",
    "        method: Name of the method to use for vectorization\n",
    "        vector_shape: Shape of the 2D feature matrix generated for each data example\n",
    "            in the form (n_words, n_features)\n",
    "    Returns vector representation of the given texts.\n",
    "    \"\"\"\n",
    "\n",
    "    if method in [\"count\", \"tfidf\"]:\n",
    "        if method == \"count\":\n",
    "            count = CountVectorizer()\n",
    "            count.fit(corpus_texts)\n",
    "            sparse_vecs = count.transform(texts)\n",
    "        elif method == \"tfidf\":\n",
    "            tfidf = TfidfVectorizer()\n",
    "            tfidf.fit(corpus_texts)\n",
    "            sparse_vecs = tfidf.transform(texts)\n",
    "        # use svd to condense vectors to match target vector len\n",
    "        svd = TruncatedSVD(n_components=vector_shape[1])\n",
    "        text_vecs = svd.fit_transform(sparse_vecs)\n",
    "        # since both count and tfidf are bag of words representations, add the missing\n",
    "        # word dimension here: (examples, features) -> (examples, word, features)\n",
    "        text_vecs = np.expand_dims(text_vecs, axis=1)\n",
    "    elif method == \"fasttext\":\n",
    "\n",
    "        def vectorize_fasttext(text):\n",
    "            # convert only the the first vector_shape[0] words\n",
    "            convert_words = text.split()[: vector_shape[0]]\n",
    "            # handle case where convert_words are empty\n",
    "            if len(convert_words) <= 0:\n",
    "                convert_words = [\"???\"]\n",
    "            word_vecs = [fasttext_vecs[w] for w in convert_words]\n",
    "            return np.asarray(word_vecs)\n",
    "\n",
    "        text_vecs = [vectorize_fasttext(t) for t in texts]\n",
    "        # pad words dimension to match vector_shape[0]\n",
    "        text_vecs = [\n",
    "            np.pad(\n",
    "                v, [(0, max(0, vector_shape[0] - v.shape[0])), (0, 0)], mode=\"constant\"\n",
    "            )\n",
    "            for v in text_vecs\n",
    "        ]\n",
    "        text_vecs = np.asarray(text_vecs)\n",
    "    else:\n",
    "        raise NotImplementedError(f\"Vectorization method not supported: {method}\")\n",
    "\n",
    "    # pad the text vec with zeros if we dont meet target vector shape\n",
    "    pad_words_len = max(0, vector_shape[0] - text_vecs.shape[1])\n",
    "    pad_features_len = max(0, vector_shape[1] - text_vecs.shape[2])\n",
    "    text_vecs = np.pad(\n",
    "        text_vecs, [(0, 0), (0, pad_words_len), (0, pad_features_len)], mode=\"constant\"\n",
    "    )\n",
    "    return text_vecs"
   ]
  },
  {
   "cell_type": "code",
   "execution_count": 28,
   "metadata": {},
   "outputs": [
    {
     "name": "stdout",
     "output_type": "stream",
     "text": [
      "CPU times: user 3.38 s, sys: 2.22 s, total: 5.6 s\n",
      "Wall time: 5.61 s\n"
     ]
    }
   ],
   "source": [
    "%%time\n",
    "train_text_vecs = vectorize_texts(\n",
    "    clean_train_texts,\n",
    "    corpus_texts=clean_train_texts,\n",
    "    method=vectorize_params[\"vectorize_method\"],\n",
    "    vector_shape=vectorize_params[\"vector_shape\"],\n",
    ")\n",
    "\n",
    "test_text_vecs = vectorize_texts(\n",
    "    clean_test_texts,\n",
    "    corpus_texts=clean_train_texts,\n",
    "    method=vectorize_params[\"vectorize_method\"],\n",
    "    vector_shape=vectorize_params[\"vector_shape\"],\n",
    ")\n",
    "\n",
    "final_test_text_vecs = vectorize_texts(\n",
    "    clean_final_test_texts,\n",
    "    corpus_texts=clean_train_texts,\n",
    "    method=vectorize_params[\"vectorize_method\"],\n",
    "    vector_shape=vectorize_params[\"vector_shape\"],\n",
    ")"
   ]
  },
  {
   "cell_type": "code",
   "execution_count": 29,
   "metadata": {},
   "outputs": [
    {
     "data": {
      "text/plain": [
       "2679"
      ]
     },
     "execution_count": 29,
     "metadata": {},
     "output_type": "execute_result"
    }
   ],
   "source": [
    "# free memory used to store vectors\n",
    "del fasttext_vecs\n",
    "gc.collect()"
   ]
  },
  {
   "cell_type": "code",
   "execution_count": 30,
   "metadata": {},
   "outputs": [],
   "source": [
    "!rm -rf cc.en.bin"
   ]
  },
  {
   "cell_type": "markdown",
   "metadata": {},
   "source": [
    "**One hot encode labels**:"
   ]
  },
  {
   "cell_type": "code",
   "execution_count": 31,
   "metadata": {},
   "outputs": [],
   "source": [
    "train_labels_one_hot = to_categorical(train_labels, num_classes=len(emoji_dictionary))\n",
    "test_labels_one_hot = to_categorical(test_labels, num_classes=len(emoji_dictionary))"
   ]
  },
  {
   "cell_type": "markdown",
   "metadata": {},
   "source": [
    "## 1.3 Data Sampling"
   ]
  },
  {
   "cell_type": "markdown",
   "metadata": {},
   "source": [
    "To combat the class imbalance issue we can resample the training set [[7]](https://towardsdatascience.com/having-an-imbalanced-dataset-here-is-how-you-can-solve-it-1640568947eb):\n",
    "- `oversample` : Use Random Oversampling to duplicate the data examples for Emojis smaller no. of examples to match the majority class.\n",
    "- `undersample`: Use Random Undersampling to undersample the data examples for the Majority Emoji cass to match the minority class.\n",
    "- `SMOTE`: Interpolate new systhesised training examples between K nearest neighbours."
   ]
  },
  {
   "cell_type": "code",
   "execution_count": 32,
   "metadata": {},
   "outputs": [],
   "source": [
    "sampling_method = \"smote\"\n",
    "mlflow.log_param(\"sampling_method\", sampling_method)"
   ]
  },
  {
   "cell_type": "code",
   "execution_count": 33,
   "metadata": {},
   "outputs": [],
   "source": [
    "def resample_data(text_vecs, labels, method):\n",
    "    \"\"\"\n",
    "    Resample data using the following resampling method to resolve class imbalance.\n",
    "    Args:\n",
    "        text_vecs: Text Vectors in the\n",
    "        method: The resampling method to use.\n",
    "    Returns:\n",
    "        The resampled texts and labels\n",
    "    \"\"\"\n",
    "    resamplers = {\n",
    "        \"oversample\": RandomOverSampler(),\n",
    "        \"undersample\": RandomUnderSampler(),\n",
    "        \"smote\": SMOTE(),\n",
    "    }\n",
    "\n",
    "    if method not in resamplers:\n",
    "        raise NotImplementedError(f\"Resampling method not supported: {method}\")\n",
    "    resampler = resamplers[method]\n",
    "    # flatten word, features dimensions into features dimension\n",
    "    # as imblearn only supports 2D as inputs\n",
    "    vector_shape = text_vecs.shape[1:]\n",
    "    flat_text_vecs = np.reshape(text_vecs, (len(text_vecs), -1))\n",
    "    flat_text_vecs, labels = resampler.fit_resample(flat_text_vecs, labels)\n",
    "    # restore word, features dimensions\n",
    "    text_vecs = np.reshape(flat_text_vecs, (len(flat_text_vecs),) + vector_shape)\n",
    "    return text_vecs, labels"
   ]
  },
  {
   "cell_type": "code",
   "execution_count": 34,
   "metadata": {},
   "outputs": [],
   "source": [
    "train_text_vecs_sampled, train_labels_sampled = resample_data(\n",
    "    train_text_vecs, train_labels, \"oversample\"\n",
    ")"
   ]
  },
  {
   "cell_type": "markdown",
   "metadata": {},
   "source": [
    "Plot the training label distribution to check that  class imbalance issue has been resolved:"
   ]
  },
  {
   "cell_type": "code",
   "execution_count": 35,
   "metadata": {},
   "outputs": [
    {
     "data": {
      "text/plain": [
       "<seaborn.axisgrid.FacetGrid at 0x7ff09a593e10>"
      ]
     },
     "execution_count": 35,
     "metadata": {},
     "output_type": "execute_result"
    },
    {
     "data": {
      "image/png": "[encoded data removed]",
      "text/plain": [
       "<Figure size 360x360 with 1 Axes>"
      ]
     },
     "metadata": {
      "needs_background": "light"
     },
     "output_type": "display_data"
    }
   ],
   "source": [
    "sns.catplot(kind=\"count\", x=\"Label\", data=pd.DataFrame(train_labels_sampled))"
   ]
  },
  {
   "cell_type": "code",
   "execution_count": 36,
   "metadata": {},
   "outputs": [
    {
     "data": {
      "text/plain": [
       "(37546,)"
      ]
     },
     "execution_count": 36,
     "metadata": {},
     "output_type": "execute_result"
    }
   ],
   "source": [
    "train_labels.shape"
   ]
  },
  {
   "cell_type": "markdown",
   "metadata": {},
   "source": [
    "## Step 2 – Develop a Sentiment Analysis Model"
   ]
  },
  {
   "cell_type": "markdown",
   "metadata": {},
   "source": [
    "### Building the Model"
   ]
  },
  {
   "cell_type": "code",
   "execution_count": 37,
   "metadata": {},
   "outputs": [
    {
     "name": "stdout",
     "output_type": "stream",
     "text": [
      "Model: \"model\"\n",
      "_________________________________________________________________\n",
      "Layer (type)                 Output Shape              Param #   \n",
      "=================================================================\n",
      "input_1 (InputLayer)         [(None, 32, 300)]         0         \n",
      "_________________________________________________________________\n",
      "lstm (LSTM)                  (None, 32, 64)            93440     \n",
      "_________________________________________________________________\n",
      "layer_normalization (LayerNo (None, 32, 64)            128       \n",
      "_________________________________________________________________\n",
      "lstm_1 (LSTM)                (None, 32, 64)            33024     \n",
      "_________________________________________________________________\n",
      "layer_normalization_1 (Layer (None, 32, 64)            128       \n",
      "_________________________________________________________________\n",
      "lstm_2 (LSTM)                (None, 64)                33024     \n",
      "_________________________________________________________________\n",
      "layer_normalization_2 (Layer (None, 64)                128       \n",
      "_________________________________________________________________\n",
      "dense (Dense)                (None, 5)                 325       \n",
      "=================================================================\n",
      "Total params: 160,197\n",
      "Trainable params: 160,197\n",
      "Non-trainable params: 0\n",
      "_________________________________________________________________\n"
     ]
    }
   ],
   "source": [
    "build_model(\n",
    "    input_shape=vectorize_params[\"vector_shape\"], n_classes=len(emoji_dictionary)\n",
    ").summary()"
   ]
  },
  {
   "cell_type": "markdown",
   "metadata": {},
   "source": [
    "Putting the building blocks together to build a model:"
   ]
  },
  {
   "cell_type": "markdown",
   "metadata": {},
   "source": [
    "### Train the Model"
   ]
  },
  {
   "cell_type": "code",
   "execution_count": 38,
   "metadata": {},
   "outputs": [
    {
     "name": "stdout",
     "output_type": "stream",
     "text": [
      "INFO:tensorflow:Using MirroredStrategy with devices ('/job:localhost/replica:0/task:0/device:GPU:0', '/job:localhost/replica:0/task:0/device:GPU:1')\n",
      "WARNING:tensorflow:Large dropout rate: 0.6 (>0.5). In TensorFlow 2.x, dropout() uses dropout rate instead of keep_prob. Please ensure that this is intended.\n",
      "WARNING:tensorflow:Large dropout rate: 0.6 (>0.5). In TensorFlow 2.x, dropout() uses dropout rate instead of keep_prob. Please ensure that this is intended.\n",
      "WARNING:tensorflow:Large dropout rate: 0.6 (>0.5). In TensorFlow 2.x, dropout() uses dropout rate instead of keep_prob. Please ensure that this is intended.\n",
      "WARNING:tensorflow:Large dropout rate: 0.6 (>0.5). In TensorFlow 2.x, dropout() uses dropout rate instead of keep_prob. Please ensure that this is intended.\n",
      "WARNING:tensorflow:Large dropout rate: 0.6 (>0.5). In TensorFlow 2.x, dropout() uses dropout rate instead of keep_prob. Please ensure that this is intended.\n",
      "INFO:tensorflow:Reduce to /job:localhost/replica:0/task:0/device:CPU:0 then broadcast to ('/job:localhost/replica:0/task:0/device:CPU:0',).\n",
      "INFO:tensorflow:Reduce to /job:localhost/replica:0/task:0/device:CPU:0 then broadcast to ('/job:localhost/replica:0/task:0/device:CPU:0',).\n",
      "Train on 33791 samples, validate on 3755 samples\n",
      "Epoch 1/60\n",
      "INFO:tensorflow:batch_all_reduce: 12 all-reduces with algorithm = hierarchical_copy, num_packs = 1, agg_small_grads_max_bytes = 0 and agg_small_grads_max_group = 10\n",
      "INFO:tensorflow:Reduce to /job:localhost/replica:0/task:0/device:CPU:0 then broadcast to ('/job:localhost/replica:0/task:0/device:CPU:0',).\n",
      "INFO:tensorflow:Reduce to /job:localhost/replica:0/task:0/device:CPU:0 then broadcast to ('/job:localhost/replica:0/task:0/device:CPU:0',).\n",
      "INFO:tensorflow:Reduce to /job:localhost/replica:0/task:0/device:CPU:0 then broadcast to ('/job:localhost/replica:0/task:0/device:CPU:0',).\n",
      "INFO:tensorflow:Reduce to /job:localhost/replica:0/task:0/device:CPU:0 then broadcast to ('/job:localhost/replica:0/task:0/device:CPU:0',).\n",
      "INFO:tensorflow:batch_all_reduce: 12 all-reduces with algorithm = hierarchical_copy, num_packs = 1, agg_small_grads_max_bytes = 0 and agg_small_grads_max_group = 10\n",
      "INFO:tensorflow:Reduce to /job:localhost/replica:0/task:0/device:CPU:0 then broadcast to ('/job:localhost/replica:0/task:0/device:CPU:0',).\n",
      "INFO:tensorflow:Reduce to /job:localhost/replica:0/task:0/device:CPU:0 then broadcast to ('/job:localhost/replica:0/task:0/device:CPU:0',).\n",
      "INFO:tensorflow:Reduce to /job:localhost/replica:0/task:0/device:CPU:0 then broadcast to ('/job:localhost/replica:0/task:0/device:CPU:0',).\n",
      "INFO:tensorflow:Reduce to /job:localhost/replica:0/task:0/device:CPU:0 then broadcast to ('/job:localhost/replica:0/task:0/device:CPU:0',).\n",
      "33791/33791 [==============================] - 32s 960us/sample - loss: 1.6419 - accuracy: 0.3486 - val_loss: 1.3982 - val_accuracy: 0.4242\n",
      "Epoch 2/60\n",
      "33791/33791 [==============================] - 22s 651us/sample - loss: 1.4507 - accuracy: 0.3969 - val_loss: 1.2788 - val_accuracy: 0.4498\n",
      "Epoch 3/60\n",
      "33791/33791 [==============================] - 22s 654us/sample - loss: 1.3482 - accuracy: 0.4120 - val_loss: 1.2175 - val_accuracy: 0.4570\n",
      "Epoch 4/60\n",
      "33791/33791 [==============================] - 22s 652us/sample - loss: 1.2919 - accuracy: 0.4286 - val_loss: 1.2089 - val_accuracy: 0.4631\n",
      "Epoch 5/60\n",
      "33791/33791 [==============================] - 22s 650us/sample - loss: 1.2648 - accuracy: 0.4306 - val_loss: 1.1959 - val_accuracy: 0.4535\n",
      "Epoch 6/60\n",
      "33791/33791 [==============================] - 22s 651us/sample - loss: 1.2439 - accuracy: 0.4395 - val_loss: 1.1749 - val_accuracy: 0.4935\n",
      "Epoch 7/60\n",
      "33791/33791 [==============================] - 22s 648us/sample - loss: 1.2228 - accuracy: 0.4549 - val_loss: 1.1466 - val_accuracy: 0.5119\n",
      "Epoch 8/60\n",
      "33791/33791 [==============================] - 22s 648us/sample - loss: 1.1982 - accuracy: 0.4742 - val_loss: 1.1248 - val_accuracy: 0.5172\n",
      "Epoch 9/60\n",
      "33791/33791 [==============================] - 22s 645us/sample - loss: 1.1744 - accuracy: 0.4877 - val_loss: 1.1091 - val_accuracy: 0.5222\n",
      "Epoch 10/60\n",
      "33791/33791 [==============================] - 22s 658us/sample - loss: 1.1505 - accuracy: 0.5054 - val_loss: 1.0950 - val_accuracy: 0.5292\n",
      "Epoch 11/60\n",
      "33791/33791 [==============================] - 22s 652us/sample - loss: 1.1275 - accuracy: 0.5180 - val_loss: 1.0800 - val_accuracy: 0.5358\n",
      "Epoch 12/60\n",
      "33791/33791 [==============================] - 22s 653us/sample - loss: 1.1071 - accuracy: 0.5308 - val_loss: 1.0706 - val_accuracy: 0.5387\n",
      "Epoch 13/60\n",
      "33791/33791 [==============================] - 22s 663us/sample - loss: 1.0859 - accuracy: 0.5416 - val_loss: 1.0634 - val_accuracy: 0.5422\n",
      "Epoch 14/60\n",
      "33791/33791 [==============================] - 22s 656us/sample - loss: 1.0710 - accuracy: 0.5481 - val_loss: 1.0506 - val_accuracy: 0.5483\n",
      "Epoch 15/60\n",
      "33791/33791 [==============================] - 22s 654us/sample - loss: 1.0610 - accuracy: 0.5501 - val_loss: 1.0453 - val_accuracy: 0.5569\n",
      "Epoch 16/60\n",
      "33791/33791 [==============================] - 22s 659us/sample - loss: 1.0433 - accuracy: 0.5594 - val_loss: 1.0350 - val_accuracy: 0.5672\n",
      "Epoch 17/60\n",
      "33791/33791 [==============================] - 22s 653us/sample - loss: 1.0341 - accuracy: 0.5653 - val_loss: 1.0282 - val_accuracy: 0.5696\n",
      "Epoch 18/60\n",
      "33791/33791 [==============================] - 22s 659us/sample - loss: 1.0232 - accuracy: 0.5720 - val_loss: 1.0226 - val_accuracy: 0.5760\n",
      "Epoch 19/60\n",
      "33791/33791 [==============================] - 22s 657us/sample - loss: 1.0134 - accuracy: 0.5781 - val_loss: 1.0168 - val_accuracy: 0.5792\n",
      "Epoch 20/60\n",
      "33791/33791 [==============================] - 22s 658us/sample - loss: 1.0042 - accuracy: 0.5847 - val_loss: 1.0164 - val_accuracy: 0.5766\n",
      "Epoch 21/60\n",
      "33791/33791 [==============================] - 22s 658us/sample - loss: 0.9996 - accuracy: 0.5878 - val_loss: 1.0061 - val_accuracy: 0.5867\n",
      "Epoch 22/60\n",
      "33791/33791 [==============================] - 22s 651us/sample - loss: 0.9911 - accuracy: 0.5914 - val_loss: 1.0057 - val_accuracy: 0.5880\n",
      "Epoch 23/60\n",
      "33791/33791 [==============================] - 22s 655us/sample - loss: 0.9853 - accuracy: 0.5934 - val_loss: 1.0020 - val_accuracy: 0.5949\n",
      "Epoch 24/60\n",
      "33791/33791 [==============================] - 22s 647us/sample - loss: 0.9802 - accuracy: 0.5950 - val_loss: 0.9989 - val_accuracy: 0.5949\n",
      "Epoch 25/60\n",
      "33791/33791 [==============================] - 22s 651us/sample - loss: 0.9754 - accuracy: 0.5992 - val_loss: 0.9979 - val_accuracy: 0.5915\n",
      "Epoch 26/60\n",
      "33791/33791 [==============================] - 22s 655us/sample - loss: 0.9674 - accuracy: 0.6027 - val_loss: 0.9950 - val_accuracy: 0.5952\n",
      "Epoch 27/60\n",
      "33791/33791 [==============================] - 22s 656us/sample - loss: 0.9646 - accuracy: 0.6053 - val_loss: 0.9901 - val_accuracy: 0.5968\n",
      "Epoch 28/60\n",
      "33791/33791 [==============================] - 22s 648us/sample - loss: 0.9589 - accuracy: 0.6092 - val_loss: 0.9951 - val_accuracy: 0.5899\n",
      "Epoch 29/60\n",
      "33791/33791 [==============================] - 22s 643us/sample - loss: 0.9525 - accuracy: 0.6114 - val_loss: 0.9877 - val_accuracy: 0.5949\n",
      "Epoch 30/60\n",
      "33791/33791 [==============================] - 22s 660us/sample - loss: 0.9494 - accuracy: 0.6129 - val_loss: 0.9841 - val_accuracy: 0.5952\n",
      "Epoch 31/60\n",
      "33791/33791 [==============================] - 22s 652us/sample - loss: 0.9458 - accuracy: 0.6140 - val_loss: 0.9846 - val_accuracy: 0.6019\n",
      "Epoch 32/60\n",
      "33791/33791 [==============================] - 22s 648us/sample - loss: 0.9416 - accuracy: 0.6167 - val_loss: 0.9856 - val_accuracy: 0.5955\n",
      "Epoch 33/60\n",
      "33791/33791 [==============================] - 22s 644us/sample - loss: 0.9376 - accuracy: 0.6173 - val_loss: 0.9865 - val_accuracy: 0.5952\n",
      "Epoch 34/60\n",
      "33791/33791 [==============================] - 22s 652us/sample - loss: 0.9358 - accuracy: 0.6211 - val_loss: 0.9806 - val_accuracy: 0.6027\n",
      "Epoch 35/60\n",
      "33791/33791 [==============================] - 22s 653us/sample - loss: 0.9299 - accuracy: 0.6234 - val_loss: 0.9780 - val_accuracy: 0.6051\n",
      "Epoch 36/60\n",
      "33791/33791 [==============================] - 22s 655us/sample - loss: 0.9276 - accuracy: 0.6230 - val_loss: 0.9789 - val_accuracy: 0.6040\n",
      "Epoch 37/60\n",
      "33791/33791 [==============================] - 22s 651us/sample - loss: 0.9247 - accuracy: 0.6248 - val_loss: 0.9783 - val_accuracy: 0.6019\n",
      "Epoch 38/60\n",
      "33791/33791 [==============================] - 22s 656us/sample - loss: 0.9201 - accuracy: 0.6284 - val_loss: 0.9795 - val_accuracy: 0.6013\n",
      "Epoch 39/60\n",
      "33791/33791 [==============================] - 22s 645us/sample - loss: 0.9159 - accuracy: 0.6295 - val_loss: 0.9742 - val_accuracy: 0.6040\n",
      "Epoch 40/60\n",
      "33791/33791 [==============================] - 22s 647us/sample - loss: 0.9150 - accuracy: 0.6269 - val_loss: 0.9768 - val_accuracy: 0.6003\n",
      "Epoch 41/60\n",
      "33791/33791 [==============================] - 22s 658us/sample - loss: 0.9123 - accuracy: 0.6312 - val_loss: 0.9767 - val_accuracy: 0.6083\n",
      "Epoch 42/60\n",
      "33791/33791 [==============================] - 22s 654us/sample - loss: 0.9073 - accuracy: 0.6338 - val_loss: 0.9732 - val_accuracy: 0.6080\n",
      "Epoch 43/60\n",
      "33791/33791 [==============================] - 22s 653us/sample - loss: 0.9060 - accuracy: 0.6357 - val_loss: 0.9712 - val_accuracy: 0.6091\n",
      "Epoch 44/60\n",
      "33791/33791 [==============================] - 22s 649us/sample - loss: 0.9025 - accuracy: 0.6340 - val_loss: 0.9712 - val_accuracy: 0.6067\n",
      "Epoch 45/60\n",
      "33791/33791 [==============================] - 22s 653us/sample - loss: 0.8982 - accuracy: 0.6370 - val_loss: 0.9710 - val_accuracy: 0.6091\n",
      "Epoch 46/60\n",
      "33791/33791 [==============================] - 22s 647us/sample - loss: 0.8963 - accuracy: 0.6368 - val_loss: 0.9693 - val_accuracy: 0.6077\n",
      "Epoch 47/60\n",
      "33791/33791 [==============================] - 22s 649us/sample - loss: 0.8926 - accuracy: 0.6407 - val_loss: 0.9693 - val_accuracy: 0.6064\n",
      "Epoch 48/60\n",
      "33791/33791 [==============================] - 22s 654us/sample - loss: 0.8878 - accuracy: 0.6409 - val_loss: 0.9710 - val_accuracy: 0.6144\n",
      "Epoch 49/60\n",
      "33791/33791 [==============================] - 22s 653us/sample - loss: 0.8859 - accuracy: 0.6434 - val_loss: 0.9688 - val_accuracy: 0.6104\n",
      "Epoch 50/60\n",
      "33791/33791 [==============================] - 22s 658us/sample - loss: 0.8833 - accuracy: 0.6459 - val_loss: 0.9680 - val_accuracy: 0.6160\n",
      "Epoch 51/60\n",
      "33791/33791 [==============================] - 22s 655us/sample - loss: 0.8790 - accuracy: 0.6475 - val_loss: 0.9697 - val_accuracy: 0.6083\n",
      "Epoch 52/60\n",
      "33791/33791 [==============================] - 22s 659us/sample - loss: 0.8758 - accuracy: 0.6489 - val_loss: 0.9688 - val_accuracy: 0.6101\n",
      "Epoch 53/60\n",
      "33791/33791 [==============================] - 22s 650us/sample - loss: 0.8720 - accuracy: 0.6494 - val_loss: 0.9680 - val_accuracy: 0.6099\n",
      "Epoch 54/60\n",
      "33791/33791 [==============================] - 22s 652us/sample - loss: 0.8681 - accuracy: 0.6530 - val_loss: 0.9693 - val_accuracy: 0.6093\n",
      "Epoch 55/60\n",
      "33791/33791 [==============================] - 22s 656us/sample - loss: 0.8670 - accuracy: 0.6518 - val_loss: 0.9674 - val_accuracy: 0.6168\n",
      "Epoch 56/60\n",
      "33791/33791 [==============================] - 22s 656us/sample - loss: 0.8641 - accuracy: 0.6526 - val_loss: 0.9692 - val_accuracy: 0.6077\n",
      "Epoch 57/60\n",
      "33791/33791 [==============================] - 22s 653us/sample - loss: 0.8602 - accuracy: 0.6546 - val_loss: 0.9725 - val_accuracy: 0.6123\n",
      "Epoch 58/60\n",
      "33791/33791 [==============================] - 22s 657us/sample - loss: 0.8580 - accuracy: 0.6557 - val_loss: 0.9668 - val_accuracy: 0.6133\n",
      "Epoch 59/60\n",
      "33791/33791 [==============================] - 22s 654us/sample - loss: 0.8530 - accuracy: 0.6608 - val_loss: 0.9632 - val_accuracy: 0.6173\n",
      "Epoch 60/60\n",
      "33791/33791 [==============================] - 22s 650us/sample - loss: 0.8487 - accuracy: 0.6611 - val_loss: 0.9704 - val_accuracy: 0.6146\n",
      "5000/5000 - 4s - loss: 0.9788 - accuracy: 0.6034\n"
     ]
    }
   ],
   "source": [
    "multi_gpu =  tf.distribute.MirroredStrategy(\n",
    "    cross_device_ops=tf.distribute.HierarchicalCopyAllReduce()\n",
    ")\n",
    "\n",
    "with multi_gpu.scope():\n",
    "    model = train_eval_model(\n",
    "        train_data=(train_text_vecs, train_labels_one_hot),\n",
    "        validation_data=0.1,\n",
    "        test_data=(test_text_vecs, test_labels_one_hot),\n",
    "        build_model_fn=build_model,\n",
    "        n_classes=len(emoji_dictionary),\n",
    "        tags={\n",
    "            \"project\": \"dl-assign-2\",\n",
    "            \"part\": \"1\",\n",
    "            \"model\": \"sentiment\",\n",
    "        },\n",
    "        input_shape=vectorize_params[\"vector_shape\"],\n",
    "        git_repo=Repo(search_parent_directories=True),\n",
    "        run_name=None,\n",
    "        epochs=60,\n",
    "        lr=1e-4,\n",
    "        optimizer=\"adam\",\n",
    "        sgd_momentum=0.9,\n",
    "        loss=\"categorical_crossentropy\",\n",
    "        metrics=[\n",
    "            \"accuracy\",\n",
    "        ],\n",
    "        reduce_lr_stuck=False,\n",
    "        reduce_lr_patience=10,\n",
    "        reduce_lr_factor=0.5,\n",
    "        batch_size=256,\n",
    "        dropout_prob=0.6,\n",
    "        l2_reg=None,\n",
    "        rnn_cell=\"lstm\",\n",
    "        n_rnn_units=128,\n",
    "        n_rnn_layers=2,\n",
    "        rnn_bidirectional=False,\n",
    "        rnn_activation=\"tanh\",\n",
    "        use_layer_norm=True,\n",
    "        n_dense_units=0,\n",
    "        use_batch_norm=True,\n",
    "        dense_activation=\"relu\",\n",
    "    )\n",
    "mlflow.end_run()"
   ]
  },
  {
   "cell_type": "markdown",
   "metadata": {},
   "source": [
    "## Step 3 – Evaluate the Model using Testing Data "
   ]
  },
  {
   "cell_type": "markdown",
   "metadata": {},
   "source": [
    "`train_eval_model()` both trains model and evaluates the model on the test set:\n",
    "```python\n",
    "    # excerpt from train_eval_model() source.\n",
    "    # evaluate model\n",
    "    test_metrics = model.evaluate(*test_data, verbose=2)\n",
    "```\n",
    "The source code for `train_eval_model()` can be found [hosted here](https://github.com/mrzzy/np-dl-assign-2/blob/master/notebooks/modeling.py#L187)"
   ]
  },
  {
   "cell_type": "markdown",
   "metadata": {},
   "source": [
    "Pull the model parameters and evaluated metrics pushed by `train_eval_model()` from `mlflow`:"
   ]
  },
  {
   "cell_type": "code",
   "execution_count": 39,
   "metadata": {},
   "outputs": [],
   "source": [
    "float_cols = [\n",
    "    \"loss\",\n",
    "    \"dropout_prob\",\n",
    "    \"n_classes\",\n",
    "    \"n_rnn_units\",\n",
    "    \"n_dense_units\",\n",
    "    \"learning_rate\",\n",
    "    \"fit_epochs\",\n",
    "    \"batch_size\",\n",
    "    \"accuracy\",\n",
    "    \"val_accuracy\",\n",
    "    \"val_loss\",\n",
    "    \"test_loss\",\n",
    "    \"test_accuracy\",\n",
    "]\n",
    "run_df, metrics_df = extract_run_meta_metrics(\n",
    "    experiment=\"np-dl-2-p1-sentiment\",\n",
    "    float_cols=float_cols,\n",
    ")"
   ]
  },
  {
   "cell_type": "code",
   "execution_count": 40,
   "metadata": {},
   "outputs": [
    {
     "data": {
      "text/html": [
       "<div>\n",
       "<style scoped>\n",
       "    .dataframe tbody tr th:only-of-type {\n",
       "        vertical-align: middle;\n",
       "    }\n",
       "\n",
       "    .dataframe tbody tr th {\n",
       "        vertical-align: top;\n",
       "    }\n",
       "\n",
       "    .dataframe thead th {\n",
       "        text-align: right;\n",
       "    }\n",
       "</style>\n",
       "<table border=\"1\" class=\"dataframe\">\n",
       "  <thead>\n",
       "    <tr style=\"text-align: right;\">\n",
       "      <th></th>\n",
       "      <th>artifact_uri</th>\n",
       "      <th>time_ms</th>\n",
       "      <th>status</th>\n",
       "      <th>test_size</th>\n",
       "      <th>lower_case</th>\n",
       "      <th>replace_emot</th>\n",
       "      <th>remove_punc</th>\n",
       "      <th>replace_unicode</th>\n",
       "      <th>replace_abbv</th>\n",
       "      <th>stopwords</th>\n",
       "      <th>...</th>\n",
       "      <th>mlflow.log-model.history</th>\n",
       "      <th>val_accuracy</th>\n",
       "      <th>test_loss</th>\n",
       "      <th>accuracy</th>\n",
       "      <th>val_loss</th>\n",
       "      <th>test_accuracy</th>\n",
       "      <th>validation_split</th>\n",
       "      <th>reduce_lr_factor</th>\n",
       "      <th>reduce_lr_patience</th>\n",
       "      <th>lr</th>\n",
       "    </tr>\n",
       "    <tr>\n",
       "      <th>run_id</th>\n",
       "      <th></th>\n",
       "      <th></th>\n",
       "      <th></th>\n",
       "      <th></th>\n",
       "      <th></th>\n",
       "      <th></th>\n",
       "      <th></th>\n",
       "      <th></th>\n",
       "      <th></th>\n",
       "      <th></th>\n",
       "      <th></th>\n",
       "      <th></th>\n",
       "      <th></th>\n",
       "      <th></th>\n",
       "      <th></th>\n",
       "      <th></th>\n",
       "      <th></th>\n",
       "      <th></th>\n",
       "      <th></th>\n",
       "      <th></th>\n",
       "      <th></th>\n",
       "    </tr>\n",
       "  </thead>\n",
       "  <tbody>\n",
       "    <tr>\n",
       "      <th>254888b1fb894692bc2d598d2e4ac265</th>\n",
       "      <td>s3://mlflow/10/254888b1fb894692bc2d598d2e4ac26...</td>\n",
       "      <td>1456615</td>\n",
       "      <td>FINISHED</td>\n",
       "      <td>5000</td>\n",
       "      <td>True</td>\n",
       "      <td>True</td>\n",
       "      <td>True</td>\n",
       "      <td>True</td>\n",
       "      <td>True</td>\n",
       "      <td>True</td>\n",
       "      <td>...</td>\n",
       "      <td>[{\"run_id\": \"254888b1fb894692bc2d598d2e4ac265\"...</td>\n",
       "      <td>0.614647</td>\n",
       "      <td>0.978832</td>\n",
       "      <td>0.661064</td>\n",
       "      <td>0.970396</td>\n",
       "      <td>0.6034</td>\n",
       "      <td>NaN</td>\n",
       "      <td>NaN</td>\n",
       "      <td>NaN</td>\n",
       "      <td>NaN</td>\n",
       "    </tr>\n",
       "    <tr>\n",
       "      <th>08745ab48b694ce9b72cb2b6c0cbf419</th>\n",
       "      <td>s3://mlflow/10/08745ab48b694ce9b72cb2b6c0cbf41...</td>\n",
       "      <td>747448</td>\n",
       "      <td>FINISHED</td>\n",
       "      <td>5000</td>\n",
       "      <td>True</td>\n",
       "      <td>True</td>\n",
       "      <td>True</td>\n",
       "      <td>True</td>\n",
       "      <td>True</td>\n",
       "      <td>True</td>\n",
       "      <td>...</td>\n",
       "      <td>[{\"run_id\": \"08745ab48b694ce9b72cb2b6c0cbf419\"...</td>\n",
       "      <td>0.654860</td>\n",
       "      <td>2.451613</td>\n",
       "      <td>0.981889</td>\n",
       "      <td>2.473191</td>\n",
       "      <td>0.6624</td>\n",
       "      <td>NaN</td>\n",
       "      <td>NaN</td>\n",
       "      <td>NaN</td>\n",
       "      <td>NaN</td>\n",
       "    </tr>\n",
       "    <tr>\n",
       "      <th>0781e4b4cb154963b48e03603009abb5</th>\n",
       "      <td>s3://mlflow/10/0781e4b4cb154963b48e03603009abb...</td>\n",
       "      <td>755836</td>\n",
       "      <td>FINISHED</td>\n",
       "      <td>5000</td>\n",
       "      <td>True</td>\n",
       "      <td>True</td>\n",
       "      <td>True</td>\n",
       "      <td>True</td>\n",
       "      <td>True</td>\n",
       "      <td>True</td>\n",
       "      <td>...</td>\n",
       "      <td>[{\"run_id\": \"0781e4b4cb154963b48e03603009abb5\"...</td>\n",
       "      <td>0.683089</td>\n",
       "      <td>2.442696</td>\n",
       "      <td>0.979048</td>\n",
       "      <td>2.490932</td>\n",
       "      <td>0.6798</td>\n",
       "      <td>NaN</td>\n",
       "      <td>NaN</td>\n",
       "      <td>NaN</td>\n",
       "      <td>NaN</td>\n",
       "    </tr>\n",
       "    <tr>\n",
       "      <th>14657106dc0f4a4e8db2c2ec96d00177</th>\n",
       "      <td>s3://mlflow/10/14657106dc0f4a4e8db2c2ec96d0017...</td>\n",
       "      <td>739593</td>\n",
       "      <td>FINISHED</td>\n",
       "      <td>5000</td>\n",
       "      <td>True</td>\n",
       "      <td>True</td>\n",
       "      <td>True</td>\n",
       "      <td>True</td>\n",
       "      <td>True</td>\n",
       "      <td>True</td>\n",
       "      <td>...</td>\n",
       "      <td>[{\"run_id\": \"14657106dc0f4a4e8db2c2ec96d00177\"...</td>\n",
       "      <td>0.668442</td>\n",
       "      <td>2.453236</td>\n",
       "      <td>0.977686</td>\n",
       "      <td>2.422574</td>\n",
       "      <td>0.6648</td>\n",
       "      <td>0.1</td>\n",
       "      <td>NaN</td>\n",
       "      <td>NaN</td>\n",
       "      <td>NaN</td>\n",
       "    </tr>\n",
       "    <tr>\n",
       "      <th>5601abf43be548ab9dc3b232f21549e3</th>\n",
       "      <td>s3://mlflow/10/5601abf43be548ab9dc3b232f21549e...</td>\n",
       "      <td>746115</td>\n",
       "      <td>FINISHED</td>\n",
       "      <td>5000</td>\n",
       "      <td>True</td>\n",
       "      <td>True</td>\n",
       "      <td>True</td>\n",
       "      <td>True</td>\n",
       "      <td>True</td>\n",
       "      <td>True</td>\n",
       "      <td>...</td>\n",
       "      <td>[{\"run_id\": \"5601abf43be548ab9dc3b232f21549e3\"...</td>\n",
       "      <td>0.680426</td>\n",
       "      <td>2.604576</td>\n",
       "      <td>0.982362</td>\n",
       "      <td>2.427018</td>\n",
       "      <td>0.6570</td>\n",
       "      <td>0.1</td>\n",
       "      <td>NaN</td>\n",
       "      <td>NaN</td>\n",
       "      <td>NaN</td>\n",
       "    </tr>\n",
       "  </tbody>\n",
       "</table>\n",
       "<p>5 rows × 54 columns</p>\n",
       "</div>"
      ],
      "text/plain": [
       "                                                                       artifact_uri  \\\n",
       "run_id                                                                                \n",
       "254888b1fb894692bc2d598d2e4ac265  s3://mlflow/10/254888b1fb894692bc2d598d2e4ac26...   \n",
       "08745ab48b694ce9b72cb2b6c0cbf419  s3://mlflow/10/08745ab48b694ce9b72cb2b6c0cbf41...   \n",
       "0781e4b4cb154963b48e03603009abb5  s3://mlflow/10/0781e4b4cb154963b48e03603009abb...   \n",
       "14657106dc0f4a4e8db2c2ec96d00177  s3://mlflow/10/14657106dc0f4a4e8db2c2ec96d0017...   \n",
       "5601abf43be548ab9dc3b232f21549e3  s3://mlflow/10/5601abf43be548ab9dc3b232f21549e...   \n",
       "\n",
       "                                  time_ms    status test_size lower_case  \\\n",
       "run_id                                                                     \n",
       "254888b1fb894692bc2d598d2e4ac265  1456615  FINISHED      5000       True   \n",
       "08745ab48b694ce9b72cb2b6c0cbf419   747448  FINISHED      5000       True   \n",
       "0781e4b4cb154963b48e03603009abb5   755836  FINISHED      5000       True   \n",
       "14657106dc0f4a4e8db2c2ec96d00177   739593  FINISHED      5000       True   \n",
       "5601abf43be548ab9dc3b232f21549e3   746115  FINISHED      5000       True   \n",
       "\n",
       "                                 replace_emot remove_punc replace_unicode  \\\n",
       "run_id                                                                      \n",
       "254888b1fb894692bc2d598d2e4ac265         True        True            True   \n",
       "08745ab48b694ce9b72cb2b6c0cbf419         True        True            True   \n",
       "0781e4b4cb154963b48e03603009abb5         True        True            True   \n",
       "14657106dc0f4a4e8db2c2ec96d00177         True        True            True   \n",
       "5601abf43be548ab9dc3b232f21549e3         True        True            True   \n",
       "\n",
       "                                 replace_abbv stopwords  ...  \\\n",
       "run_id                                                   ...   \n",
       "254888b1fb894692bc2d598d2e4ac265         True      True  ...   \n",
       "08745ab48b694ce9b72cb2b6c0cbf419         True      True  ...   \n",
       "0781e4b4cb154963b48e03603009abb5         True      True  ...   \n",
       "14657106dc0f4a4e8db2c2ec96d00177         True      True  ...   \n",
       "5601abf43be548ab9dc3b232f21549e3         True      True  ...   \n",
       "\n",
       "                                                           mlflow.log-model.history  \\\n",
       "run_id                                                                                \n",
       "254888b1fb894692bc2d598d2e4ac265  [{\"run_id\": \"254888b1fb894692bc2d598d2e4ac265\"...   \n",
       "08745ab48b694ce9b72cb2b6c0cbf419  [{\"run_id\": \"08745ab48b694ce9b72cb2b6c0cbf419\"...   \n",
       "0781e4b4cb154963b48e03603009abb5  [{\"run_id\": \"0781e4b4cb154963b48e03603009abb5\"...   \n",
       "14657106dc0f4a4e8db2c2ec96d00177  [{\"run_id\": \"14657106dc0f4a4e8db2c2ec96d00177\"...   \n",
       "5601abf43be548ab9dc3b232f21549e3  [{\"run_id\": \"5601abf43be548ab9dc3b232f21549e3\"...   \n",
       "\n",
       "                                 val_accuracy test_loss  accuracy  val_loss  \\\n",
       "run_id                                                                        \n",
       "254888b1fb894692bc2d598d2e4ac265     0.614647  0.978832  0.661064  0.970396   \n",
       "08745ab48b694ce9b72cb2b6c0cbf419     0.654860  2.451613  0.981889  2.473191   \n",
       "0781e4b4cb154963b48e03603009abb5     0.683089  2.442696  0.979048  2.490932   \n",
       "14657106dc0f4a4e8db2c2ec96d00177     0.668442  2.453236  0.977686  2.422574   \n",
       "5601abf43be548ab9dc3b232f21549e3     0.680426  2.604576  0.982362  2.427018   \n",
       "\n",
       "                                  test_accuracy validation_split  \\\n",
       "run_id                                                             \n",
       "254888b1fb894692bc2d598d2e4ac265         0.6034              NaN   \n",
       "08745ab48b694ce9b72cb2b6c0cbf419         0.6624              NaN   \n",
       "0781e4b4cb154963b48e03603009abb5         0.6798              NaN   \n",
       "14657106dc0f4a4e8db2c2ec96d00177         0.6648              0.1   \n",
       "5601abf43be548ab9dc3b232f21549e3         0.6570              0.1   \n",
       "\n",
       "                                  reduce_lr_factor reduce_lr_patience  lr  \n",
       "run_id                                                                     \n",
       "254888b1fb894692bc2d598d2e4ac265               NaN                NaN NaN  \n",
       "08745ab48b694ce9b72cb2b6c0cbf419               NaN                NaN NaN  \n",
       "0781e4b4cb154963b48e03603009abb5               NaN                NaN NaN  \n",
       "14657106dc0f4a4e8db2c2ec96d00177               NaN                NaN NaN  \n",
       "5601abf43be548ab9dc3b232f21549e3               NaN                NaN NaN  \n",
       "\n",
       "[5 rows x 54 columns]"
      ]
     },
     "execution_count": 40,
     "metadata": {},
     "output_type": "execute_result"
    }
   ],
   "source": [
    "run_df.head()"
   ]
  },
  {
   "cell_type": "markdown",
   "metadata": {},
   "source": [
    "Evaluate the top model by lowest test loss:"
   ]
  },
  {
   "cell_type": "code",
   "execution_count": 41,
   "metadata": {},
   "outputs": [
    {
     "name": "stdout",
     "output_type": "stream",
     "text": [
      "Top Validation Loss: 0.970101019096374\n",
      "Top Validation Accuracy: 0.61080002784729\n"
     ]
    }
   ],
   "source": [
    "top_model_id = run_df[\"test_loss\"].idxmin()\n",
    "top_model_metrics_df = metrics_df[metrics_df[\"run_id\"] == top_model_id]\n",
    "print(f\"Top Validation Loss: {run_df.loc[top_model_id]['test_loss']}\")\n",
    "print(f\"Top Validation Accuracy: {run_df.loc[top_model_id]['test_accuracy']}\")"
   ]
  },
  {
   "cell_type": "code",
   "execution_count": 42,
   "metadata": {},
   "outputs": [
    {
     "data": {
      "text/plain": [
       "<AxesSubplot:title={'center':'Loss'}, xlabel='step', ylabel='value'>"
      ]
     },
     "execution_count": 42,
     "metadata": {},
     "output_type": "execute_result"
    },
    {
     "data": {
      "image/png": "[encoded data removed]",
      "text/plain": [
       "<Figure size 432x288 with 1 Axes>"
      ]
     },
     "metadata": {
      "needs_background": "light"
     },
     "output_type": "display_data"
    }
   ],
   "source": [
    "plt.title(\"Loss\")\n",
    "sns.lineplot(\n",
    "    data=top_model_metrics_df[\n",
    "        top_model_metrics_df[\"metric\"].isin(\n",
    "            [\n",
    "                \"val_loss\",\n",
    "                \"loss\",\n",
    "            ]\n",
    "        )\n",
    "    ],\n",
    "    x=\"step\",\n",
    "    y=\"value\",\n",
    "    hue=\"metric\",\n",
    ")"
   ]
  },
  {
   "cell_type": "code",
   "execution_count": 43,
   "metadata": {},
   "outputs": [
    {
     "data": {
      "text/plain": [
       "<AxesSubplot:title={'center':'Accuracy'}, xlabel='step', ylabel='value'>"
      ]
     },
     "execution_count": 43,
     "metadata": {},
     "output_type": "execute_result"
    },
    {
     "data": {
      "image/png": "[encoded data removed]",
      "text/plain": [
       "<Figure size 432x288 with 1 Axes>"
      ]
     },
     "metadata": {
      "needs_background": "light"
     },
     "output_type": "display_data"
    }
   ],
   "source": [
    "plt.title(\"Accuracy\")\n",
    "sns.lineplot(\n",
    "    data=top_model_metrics_df[\n",
    "        top_model_metrics_df[\"metric\"].isin(\n",
    "            [\n",
    "                \"val_accuracy\",\n",
    "                \"accuracy\",\n",
    "            ]\n",
    "        )\n",
    "    ],\n",
    "    x=\"step\",\n",
    "    y=\"value\",\n",
    "    hue=\"metric\",\n",
    ")"
   ]
  },
  {
   "cell_type": "markdown",
   "metadata": {},
   "source": [
    "Retrieve model weights of top model:"
   ]
  },
  {
   "cell_type": "code",
   "execution_count": 44,
   "metadata": {},
   "outputs": [],
   "source": [
    "mlflow_cli = MlflowClient()\n",
    "MODELS_DIR = os.path.join(os.getcwd(), \"../models\")\n",
    "os.makedirs(MODELS_DIR, exist_ok=True)"
   ]
  },
  {
   "cell_type": "code",
   "execution_count": 45,
   "metadata": {},
   "outputs": [
    {
     "name": "stdout",
     "output_type": "stream",
     "text": [
      "CPU times: user 796 ms, sys: 17.7 ms, total: 814 ms\n",
      "Wall time: 852 ms\n"
     ]
    }
   ],
   "source": [
    "%%time\n",
    "model_path = mlflow_cli.download_artifacts(\n",
    "    run_id=top_model_id, path=\"models/data/model.h5\"\n",
    ")\n",
    "top_model = load_model(model_path)"
   ]
  },
  {
   "cell_type": "markdown",
   "metadata": {},
   "source": [
    "## Step 4 – Use the Best Model to make prediction"
   ]
  },
  {
   "cell_type": "markdown",
   "metadata": {},
   "source": [
    "Due to system memory constraints the final test text has been prepared together with the rest of the data as the system RAM is simply not large enough to host both the model's weights and the fasttext vectors needed for preprocessing.\n",
    "\n",
    "Here is the text used for reference:\n",
    "> \"I missed him more than anything ️ @ Washington State University\\n\""
   ]
  },
  {
   "cell_type": "code",
   "execution_count": 46,
   "metadata": {},
   "outputs": [
    {
     "name": "stdout",
     "output_type": "stream",
     "text": [
      "Predict Emoji:  ❤\n"
     ]
    }
   ],
   "source": [
    "print(\n",
    "    \"Predict Emoji: \",\n",
    "    emoji_dictionary[top_model.predict(final_test_text_vecs).argmax()],\n",
    ")"
   ]
  },
  {
   "cell_type": "markdown",
   "metadata": {},
   "source": [
    "# References\n",
    "- [1] Failure of Classification Accuracy for Imbalanced Class Distributions. (2021, January 21). Retrieved from https://machinelearningmastery.com/failure-of-accuracy-for-imbalanced-class-distributions  \n",
    "- [2] sudalairajkumar. (2019). Getting started with Text Preprocessing. Kaggle. Retrieved from https://www.kaggle.com/sudalairajkumar/getting-started-with-text-preprocessing\n",
    "- [3] RaRe-Technologies. (2021, January 28). gensim. Retrieved from https://github.com/RaRe-Technologies/gensim/blob/ba1ce894a5192fc493a865c535202695bb3c0424/docs/notebooks/Word2Vec_FastText_Comparison.ipynb\n",
    "- [4] Symeonidis, S., Effrosynidis, D., & Arampatzis, A. (2018). A comparative evaluation of pre-processing techniques and their interactions for twitter sentiment analysis. Expert Syst. Appl., 110, 298–310. doi: 10.1016/j.eswa.2018.06.022\n",
    "- [5] is it possible Apply PCA on any Text Classification? (2021, January 31). Retrieved from https://stackoverflow.com/questions/34725726/is-it-possible-apply-pca-on-any-text-classification\n",
    "- [6] facebookresearch. (2021, February 01). fastText. Retrieved from https://github.com/facebookresearch/fastText/blob/master/docs/pretrained-vectors.md\n",
    "- [7] Badr, W. (2020). Having an Imbalanced Dataset? Here Is How You Can Fix It. Towards Data Science. Retrieved from https://towardsdatascience.com/having-an-imbalanced-dataset-here-is-how-you-can-solve-it-1640568947eb"
   ]
  }
 ],
 "metadata": {
  "kernelspec": {
   "display_name": "Python 3",
   "language": "python",
   "name": "python3"
  },
  "kubeflow_notebook": {
   "autosnapshot": false,
   "docker_image": "core.harbor.mrzzy.co/kf-jupyter/tf-gpu-dl-plugged:0.4.0",
   "experiment": {
    "id": "new",
    "name": "test2"
   },
   "experiment_name": "test2",
   "katib_metadata": {
    "algorithm": {
     "algorithmName": "grid"
    },
    "maxFailedTrialCount": 3,
    "maxTrialCount": 12,
    "objective": {
     "objectiveMetricName": "",
     "type": "minimize"
    },
    "parallelTrialCount": 3,
    "parameters": []
   },
   "katib_run": false,
   "pipeline_description": "",
   "pipeline_name": "test",
   "snapshot_volumes": false,
   "steps_defaults": [
    "label:uses-minio:true",
    "label:uses-mlflow:true"
   ],
   "volume_access_mode": "rwm",
   "volumes": []
  },
  "language_info": {
   "codemirror_mode": {
    "name": "ipython",
    "version": 3
   },
   "file_extension": ".py",
   "mimetype": "text/x-python",
   "name": "python",
   "nbconvert_exporter": "python",
   "pygments_lexer": "ipython3",
   "version": "3.6.9"
  },
  "toc-autonumbering": false,
  "toc-showmarkdowntxt": true,
  "toc-showtags": false
 },
 "nbformat": 4,
 "nbformat_minor": 4
}
