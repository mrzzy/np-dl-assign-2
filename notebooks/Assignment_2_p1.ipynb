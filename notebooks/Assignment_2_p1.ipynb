{
 "cells": [
  {
   "cell_type": "markdown",
   "metadata": {},
   "source": [
    "<table class=\"table table-bordered\">\n",
    "    <tr>\n",
    "        <th style=\"text-align:center; width:25%\"><img src='https://www.np.edu.sg/PublishingImages/Pages/default/odp/ICT.jpg' style=\"width: 250px; height: 125px; \"></th>\n",
    "        <th style=\"text-align:center;\"><h1>Deep Learning</h1><h2>Assignment 2 - Sentiment Analysis Model (Problem 1)</h2><h3>AY2020/21 Semester</h3></th>\n",
    "    </tr>\n",
    "</table>"
   ]
  },
  {
   "cell_type": "markdown",
   "metadata": {},
   "source": [
    "Objective: Build a sentiment analysis model to predict the emoticon for each text input. \n"
   ]
  },
  {
   "cell_type": "code",
   "execution_count": 1,
   "metadata": {},
   "outputs": [],
   "source": [
    "DATA_DIR = \"../data\""
   ]
  },
  {
   "cell_type": "code",
   "execution_count": 2,
   "metadata": {},
   "outputs": [
    {
     "name": "stderr",
     "output_type": "stream",
     "text": [
      "/usr/local/lib/python3.6/dist-packages/spacy/util.py:275: UserWarning: [W031] Model 'en_core_web_sm' (2.1.0) requires spaCy v2.1 and is incompatible with the current spaCy version (2.3.5). This may lead to unexpected results or runtime errors. To resolve this, download a newer compatible model or retrain your custom model with the current spaCy version. For more details and available updates, run: python -m spacy validate\n",
      "  warnings.warn(warn_msg)\n"
     ]
    }
   ],
   "source": [
    "# autoformat code on cell run.\n",
    "%load_ext lab_black\n",
    "# Import the Required Packages\n",
    "import os\n",
    "import mlflow\n",
    "import requests\n",
    "import numpy as np\n",
    "import pandas as pd\n",
    "import seaborn as sns\n",
    "import matplotlib\n",
    "import matplotlib.pyplot as pl\n",
    "\n",
    "from git import Repo\n",
    "from textblob import TextBlob\n",
    "from emot import emoji, emoticons\n",
    "from nlpre import replace_from_dictionary\n",
    "from zipfile import ZipFile\n",
    "from sklearn.model_selection import train_test_split\n",
    "from gensim.parsing.preprocessing import remove_stopwords, strip_punctuation, stem_text"
   ]
  },
  {
   "cell_type": "markdown",
   "metadata": {},
   "source": [
    "Configure access to MLFlow by setting the following environment variables:\n",
    "- `MLFLOW_TRACKING_URI` - URL to the MLFlow Tracking server.\n",
    "- `MLFLOW_S3_ENDPOINT_URL` - URL to the MLFlow S3 Backend Store\n",
    "- `MLFLOW_EXPERIMENT` - Optional. The name of the MLFlow experiment to log to.\n",
    "- `AWS_ACCESS_KEY_ID` - MLFlow S3 backend store Access Key ID.\n",
    "- `AWS_SECRET_ACCESS_KEY` - MLFlow S3 backend store secret access key."
   ]
  },
  {
   "cell_type": "markdown",
   "metadata": {},
   "source": [
    "`TF_FORCE_GPU_ALLOW_GROWTH` -  Force Tensorflow to allocate GPU memory dynamically\n",
    "instead of of all at once as a workaround for this\n",
    "[cuDNN failed to initialize issue](https://github.com/tensorflow/tensorflow/issues/24828)."
   ]
  },
  {
   "cell_type": "code",
   "execution_count": 3,
   "metadata": {},
   "outputs": [
    {
     "name": "stdout",
     "output_type": "stream",
     "text": [
      "env: TF_FORCE_GPU_ALLOW_GROWTH=true\n"
     ]
    }
   ],
   "source": [
    "%env TF_FORCE_GPU_ALLOW_GROWTH=true"
   ]
  },
  {
   "cell_type": "markdown",
   "metadata": {},
   "source": [
    "Start MLFlow run with the name of the commit as fthe run name."
   ]
  },
  {
   "cell_type": "code",
   "execution_count": 4,
   "metadata": {},
   "outputs": [],
   "source": [
    "mlflow.set_experiment(os.environ.get(\"MLFLOW_EXPERIMENT\", \"staging\"))"
   ]
  },
  {
   "cell_type": "code",
   "execution_count": 5,
   "metadata": {},
   "outputs": [
    {
     "data": {
      "text/plain": [
       "<ActiveRun: >"
      ]
     },
     "execution_count": 5,
     "metadata": {},
     "output_type": "execute_result"
    }
   ],
   "source": [
    "repo = Repo(search_parent_directories=True)\n",
    "mlflow.start_run(run_name=repo.head.commit.message)"
   ]
  },
  {
   "cell_type": "markdown",
   "metadata": {},
   "source": [
    "# Step 1 – Data Loading and Processing"
   ]
  },
  {
   "cell_type": "markdown",
   "metadata": {},
   "source": [
    "### 1.1 Data Loading"
   ]
  },
  {
   "cell_type": "code",
   "execution_count": 6,
   "metadata": {},
   "outputs": [
    {
     "name": "stdout",
     "output_type": "stream",
     "text": [
      "{0: '😍', 1: '😂', 2: '📷', 3: '🔥', 4: '❤'}\n",
      "A total of:  5 Emoji Icons\n"
     ]
    }
   ],
   "source": [
    "# Load the emoji_dictionary\n",
    "df = pd.read_csv(f\"{DATA_DIR}/mapping.csv\", delimiter=\",\")\n",
    "emoji_dictionary = df.loc[:, \"emoticons\"].to_dict()\n",
    "print(emoji_dictionary)\n",
    "print(\"A total of: \", len(emoji_dictionary), \"Emoji Icons\")"
   ]
  },
  {
   "cell_type": "markdown",
   "metadata": {},
   "source": [
    "Since the emojis can't be rendered in some situations such as graph plotting, create a mapping for the labels to emoji nameategorical types for the grouping variables to control the order of plot elements."
   ]
  },
  {
   "cell_type": "code",
   "execution_count": 7,
   "metadata": {},
   "outputs": [],
   "source": [
    "emoji_names = {\n",
    "    0: \"heart-eyes\",\n",
    "    1: \"crying-laughing\",\n",
    "    2: \"camera\",\n",
    "    3: \"fire\",\n",
    "    4: \"heart\",\n",
    "}"
   ]
  },
  {
   "cell_type": "code",
   "execution_count": 8,
   "metadata": {},
   "outputs": [],
   "source": [
    "# load the dataset\n",
    "df = pd.read_csv(f\"{DATA_DIR}/dataset.csv\", delimiter=\",\")\n",
    "texts = df.loc[:, \"TEXT\"].values\n",
    "labels = df.loc[:, \"Label\"].values"
   ]
  },
  {
   "cell_type": "code",
   "execution_count": 9,
   "metadata": {},
   "outputs": [
    {
     "name": "stdout",
     "output_type": "stream",
     "text": [
      "the maximum length of the text inputs is  34\n"
     ]
    }
   ],
   "source": [
    "# Check the maximum length of texts\n",
    "max_len = -1\n",
    "for example in texts:\n",
    "    if len(example.split()) > max_len:\n",
    "        max_len = len(example.split())\n",
    "\n",
    "print(\"the maximum length of the text inputs is \", max_len)"
   ]
  },
  {
   "cell_type": "markdown",
   "metadata": {},
   "source": [
    "### 1.2 EDA"
   ]
  },
  {
   "cell_type": "markdown",
   "metadata": {},
   "source": [
    "View the first 5 rows of data:"
   ]
  },
  {
   "cell_type": "code",
   "execution_count": 10,
   "metadata": {},
   "outputs": [
    {
     "data": {
      "text/html": [
       "<div>\n",
       "<style scoped>\n",
       "    .dataframe tbody tr th:only-of-type {\n",
       "        vertical-align: middle;\n",
       "    }\n",
       "\n",
       "    .dataframe tbody tr th {\n",
       "        vertical-align: top;\n",
       "    }\n",
       "\n",
       "    .dataframe thead th {\n",
       "        text-align: right;\n",
       "    }\n",
       "</style>\n",
       "<table border=\"1\" class=\"dataframe\">\n",
       "  <thead>\n",
       "    <tr style=\"text-align: right;\">\n",
       "      <th></th>\n",
       "      <th>TEXT</th>\n",
       "      <th>Label</th>\n",
       "    </tr>\n",
       "  </thead>\n",
       "  <tbody>\n",
       "    <tr>\n",
       "      <th>0</th>\n",
       "      <td>Been friends since 7th grade. Look at us now w...</td>\n",
       "      <td>0</td>\n",
       "    </tr>\n",
       "    <tr>\n",
       "      <th>1</th>\n",
       "      <td>This is what it looks like when someone loves ...</td>\n",
       "      <td>1</td>\n",
       "    </tr>\n",
       "    <tr>\n",
       "      <th>2</th>\n",
       "      <td>RT @user this white family was invited to a Bl...</td>\n",
       "      <td>1</td>\n",
       "    </tr>\n",
       "    <tr>\n",
       "      <th>3</th>\n",
       "      <td>Westenders @user #LAZzNation @ Weston, Toronto\\n</td>\n",
       "      <td>2</td>\n",
       "    </tr>\n",
       "    <tr>\n",
       "      <th>4</th>\n",
       "      <td>Maxwell heads home @ Summa Akron City Hospital\\n</td>\n",
       "      <td>0</td>\n",
       "    </tr>\n",
       "  </tbody>\n",
       "</table>\n",
       "</div>"
      ],
      "text/plain": [
       "                                                TEXT  Label\n",
       "0  Been friends since 7th grade. Look at us now w...      0\n",
       "1  This is what it looks like when someone loves ...      1\n",
       "2  RT @user this white family was invited to a Bl...      1\n",
       "3   Westenders @user #LAZzNation @ Weston, Toronto\\n      2\n",
       "4   Maxwell heads home @ Summa Akron City Hospital\\n      0"
      ]
     },
     "execution_count": 10,
     "metadata": {},
     "output_type": "execute_result"
    }
   ],
   "source": [
    "df.head()"
   ]
  },
  {
   "cell_type": "markdown",
   "metadata": {},
   "source": [
    "Splice in actual emojis and names to make the data easier to grasp than raw number labels:"
   ]
  },
  {
   "cell_type": "code",
   "execution_count": 11,
   "metadata": {},
   "outputs": [
    {
     "data": {
      "text/html": [
       "<div>\n",
       "<style scoped>\n",
       "    .dataframe tbody tr th:only-of-type {\n",
       "        vertical-align: middle;\n",
       "    }\n",
       "\n",
       "    .dataframe tbody tr th {\n",
       "        vertical-align: top;\n",
       "    }\n",
       "\n",
       "    .dataframe thead th {\n",
       "        text-align: right;\n",
       "    }\n",
       "</style>\n",
       "<table border=\"1\" class=\"dataframe\">\n",
       "  <thead>\n",
       "    <tr style=\"text-align: right;\">\n",
       "      <th></th>\n",
       "      <th>TEXT</th>\n",
       "      <th>Label</th>\n",
       "      <th>Emoji</th>\n",
       "      <th>EmojiName</th>\n",
       "    </tr>\n",
       "  </thead>\n",
       "  <tbody>\n",
       "    <tr>\n",
       "      <th>0</th>\n",
       "      <td>Been friends since 7th grade. Look at us now w...</td>\n",
       "      <td>0</td>\n",
       "      <td>😍</td>\n",
       "      <td>heart-eyes</td>\n",
       "    </tr>\n",
       "    <tr>\n",
       "      <th>1</th>\n",
       "      <td>This is what it looks like when someone loves ...</td>\n",
       "      <td>1</td>\n",
       "      <td>😂</td>\n",
       "      <td>crying-laughing</td>\n",
       "    </tr>\n",
       "    <tr>\n",
       "      <th>2</th>\n",
       "      <td>RT @user this white family was invited to a Bl...</td>\n",
       "      <td>1</td>\n",
       "      <td>😂</td>\n",
       "      <td>crying-laughing</td>\n",
       "    </tr>\n",
       "    <tr>\n",
       "      <th>3</th>\n",
       "      <td>Westenders @user #LAZzNation @ Weston, Toronto\\n</td>\n",
       "      <td>2</td>\n",
       "      <td>📷</td>\n",
       "      <td>camera</td>\n",
       "    </tr>\n",
       "    <tr>\n",
       "      <th>4</th>\n",
       "      <td>Maxwell heads home @ Summa Akron City Hospital\\n</td>\n",
       "      <td>0</td>\n",
       "      <td>😍</td>\n",
       "      <td>heart-eyes</td>\n",
       "    </tr>\n",
       "  </tbody>\n",
       "</table>\n",
       "</div>"
      ],
      "text/plain": [
       "                                                TEXT  Label Emoji  \\\n",
       "0  Been friends since 7th grade. Look at us now w...      0     😍   \n",
       "1  This is what it looks like when someone loves ...      1     😂   \n",
       "2  RT @user this white family was invited to a Bl...      1     😂   \n",
       "3   Westenders @user #LAZzNation @ Weston, Toronto\\n      2     📷   \n",
       "4   Maxwell heads home @ Summa Akron City Hospital\\n      0     😍   \n",
       "\n",
       "         EmojiName  \n",
       "0       heart-eyes  \n",
       "1  crying-laughing  \n",
       "2  crying-laughing  \n",
       "3           camera  \n",
       "4       heart-eyes  "
      ]
     },
     "execution_count": 11,
     "metadata": {},
     "output_type": "execute_result"
    }
   ],
   "source": [
    "df[\"Emoji\"] = df[\"Label\"].map(emoji_dictionary)\n",
    "df[\"EmojiName\"] = df[\"Label\"].map(emoji_names)\n",
    "df.head()"
   ]
  },
  {
   "cell_type": "markdown",
   "metadata": {},
   "source": [
    "Visualise the distribution of the data examples for each Emoji to check for class imbalance:\n"
   ]
  },
  {
   "cell_type": "code",
   "execution_count": 12,
   "metadata": {},
   "outputs": [
    {
     "data": {
      "text/plain": [
       "<seaborn.axisgrid.FacetGrid at 0x7f9c59180e10>"
      ]
     },
     "execution_count": 12,
     "metadata": {},
     "output_type": "execute_result"
    },
    {
     "data": {
      "image/png": "[encoded data removed]",
      "text/plain": [
       "<Figure size 640x360 with 1 Axes>"
      ]
     },
     "metadata": {
      "needs_background": "light"
     },
     "output_type": "display_data"
    }
   ],
   "source": [
    "sns.catplot(kind=\"count\", data=df, y=\"EmojiName\", aspect=16 / 9)"
   ]
  },
  {
   "cell_type": "code",
   "execution_count": 13,
   "metadata": {},
   "outputs": [
    {
     "data": {
      "text/plain": [
       "❤    18043\n",
       "😍     8537\n",
       "😂     8247\n",
       "🔥     5223\n",
       "📷     2496\n",
       "Name: Emoji, dtype: int64"
      ]
     },
     "execution_count": 13,
     "metadata": {},
     "output_type": "execute_result"
    }
   ],
   "source": [
    "df[\"Emoji\"].value_counts()"
   ]
  },
  {
   "cell_type": "markdown",
   "metadata": {},
   "source": [
    "Observations:\n",
    "- The disparty between the number of examples between the different Emojis show a significant class imbalance.\n",
    "- Metrics such as accuracy will not produce accurate results until the class imbalance issue is resolved. [[1]](https://machinelearningmastery.com/failure-of-accuracy-for-imbalanced-class-distributions/)"
   ]
  },
  {
   "cell_type": "markdown",
   "metadata": {},
   "source": [
    "Glancing through the data examples, one can make the following observations about the data:\n",
    "- Although there are no Emojis used in the data, emoticons such as `:)` or `:(` are present in the text data.\n",
    "- Common contractions ie `w/` to represent `with` are present in the text data.\n",
    "- Stylised words such as `O B E S S E D` will need to be converted its normal `obsessed` equavilent\n",
    "- Location words seem highly indicative that the class should be a 📷\n",
    "- The dataset mentions many locations in the US, as such state contractions such as NY for New York, LA for Los Angles can be safely expanded."
   ]
  },
  {
   "cell_type": "markdown",
   "metadata": {},
   "source": [
    "### 1.2 Data Processing\n"
   ]
  },
  {
   "cell_type": "markdown",
   "metadata": {},
   "source": [
    "Split the data to train/test subsets reserve 1000 examples for the test set:"
   ]
  },
  {
   "cell_type": "code",
   "execution_count": 14,
   "metadata": {},
   "outputs": [],
   "source": [
    "n_test = 5000\n",
    "mlflow.log_param(\"test_size\", n_test)\n",
    "# Split the X & y into train and test set\n",
    "train_texts, test_texts, train_labels, test_labels = train_test_split(\n",
    "    df[\"TEXT\"], df[\"Label\"], test_size=n_test\n",
    ")"
   ]
  },
  {
   "cell_type": "markdown",
   "metadata": {},
   "source": [
    "Cleaning text data [[2]](https://www.kaggle.com/sudalairajkumar/getting-started-with-text-preprocessing) [[4]](https://www.sciencedirect.com/science/article/abs/pii/S0957417418303683)\n",
    "- `lower_case` - Convert all text tokens to lower case so that `Happy` and `happy` will appear the same to the model.\n",
    "- `replace_emot` - Replace emoticons such `:)` with their textual equvilent `happy`.\n",
    "- `remove_punc` - Remove punctuations such that `yes!` and `yes` would appear the same to model. Also removes trailing newlines.\n",
    "- `replace_abbv` - Replace common abbreviations and contractions by by look up their full forms. Uses [slang.txt](https://raw.githubusercontent.com/Deffro/text-preprocessing-techniques/master/slang.txt)\n",
    "- `stopwords` - Removal of stopwords: meaningless words such as `the`, `a`, that are likely irrelevant to prediction.\n",
    "- `stemming` - Remove inflections from words (ie jump**ing**, jump**ed**, jump**s**,) by steming them. Mutually exclusive with `lemmatization`. Implies `lower_case`.\n",
    "- `lemmatization` - Remove inflections from words by looking up the word's lemma. Mutually exclusive with `stemming`.\n",
    "- TODO: remove numbers"
   ]
  },
  {
   "cell_type": "code",
   "execution_count": 15,
   "metadata": {},
   "outputs": [],
   "source": [
    "def replace(text, mapping):\n",
    "    \"\"\"Replace words in the text that match the key in the mapping dict with its value\"\"\"\n",
    "    for word in TextBlob(text).words:\n",
    "        word = str(word)\n",
    "        if word in mapping:\n",
    "            text = text.replace(word, mapping[word])\n",
    "    return text"
   ]
  },
  {
   "cell_type": "markdown",
   "metadata": {},
   "source": [
    "Download corpora for replacing abbrevations"
   ]
  },
  {
   "cell_type": "code",
   "execution_count": 16,
   "metadata": {},
   "outputs": [
    {
     "name": "stdout",
     "output_type": "stream",
     "text": [
      "--2021-01-31 10:13:17--  https://raw.githubusercontent.com/Deffro/text-preprocessing-techniques/master/slang.txt\n",
      "Resolving raw.githubusercontent.com (raw.githubusercontent.com)... 151.101.8.133\n",
      "Connecting to raw.githubusercontent.com (raw.githubusercontent.com)|151.101.8.133|:443... connected.\n",
      "HTTP request sent, awaiting response... 200 OK\n",
      "Length: 5181 (5.1K) [text/plain]\n",
      "Saving to: ‘slang.txt’\n",
      "\n",
      "slang.txt           100%[===================>]   5.06K  --.-KB/s    in 0s      \n",
      "\n",
      "2021-01-31 10:13:17 (73.9 MB/s) - ‘slang.txt’ saved [5181/5181]\n",
      "\n"
     ]
    }
   ],
   "source": [
    "!wget https://raw.githubusercontent.com/Deffro/text-preprocessing-techniques/master/slang.txt -O slang.txt"
   ]
  },
  {
   "cell_type": "code",
   "execution_count": 17,
   "metadata": {},
   "outputs": [
    {
     "name": "stdout",
     "output_type": "stream",
     "text": [
      "--2021-01-31 10:13:17--  https://gist.githubusercontent.com/rugbyprof/76575b470b6772ce8fa0c49e23931d97/raw/eb731ce40f9c7c032f4db42e96889a3adbe54f8e/states.py\n",
      "Resolving gist.githubusercontent.com (gist.githubusercontent.com)... 151.101.8.133\n",
      "Connecting to gist.githubusercontent.com (gist.githubusercontent.com)|151.101.8.133|:443... connected.\n",
      "HTTP request sent, awaiting response... 200 OK\n",
      "Length: 1091 (1.1K) [text/plain]\n",
      "Saving to: ‘states.py’\n",
      "\n",
      "states.py           100%[===================>]   1.07K  --.-KB/s    in 0s      \n",
      "\n",
      "2021-01-31 10:13:17 (126 MB/s) - ‘states.py’ saved [1091/1091]\n",
      "\n"
     ]
    }
   ],
   "source": [
    "!wget https://gist.githubusercontent.com/rugbyprof/76575b470b6772ce8fa0c49e23931d97/raw/eb731ce40f9c7c032f4db42e96889a3adbe54f8e/states.py -O states.py"
   ]
  },
  {
   "cell_type": "code",
   "execution_count": 18,
   "metadata": {},
   "outputs": [],
   "source": [
    "clean_params = {\n",
    "    \"lower_case\": True,\n",
    "    \"replace_emot\": True,\n",
    "    \"remove_punc\": True,\n",
    "    \"replace_abbv\": True,\n",
    "    \"stopwords\": True,\n",
    "    \"stemming\": False,\n",
    "    \"lemmatization\": True,\n",
    "}\n",
    "mlflow.log_params(clean_params)"
   ]
  },
  {
   "cell_type": "code",
   "execution_count": 19,
   "metadata": {},
   "outputs": [],
   "source": [
    "from states import states as states_map\n",
    "\n",
    "\n",
    "def clean_texts(texts, clean_params=clean_params):\n",
    "    \"\"\"Cleans the given texts applying clean techniques specified in clean_params\n",
    "    Returns:\n",
    "        The given texts with clean techniques applied\n",
    "    \"\"\"\n",
    "    # check mutually exclusive parameters\n",
    "    assert not (clean_params[\"stemming\"] and clean_params[\"lemmatization\"])\n",
    "\n",
    "    # apply cleaning techniques on copy of dataframe\n",
    "    if clean_params[\"lower_case\"]:\n",
    "        texts = np.asarray([t.lower() for t in texts])\n",
    "\n",
    "    if clean_params[\"replace_emot\"]:\n",
    "\n",
    "        def replace_emot(text):\n",
    "            # replace emoticons with meaning if present\n",
    "            results = emoticons(text)\n",
    "            if results[\"flag\"]:\n",
    "                n_emoticons = len(results[\"value\"])\n",
    "                for location, meaning in zip(results[\"location\"], results[\"mean\"]):\n",
    "                    start, end = location\n",
    "                    # fix \"andry\" spelling mistake\n",
    "                    # https://github.com/NeelShah18/emot/pull/19/files\n",
    "                    meaning = meaning.replace(\"andry\", \"angry\")\n",
    "                    text = f\"{text[:start]} {meaning} {text[end+1:]}\"\n",
    "            return text\n",
    "\n",
    "        texts = np.asarray([replace_emot(t) for t in texts])\n",
    "\n",
    "    if clean_params[\"remove_punc\"]:\n",
    "        # … not recognized as puncuation, so remove it manually\n",
    "        texts = np.asarray(\n",
    "            [strip_punctuation(t.rstrip().replace(\"…\", \"\")) for t in texts]\n",
    "        )\n",
    "\n",
    "    if clean_params[\"replace_abbv\"]:\n",
    "        # use utf-sig to fix escape characters\n",
    "        with open(\"slang.txt\", \"r\", encoding=\"utf-8-sig\") as f:\n",
    "            lines = f.readlines()\n",
    "        abbv_pairs = [tuple(line.split(maxsplit=1)) for line in lines]\n",
    "        # remove trailing newlines\n",
    "        abbv_map = {\n",
    "            # \\xa0 - for some reason latin spaces are present, replace with normal spaces.\n",
    "            abbv: full.rstrip().replace(\"\\xa0\", \"\")\n",
    "            for abbv, full in abbv_pairs\n",
    "        }\n",
    "        # additional abbrevation entries\n",
    "        abbv_map.update(\n",
    "            {\n",
    "                \"em\": \"them\",\n",
    "                \"v\": \"very\",\n",
    "            }\n",
    "        )\n",
    "        # expand  US state abbrevations\n",
    "        abbv_map.update(\n",
    "            {code.lower(): name.lower() for code, name in states_map.items()}\n",
    "        )\n",
    "        texts = np.asarray([replace(t, abbv_map) for t in texts])\n",
    "\n",
    "    if clean_params[\"stopwords\"]:\n",
    "        texts = np.asarray([remove_stopwords(t) for t in texts])\n",
    "    if clean_params[\"stemming\"]:\n",
    "        texts = np.asarray([stem_text(t) for t in texts])\n",
    "    if clean_params[\"lemmatization\"]:\n",
    "\n",
    "        def lemmatize(text):\n",
    "            lemma_map = {str(w): w.lemmatize() for w in TextBlob(text).words}\n",
    "            return replace(text, lemma_map)\n",
    "\n",
    "        texts = np.asarray([lemmatize(t) for t in texts])\n",
    "\n",
    "    return texts"
   ]
  },
  {
   "cell_type": "code",
   "execution_count": 20,
   "metadata": {},
   "outputs": [
    {
     "name": "stdout",
     "output_type": "stream",
     "text": [
      "CPU times: user 20.6 s, sys: 129 ms, total: 20.7 s\n",
      "Wall time: 20.7 s\n"
     ]
    }
   ],
   "source": [
    "%%time\n",
    "clean_train_texts = clean_texts(train_texts, clean_params)\n",
    "clean_test_texts = clean_texts(test_texts, clean_params)"
   ]
  },
  {
   "cell_type": "markdown",
   "metadata": {},
   "source": [
    "Converting text into vectors:\n",
    "- `one_hot` - one hot encoding of the word vector data, acts as baseline.\n",
    "- `fasttext_pretrained` - pretrained fasttext vectors\n",
    "- `fasttext` - fastext vectors trained on our dataset.\n",
    "- `doc2vec`- doc2vec vectors trained on our dataset.\n",
    "- `doc2vec_preatrained`- doc2vec pretrained vectors.\n",
    "- `lexvec` - LexVec vectors trained on our dataset.\n",
    "- `lexvec_pretrained` - LexVec retrained vectors.\n",
    "\n",
    "> Out of interests of time, `word2vec` is not included as`word2vec` vectors are significantly worst as compared to `fasttext` [[3]](https://github.com/RaRe-Technologies/gensim/blob/ba1ce894a5192fc493a865c535202695bb3c0424/docs/notebooks/Word2Vec_FastText_Comparison.ipynb)"
   ]
  },
  {
   "cell_type": "code",
   "execution_count": 21,
   "metadata": {},
   "outputs": [],
   "source": [
    "# Convert the texts and labels into numeric tensors"
   ]
  },
  {
   "cell_type": "markdown",
   "metadata": {},
   "source": [
    "### 1.3 Data Sampling"
   ]
  },
  {
   "cell_type": "markdown",
   "metadata": {},
   "source": [
    "To combat the class imbalance issue we have a couple of options:\n",
    "- `oversample` : Use Random Oversampling to duplicate the data examples for Emojis smaller no. of examples to match the majority class.\n",
    "- `undersample`: Use Random Undersampling to undersample the data examples for the Majority Emoji cass to match the minority class.\n",
    "- `SMOTE`: Interpolate new systhesised training examples\n",
    "- TODO: continue"
   ]
  },
  {
   "cell_type": "markdown",
   "metadata": {},
   "source": [
    "## Step 2 – Develop a Sentiment Analysis Model"
   ]
  },
  {
   "cell_type": "markdown",
   "metadata": {},
   "source": [
    "### Model #1"
   ]
  },
  {
   "cell_type": "code",
   "execution_count": 22,
   "metadata": {},
   "outputs": [],
   "source": [
    "# Build the Model"
   ]
  },
  {
   "cell_type": "code",
   "execution_count": 23,
   "metadata": {},
   "outputs": [],
   "source": [
    "# Train the Model"
   ]
  },
  {
   "cell_type": "code",
   "execution_count": 24,
   "metadata": {},
   "outputs": [],
   "source": [
    "# Plot the Training and Validation Accuracy & Loss Scores"
   ]
  },
  {
   "cell_type": "code",
   "execution_count": 25,
   "metadata": {},
   "outputs": [],
   "source": [
    "# Save the Model\n",
    "# model.save('text_model_1.h5')"
   ]
  },
  {
   "cell_type": "markdown",
   "metadata": {},
   "source": [
    "### Model #2"
   ]
  },
  {
   "cell_type": "code",
   "execution_count": 26,
   "metadata": {},
   "outputs": [],
   "source": [
    "# Build the Model"
   ]
  },
  {
   "cell_type": "code",
   "execution_count": 27,
   "metadata": {},
   "outputs": [],
   "source": [
    "# Train the Model"
   ]
  },
  {
   "cell_type": "code",
   "execution_count": 28,
   "metadata": {},
   "outputs": [],
   "source": [
    "# Plot the Training and Validation Accuracy & Loss Scores"
   ]
  },
  {
   "cell_type": "code",
   "execution_count": 29,
   "metadata": {},
   "outputs": [],
   "source": [
    "# Save the Model\n",
    "# model.save('text_model_2.h5')"
   ]
  },
  {
   "cell_type": "markdown",
   "metadata": {},
   "source": [
    "## Step 3 – Evaluate the Model using Testing Data "
   ]
  },
  {
   "cell_type": "code",
   "execution_count": 30,
   "metadata": {},
   "outputs": [],
   "source": [
    "# Model #1 (replicate where necessary for other models)\n",
    "# model.load_weights('text_model_1.h5')"
   ]
  },
  {
   "cell_type": "code",
   "execution_count": 31,
   "metadata": {},
   "outputs": [],
   "source": [
    "# Save the Best Model\n",
    "# model.save('text_model_best.h5')"
   ]
  },
  {
   "cell_type": "markdown",
   "metadata": {},
   "source": [
    "## Step 4 – Use the Best Model to make prediction"
   ]
  },
  {
   "cell_type": "code",
   "execution_count": 32,
   "metadata": {},
   "outputs": [],
   "source": [
    "# model.load_weights('text_model_best.h5')"
   ]
  },
  {
   "cell_type": "code",
   "execution_count": 33,
   "metadata": {},
   "outputs": [],
   "source": [
    "# takes the user input\n",
    "# text_input = np.array([input()])"
   ]
  },
  {
   "cell_type": "code",
   "execution_count": 34,
   "metadata": {},
   "outputs": [],
   "source": [
    "# convert the user input into numeric tensor"
   ]
  },
  {
   "cell_type": "code",
   "execution_count": 35,
   "metadata": {},
   "outputs": [],
   "source": [
    "# show the model output using predict function"
   ]
  },
  {
   "cell_type": "markdown",
   "metadata": {},
   "source": [
    "# References\n",
    "- [1] Failure of Classification Accuracy for Imbalanced Class Distributions. (2021, January 21). Retrieved from https://machinelearningmastery.com/failure-of-accuracy-for-imbalanced-class-distributions  \n",
    "- [2] sudalairajkumar. (2019). Getting started with Text Preprocessing. Kaggle. Retrieved from https://www.kaggle.com/sudalairajkumar/getting-started-with-text-preprocessing\n",
    "- [3] RaRe-Technologies. (2021, January 28). gensim. Retrieved from https://github.com/RaRe-Technologies/gensim/blob/ba1ce894a5192fc493a865c535202695bb3c0424/docs/notebooks/Word2Vec_FastText_Comparison.ipynb\n",
    "- [4] Symeonidis, S., Effrosynidis, D., & Arampatzis, A. (2018). A comparative evaluation of pre-processing techniques and their interactions for twitter sentiment analysis. Expert Syst. Appl., 110, 298–310. doi: 10.1016/j.eswa.2018.06.022"
   ]
  }
 ],
 "metadata": {
  "kernelspec": {
   "display_name": "Python 3",
   "language": "python",
   "name": "python3"
  },
  "kubeflow_notebook": {
   "autosnapshot": false,
   "docker_image": "core.harbor.mrzzy.co/kf-jupyter/tf-gpu-dl-plugged:0.4.0",
   "experiment": {
    "id": "new",
    "name": "test2"
   },
   "experiment_name": "test2",
   "katib_metadata": {
    "algorithm": {
     "algorithmName": "grid"
    },
    "maxFailedTrialCount": 3,
    "maxTrialCount": 12,
    "objective": {
     "objectiveMetricName": "",
     "type": "minimize"
    },
    "parallelTrialCount": 3,
    "parameters": []
   },
   "katib_run": false,
   "pipeline_description": "",
   "pipeline_name": "test",
   "snapshot_volumes": false,
   "steps_defaults": [
    "label:uses-minio:true",
    "label:uses-mlflow:true"
   ],
   "volume_access_mode": "rwm",
   "volumes": []
  },
  "language_info": {
   "codemirror_mode": {
    "name": "ipython",
    "version": 3
   },
   "file_extension": ".py",
   "mimetype": "text/x-python",
   "name": "python",
   "nbconvert_exporter": "python",
   "pygments_lexer": "ipython3",
   "version": "3.6.9"
  }
 },
 "nbformat": 4,
 "nbformat_minor": 4
}
